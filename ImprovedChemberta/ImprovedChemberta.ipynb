{
  "cells": [
    {
      "cell_type": "markdown",
      "metadata": {
        "id": "Bbs1hMABAgzW"
      },
      "source": [
        "Installation of Required Libraries"
      ]
    },
    {
      "cell_type": "code",
      "execution_count": 1,
      "metadata": {
        "id": "spNQtySxAYIg",
        "colab": {
          "base_uri": "https://localhost:8080/",
          "height": 0
        },
        "outputId": "736dfafc-2b54-4e7b-c2e6-82f3dced104f"
      },
      "outputs": [
        {
          "output_type": "stream",
          "name": "stdout",
          "text": [
            "Requirement already satisfied: shap in /usr/local/lib/python3.11/dist-packages (0.47.2)\n",
            "Collecting optuna\n",
            "  Downloading optuna-4.3.0-py3-none-any.whl.metadata (17 kB)\n",
            "Collecting deepchem\n",
            "  Downloading deepchem-2.8.0-py3-none-any.whl.metadata (2.0 kB)\n",
            "Requirement already satisfied: numpy in /usr/local/lib/python3.11/dist-packages (from shap) (2.0.2)\n",
            "Requirement already satisfied: scipy in /usr/local/lib/python3.11/dist-packages (from shap) (1.15.2)\n",
            "Requirement already satisfied: scikit-learn in /usr/local/lib/python3.11/dist-packages (from shap) (1.6.1)\n",
            "Requirement already satisfied: pandas in /usr/local/lib/python3.11/dist-packages (from shap) (2.2.2)\n",
            "Requirement already satisfied: tqdm>=4.27.0 in /usr/local/lib/python3.11/dist-packages (from shap) (4.67.1)\n",
            "Requirement already satisfied: packaging>20.9 in /usr/local/lib/python3.11/dist-packages (from shap) (24.2)\n",
            "Requirement already satisfied: slicer==0.0.8 in /usr/local/lib/python3.11/dist-packages (from shap) (0.0.8)\n",
            "Requirement already satisfied: numba>=0.54 in /usr/local/lib/python3.11/dist-packages (from shap) (0.60.0)\n",
            "Requirement already satisfied: cloudpickle in /usr/local/lib/python3.11/dist-packages (from shap) (3.1.1)\n",
            "Requirement already satisfied: typing-extensions in /usr/local/lib/python3.11/dist-packages (from shap) (4.13.2)\n",
            "Collecting alembic>=1.5.0 (from optuna)\n",
            "  Downloading alembic-1.15.2-py3-none-any.whl.metadata (7.3 kB)\n",
            "Collecting colorlog (from optuna)\n",
            "  Downloading colorlog-6.9.0-py3-none-any.whl.metadata (10 kB)\n",
            "Requirement already satisfied: sqlalchemy>=1.4.2 in /usr/local/lib/python3.11/dist-packages (from optuna) (2.0.40)\n",
            "Requirement already satisfied: PyYAML in /usr/local/lib/python3.11/dist-packages (from optuna) (6.0.2)\n",
            "Requirement already satisfied: joblib in /usr/local/lib/python3.11/dist-packages (from deepchem) (1.4.2)\n",
            "Requirement already satisfied: sympy in /usr/local/lib/python3.11/dist-packages (from deepchem) (1.13.1)\n",
            "Collecting rdkit (from deepchem)\n",
            "  Downloading rdkit-2025.3.1-cp311-cp311-manylinux_2_28_x86_64.whl.metadata (4.0 kB)\n",
            "Requirement already satisfied: Mako in /usr/lib/python3/dist-packages (from alembic>=1.5.0->optuna) (1.1.3)\n",
            "Requirement already satisfied: llvmlite<0.44,>=0.43.0dev0 in /usr/local/lib/python3.11/dist-packages (from numba>=0.54->shap) (0.43.0)\n",
            "Requirement already satisfied: greenlet>=1 in /usr/local/lib/python3.11/dist-packages (from sqlalchemy>=1.4.2->optuna) (3.2.1)\n",
            "Requirement already satisfied: python-dateutil>=2.8.2 in /usr/local/lib/python3.11/dist-packages (from pandas->shap) (2.9.0.post0)\n",
            "Requirement already satisfied: pytz>=2020.1 in /usr/local/lib/python3.11/dist-packages (from pandas->shap) (2025.2)\n",
            "Requirement already satisfied: tzdata>=2022.7 in /usr/local/lib/python3.11/dist-packages (from pandas->shap) (2025.2)\n",
            "Requirement already satisfied: Pillow in /usr/local/lib/python3.11/dist-packages (from rdkit->deepchem) (11.2.1)\n",
            "Requirement already satisfied: threadpoolctl>=3.1.0 in /usr/local/lib/python3.11/dist-packages (from scikit-learn->shap) (3.6.0)\n",
            "Requirement already satisfied: mpmath<1.4,>=1.1.0 in /usr/local/lib/python3.11/dist-packages (from sympy->deepchem) (1.3.0)\n",
            "Requirement already satisfied: six>=1.5 in /usr/local/lib/python3.11/dist-packages (from python-dateutil>=2.8.2->pandas->shap) (1.17.0)\n",
            "Downloading optuna-4.3.0-py3-none-any.whl (386 kB)\n",
            "\u001b[2K   \u001b[90m━━━━━━━━━━━━━━━━━━━━━━━━━━━━━━━━━━━━━━━━\u001b[0m \u001b[32m386.6/386.6 kB\u001b[0m \u001b[31m7.7 MB/s\u001b[0m eta \u001b[36m0:00:00\u001b[0m\n",
            "\u001b[?25hDownloading deepchem-2.8.0-py3-none-any.whl (1.0 MB)\n",
            "\u001b[2K   \u001b[90m━━━━━━━━━━━━━━━━━━━━━━━━━━━━━━━━━━━━━━━━\u001b[0m \u001b[32m1.0/1.0 MB\u001b[0m \u001b[31m35.1 MB/s\u001b[0m eta \u001b[36m0:00:00\u001b[0m\n",
            "\u001b[?25hDownloading alembic-1.15.2-py3-none-any.whl (231 kB)\n",
            "\u001b[2K   \u001b[90m━━━━━━━━━━━━━━━━━━━━━━━━━━━━━━━━━━━━━━━━\u001b[0m \u001b[32m231.9/231.9 kB\u001b[0m \u001b[31m17.7 MB/s\u001b[0m eta \u001b[36m0:00:00\u001b[0m\n",
            "\u001b[?25hDownloading colorlog-6.9.0-py3-none-any.whl (11 kB)\n",
            "Downloading rdkit-2025.3.1-cp311-cp311-manylinux_2_28_x86_64.whl (34.6 MB)\n",
            "\u001b[2K   \u001b[90m━━━━━━━━━━━━━━━━━━━━━━━━━━━━━━━━━━━━━━━━\u001b[0m \u001b[32m34.6/34.6 MB\u001b[0m \u001b[31m59.7 MB/s\u001b[0m eta \u001b[36m0:00:00\u001b[0m\n",
            "\u001b[?25hInstalling collected packages: rdkit, colorlog, alembic, optuna, deepchem\n",
            "Successfully installed alembic-1.15.2 colorlog-6.9.0 deepchem-2.8.0 optuna-4.3.0 rdkit-2025.3.1\n"
          ]
        }
      ],
      "source": [
        "!pip install shap optuna deepchem"
      ]
    },
    {
      "cell_type": "markdown",
      "metadata": {
        "id": "x0tnBkSizd-k"
      },
      "source": [
        "Import Modules"
      ]
    },
    {
      "cell_type": "code",
      "execution_count": 2,
      "metadata": {
        "id": "DeZ4qrH-Zbn4",
        "colab": {
          "base_uri": "https://localhost:8080/",
          "height": 0
        },
        "outputId": "9560aa5c-6c87-46d7-8159-4d02c9f5c4fc"
      },
      "outputs": [
        {
          "output_type": "stream",
          "name": "stdout",
          "text": [
            "Using device: cuda\n"
          ]
        }
      ],
      "source": [
        "import shap.explainers._deep.deep_utils as deep_utils\n",
        "deep_utils.TOLERANCE = 100.0   # way above your observed ~1.7 max diff\n",
        "import shap\n",
        "import optuna\n",
        "import torch\n",
        "import torch.nn as nn\n",
        "import torch.optim as optim\n",
        "import pandas as pd\n",
        "import numpy as np\n",
        "import matplotlib.pyplot as plt\n",
        "\n",
        "from torch.utils.data import Dataset, DataLoader\n",
        "from transformers import AutoModel, AutoTokenizer, get_cosine_schedule_with_warmup\n",
        "from sklearn.model_selection import KFold, train_test_split\n",
        "from sklearn.preprocessing import LabelEncoder, StandardScaler\n",
        "from sklearn.metrics import mean_absolute_error, mean_squared_error, r2_score\n",
        "from torch.optim import AdamW\n",
        "from optuna.pruners import MedianPruner\n",
        "from math import sqrt\n",
        "from rdkit import Chem\n",
        "\n",
        "device = torch.device('cuda' if torch.cuda.is_available() else 'cpu')\n",
        "print(\"Using device:\", device)"
      ]
    },
    {
      "cell_type": "markdown",
      "metadata": {
        "id": "6VAIwgXlE4Cg"
      },
      "source": [
        "Define Dataset Class"
      ]
    },
    {
      "cell_type": "code",
      "execution_count": 66,
      "metadata": {
        "id": "ZwyUQhsUvU8P",
        "colab": {
          "base_uri": "https://localhost:8080/",
          "height": 442
        },
        "outputId": "2805b988-8883-4e0e-f23b-eeaf602260c9"
      },
      "outputs": [
        {
          "output_type": "stream",
          "name": "stdout",
          "text": [
            "Drive already mounted at /content/drive; to attempt to forcibly remount, call drive.mount(\"/content/drive\", force_remount=True).\n"
          ]
        },
        {
          "output_type": "execute_result",
          "data": {
            "text/plain": [
              "      CitationNumber  Long-acting                   Drug  \\\n",
              "0            9014781          NaN  1-Methy-2-pyrrolidone   \n",
              "1            9014781          NaN  1-Methy-2-pyrrolidone   \n",
              "2            9014781          NaN  1-Methy-2-pyrrolidone   \n",
              "3            9014781          NaN  1-Methy-2-pyrrolidone   \n",
              "4            9014314          NaN          2-Pyrrolidone   \n",
              "...              ...          ...                    ...   \n",
              "1416         9014795          NaN       sulfadimethoxine   \n",
              "1417         9016095          NaN       sulfadimethoxine   \n",
              "1418         9016095          NaN       sulfadimethoxine   \n",
              "1419         9015559          NaN       sulfadimethoxine   \n",
              "1420         9015559          NaN       sulfadimethoxine   \n",
              "\n",
              "                                   Analyte          Route  Matrix   Dose  \\\n",
              "0                    1-Methy-2-pyrrolidone  Intramuscular     Fat  41.32   \n",
              "1                    1-Methy-2-pyrrolidone  Intramuscular  Kidney  41.32   \n",
              "2                    1-Methy-2-pyrrolidone  Intramuscular   Liver  41.32   \n",
              "3                    1-Methy-2-pyrrolidone  Intramuscular  Muscle  41.32   \n",
              "4                            2-Pyrrolidone  Intramuscular    Milk  40.00   \n",
              "...                                    ...            ...     ...    ...   \n",
              "1416  Sulfadimethoxine (acetyl metabolite)    Intravenous   Liver  27.50   \n",
              "1417                      sulfadimethoxine    Intravenous   Serum  55.00   \n",
              "1418                      sulfadimethoxine    Intravenous   Serum  55.00   \n",
              "1419                      sulfadimethoxine           Oral   Serum  25.00   \n",
              "1420                      sulfadimethoxine           Oral   Serum  25.00   \n",
              "\n",
              "      LambdaZHl       CAS  PubChemCID  \\\n",
              "0        192.00  872-50-4       13387   \n",
              "1         92.20  872-50-4       13387   \n",
              "2        111.80  872-50-4       13387   \n",
              "3        101.10  872-50-4       13387   \n",
              "4          8.00  616-45-5       12025   \n",
              "...         ...       ...         ...   \n",
              "1416      17.57  122-11-2        5323   \n",
              "1417      19.95  122-11-2        5323   \n",
              "1418      19.95  122-11-2        5323   \n",
              "1419      15.30  122-11-2        5323   \n",
              "1420      15.30  122-11-2        5323   \n",
              "\n",
              "                                           SMILES  \n",
              "0                                      CN1CCCC1=O  \n",
              "1                                      CN1CCCC1=O  \n",
              "2                                      CN1CCCC1=O  \n",
              "3                                      CN1CCCC1=O  \n",
              "4                                     C1CC(=O)NC1  \n",
              "...                                           ...  \n",
              "1416  COC1=NC(=NC(=C1)NS(=O)(=O)C2=CC=C(C=C2)N)OC  \n",
              "1417  COC1=NC(=NC(=C1)NS(=O)(=O)C2=CC=C(C=C2)N)OC  \n",
              "1418  COC1=NC(=NC(=C1)NS(=O)(=O)C2=CC=C(C=C2)N)OC  \n",
              "1419  COC1=NC(=NC(=C1)NS(=O)(=O)C2=CC=C(C=C2)N)OC  \n",
              "1420  COC1=NC(=NC(=C1)NS(=O)(=O)C2=CC=C(C=C2)N)OC  \n",
              "\n",
              "[1421 rows x 11 columns]"
            ],
            "text/html": [
              "\n",
              "  <div id=\"df-4657e075-0bb9-411b-badb-f660296e4216\" class=\"colab-df-container\">\n",
              "    <div>\n",
              "<style scoped>\n",
              "    .dataframe tbody tr th:only-of-type {\n",
              "        vertical-align: middle;\n",
              "    }\n",
              "\n",
              "    .dataframe tbody tr th {\n",
              "        vertical-align: top;\n",
              "    }\n",
              "\n",
              "    .dataframe thead th {\n",
              "        text-align: right;\n",
              "    }\n",
              "</style>\n",
              "<table border=\"1\" class=\"dataframe\">\n",
              "  <thead>\n",
              "    <tr style=\"text-align: right;\">\n",
              "      <th></th>\n",
              "      <th>CitationNumber</th>\n",
              "      <th>Long-acting</th>\n",
              "      <th>Drug</th>\n",
              "      <th>Analyte</th>\n",
              "      <th>Route</th>\n",
              "      <th>Matrix</th>\n",
              "      <th>Dose</th>\n",
              "      <th>LambdaZHl</th>\n",
              "      <th>CAS</th>\n",
              "      <th>PubChemCID</th>\n",
              "      <th>SMILES</th>\n",
              "    </tr>\n",
              "  </thead>\n",
              "  <tbody>\n",
              "    <tr>\n",
              "      <th>0</th>\n",
              "      <td>9014781</td>\n",
              "      <td>NaN</td>\n",
              "      <td>1-Methy-2-pyrrolidone</td>\n",
              "      <td>1-Methy-2-pyrrolidone</td>\n",
              "      <td>Intramuscular</td>\n",
              "      <td>Fat</td>\n",
              "      <td>41.32</td>\n",
              "      <td>192.00</td>\n",
              "      <td>872-50-4</td>\n",
              "      <td>13387</td>\n",
              "      <td>CN1CCCC1=O</td>\n",
              "    </tr>\n",
              "    <tr>\n",
              "      <th>1</th>\n",
              "      <td>9014781</td>\n",
              "      <td>NaN</td>\n",
              "      <td>1-Methy-2-pyrrolidone</td>\n",
              "      <td>1-Methy-2-pyrrolidone</td>\n",
              "      <td>Intramuscular</td>\n",
              "      <td>Kidney</td>\n",
              "      <td>41.32</td>\n",
              "      <td>92.20</td>\n",
              "      <td>872-50-4</td>\n",
              "      <td>13387</td>\n",
              "      <td>CN1CCCC1=O</td>\n",
              "    </tr>\n",
              "    <tr>\n",
              "      <th>2</th>\n",
              "      <td>9014781</td>\n",
              "      <td>NaN</td>\n",
              "      <td>1-Methy-2-pyrrolidone</td>\n",
              "      <td>1-Methy-2-pyrrolidone</td>\n",
              "      <td>Intramuscular</td>\n",
              "      <td>Liver</td>\n",
              "      <td>41.32</td>\n",
              "      <td>111.80</td>\n",
              "      <td>872-50-4</td>\n",
              "      <td>13387</td>\n",
              "      <td>CN1CCCC1=O</td>\n",
              "    </tr>\n",
              "    <tr>\n",
              "      <th>3</th>\n",
              "      <td>9014781</td>\n",
              "      <td>NaN</td>\n",
              "      <td>1-Methy-2-pyrrolidone</td>\n",
              "      <td>1-Methy-2-pyrrolidone</td>\n",
              "      <td>Intramuscular</td>\n",
              "      <td>Muscle</td>\n",
              "      <td>41.32</td>\n",
              "      <td>101.10</td>\n",
              "      <td>872-50-4</td>\n",
              "      <td>13387</td>\n",
              "      <td>CN1CCCC1=O</td>\n",
              "    </tr>\n",
              "    <tr>\n",
              "      <th>4</th>\n",
              "      <td>9014314</td>\n",
              "      <td>NaN</td>\n",
              "      <td>2-Pyrrolidone</td>\n",
              "      <td>2-Pyrrolidone</td>\n",
              "      <td>Intramuscular</td>\n",
              "      <td>Milk</td>\n",
              "      <td>40.00</td>\n",
              "      <td>8.00</td>\n",
              "      <td>616-45-5</td>\n",
              "      <td>12025</td>\n",
              "      <td>C1CC(=O)NC1</td>\n",
              "    </tr>\n",
              "    <tr>\n",
              "      <th>...</th>\n",
              "      <td>...</td>\n",
              "      <td>...</td>\n",
              "      <td>...</td>\n",
              "      <td>...</td>\n",
              "      <td>...</td>\n",
              "      <td>...</td>\n",
              "      <td>...</td>\n",
              "      <td>...</td>\n",
              "      <td>...</td>\n",
              "      <td>...</td>\n",
              "      <td>...</td>\n",
              "    </tr>\n",
              "    <tr>\n",
              "      <th>1416</th>\n",
              "      <td>9014795</td>\n",
              "      <td>NaN</td>\n",
              "      <td>sulfadimethoxine</td>\n",
              "      <td>Sulfadimethoxine (acetyl metabolite)</td>\n",
              "      <td>Intravenous</td>\n",
              "      <td>Liver</td>\n",
              "      <td>27.50</td>\n",
              "      <td>17.57</td>\n",
              "      <td>122-11-2</td>\n",
              "      <td>5323</td>\n",
              "      <td>COC1=NC(=NC(=C1)NS(=O)(=O)C2=CC=C(C=C2)N)OC</td>\n",
              "    </tr>\n",
              "    <tr>\n",
              "      <th>1417</th>\n",
              "      <td>9016095</td>\n",
              "      <td>NaN</td>\n",
              "      <td>sulfadimethoxine</td>\n",
              "      <td>sulfadimethoxine</td>\n",
              "      <td>Intravenous</td>\n",
              "      <td>Serum</td>\n",
              "      <td>55.00</td>\n",
              "      <td>19.95</td>\n",
              "      <td>122-11-2</td>\n",
              "      <td>5323</td>\n",
              "      <td>COC1=NC(=NC(=C1)NS(=O)(=O)C2=CC=C(C=C2)N)OC</td>\n",
              "    </tr>\n",
              "    <tr>\n",
              "      <th>1418</th>\n",
              "      <td>9016095</td>\n",
              "      <td>NaN</td>\n",
              "      <td>sulfadimethoxine</td>\n",
              "      <td>sulfadimethoxine</td>\n",
              "      <td>Intravenous</td>\n",
              "      <td>Serum</td>\n",
              "      <td>55.00</td>\n",
              "      <td>19.95</td>\n",
              "      <td>122-11-2</td>\n",
              "      <td>5323</td>\n",
              "      <td>COC1=NC(=NC(=C1)NS(=O)(=O)C2=CC=C(C=C2)N)OC</td>\n",
              "    </tr>\n",
              "    <tr>\n",
              "      <th>1419</th>\n",
              "      <td>9015559</td>\n",
              "      <td>NaN</td>\n",
              "      <td>sulfadimethoxine</td>\n",
              "      <td>sulfadimethoxine</td>\n",
              "      <td>Oral</td>\n",
              "      <td>Serum</td>\n",
              "      <td>25.00</td>\n",
              "      <td>15.30</td>\n",
              "      <td>122-11-2</td>\n",
              "      <td>5323</td>\n",
              "      <td>COC1=NC(=NC(=C1)NS(=O)(=O)C2=CC=C(C=C2)N)OC</td>\n",
              "    </tr>\n",
              "    <tr>\n",
              "      <th>1420</th>\n",
              "      <td>9015559</td>\n",
              "      <td>NaN</td>\n",
              "      <td>sulfadimethoxine</td>\n",
              "      <td>sulfadimethoxine</td>\n",
              "      <td>Oral</td>\n",
              "      <td>Serum</td>\n",
              "      <td>25.00</td>\n",
              "      <td>15.30</td>\n",
              "      <td>122-11-2</td>\n",
              "      <td>5323</td>\n",
              "      <td>COC1=NC(=NC(=C1)NS(=O)(=O)C2=CC=C(C=C2)N)OC</td>\n",
              "    </tr>\n",
              "  </tbody>\n",
              "</table>\n",
              "<p>1421 rows × 11 columns</p>\n",
              "</div>\n",
              "    <div class=\"colab-df-buttons\">\n",
              "\n",
              "  <div class=\"colab-df-container\">\n",
              "    <button class=\"colab-df-convert\" onclick=\"convertToInteractive('df-4657e075-0bb9-411b-badb-f660296e4216')\"\n",
              "            title=\"Convert this dataframe to an interactive table.\"\n",
              "            style=\"display:none;\">\n",
              "\n",
              "  <svg xmlns=\"http://www.w3.org/2000/svg\" height=\"24px\" viewBox=\"0 -960 960 960\">\n",
              "    <path d=\"M120-120v-720h720v720H120Zm60-500h600v-160H180v160Zm220 220h160v-160H400v160Zm0 220h160v-160H400v160ZM180-400h160v-160H180v160Zm440 0h160v-160H620v160ZM180-180h160v-160H180v160Zm440 0h160v-160H620v160Z\"/>\n",
              "  </svg>\n",
              "    </button>\n",
              "\n",
              "  <style>\n",
              "    .colab-df-container {\n",
              "      display:flex;\n",
              "      gap: 12px;\n",
              "    }\n",
              "\n",
              "    .colab-df-convert {\n",
              "      background-color: #E8F0FE;\n",
              "      border: none;\n",
              "      border-radius: 50%;\n",
              "      cursor: pointer;\n",
              "      display: none;\n",
              "      fill: #1967D2;\n",
              "      height: 32px;\n",
              "      padding: 0 0 0 0;\n",
              "      width: 32px;\n",
              "    }\n",
              "\n",
              "    .colab-df-convert:hover {\n",
              "      background-color: #E2EBFA;\n",
              "      box-shadow: 0px 1px 2px rgba(60, 64, 67, 0.3), 0px 1px 3px 1px rgba(60, 64, 67, 0.15);\n",
              "      fill: #174EA6;\n",
              "    }\n",
              "\n",
              "    .colab-df-buttons div {\n",
              "      margin-bottom: 4px;\n",
              "    }\n",
              "\n",
              "    [theme=dark] .colab-df-convert {\n",
              "      background-color: #3B4455;\n",
              "      fill: #D2E3FC;\n",
              "    }\n",
              "\n",
              "    [theme=dark] .colab-df-convert:hover {\n",
              "      background-color: #434B5C;\n",
              "      box-shadow: 0px 1px 3px 1px rgba(0, 0, 0, 0.15);\n",
              "      filter: drop-shadow(0px 1px 2px rgba(0, 0, 0, 0.3));\n",
              "      fill: #FFFFFF;\n",
              "    }\n",
              "  </style>\n",
              "\n",
              "    <script>\n",
              "      const buttonEl =\n",
              "        document.querySelector('#df-4657e075-0bb9-411b-badb-f660296e4216 button.colab-df-convert');\n",
              "      buttonEl.style.display =\n",
              "        google.colab.kernel.accessAllowed ? 'block' : 'none';\n",
              "\n",
              "      async function convertToInteractive(key) {\n",
              "        const element = document.querySelector('#df-4657e075-0bb9-411b-badb-f660296e4216');\n",
              "        const dataTable =\n",
              "          await google.colab.kernel.invokeFunction('convertToInteractive',\n",
              "                                                    [key], {});\n",
              "        if (!dataTable) return;\n",
              "\n",
              "        const docLinkHtml = 'Like what you see? Visit the ' +\n",
              "          '<a target=\"_blank\" href=https://colab.research.google.com/notebooks/data_table.ipynb>data table notebook</a>'\n",
              "          + ' to learn more about interactive tables.';\n",
              "        element.innerHTML = '';\n",
              "        dataTable['output_type'] = 'display_data';\n",
              "        await google.colab.output.renderOutput(dataTable, element);\n",
              "        const docLink = document.createElement('div');\n",
              "        docLink.innerHTML = docLinkHtml;\n",
              "        element.appendChild(docLink);\n",
              "      }\n",
              "    </script>\n",
              "  </div>\n",
              "\n",
              "\n",
              "    <div id=\"df-c45166e3-fe06-45a7-999c-e74e35dceb72\">\n",
              "      <button class=\"colab-df-quickchart\" onclick=\"quickchart('df-c45166e3-fe06-45a7-999c-e74e35dceb72')\"\n",
              "                title=\"Suggest charts\"\n",
              "                style=\"display:none;\">\n",
              "\n",
              "<svg xmlns=\"http://www.w3.org/2000/svg\" height=\"24px\"viewBox=\"0 0 24 24\"\n",
              "     width=\"24px\">\n",
              "    <g>\n",
              "        <path d=\"M19 3H5c-1.1 0-2 .9-2 2v14c0 1.1.9 2 2 2h14c1.1 0 2-.9 2-2V5c0-1.1-.9-2-2-2zM9 17H7v-7h2v7zm4 0h-2V7h2v10zm4 0h-2v-4h2v4z\"/>\n",
              "    </g>\n",
              "</svg>\n",
              "      </button>\n",
              "\n",
              "<style>\n",
              "  .colab-df-quickchart {\n",
              "      --bg-color: #E8F0FE;\n",
              "      --fill-color: #1967D2;\n",
              "      --hover-bg-color: #E2EBFA;\n",
              "      --hover-fill-color: #174EA6;\n",
              "      --disabled-fill-color: #AAA;\n",
              "      --disabled-bg-color: #DDD;\n",
              "  }\n",
              "\n",
              "  [theme=dark] .colab-df-quickchart {\n",
              "      --bg-color: #3B4455;\n",
              "      --fill-color: #D2E3FC;\n",
              "      --hover-bg-color: #434B5C;\n",
              "      --hover-fill-color: #FFFFFF;\n",
              "      --disabled-bg-color: #3B4455;\n",
              "      --disabled-fill-color: #666;\n",
              "  }\n",
              "\n",
              "  .colab-df-quickchart {\n",
              "    background-color: var(--bg-color);\n",
              "    border: none;\n",
              "    border-radius: 50%;\n",
              "    cursor: pointer;\n",
              "    display: none;\n",
              "    fill: var(--fill-color);\n",
              "    height: 32px;\n",
              "    padding: 0;\n",
              "    width: 32px;\n",
              "  }\n",
              "\n",
              "  .colab-df-quickchart:hover {\n",
              "    background-color: var(--hover-bg-color);\n",
              "    box-shadow: 0 1px 2px rgba(60, 64, 67, 0.3), 0 1px 3px 1px rgba(60, 64, 67, 0.15);\n",
              "    fill: var(--button-hover-fill-color);\n",
              "  }\n",
              "\n",
              "  .colab-df-quickchart-complete:disabled,\n",
              "  .colab-df-quickchart-complete:disabled:hover {\n",
              "    background-color: var(--disabled-bg-color);\n",
              "    fill: var(--disabled-fill-color);\n",
              "    box-shadow: none;\n",
              "  }\n",
              "\n",
              "  .colab-df-spinner {\n",
              "    border: 2px solid var(--fill-color);\n",
              "    border-color: transparent;\n",
              "    border-bottom-color: var(--fill-color);\n",
              "    animation:\n",
              "      spin 1s steps(1) infinite;\n",
              "  }\n",
              "\n",
              "  @keyframes spin {\n",
              "    0% {\n",
              "      border-color: transparent;\n",
              "      border-bottom-color: var(--fill-color);\n",
              "      border-left-color: var(--fill-color);\n",
              "    }\n",
              "    20% {\n",
              "      border-color: transparent;\n",
              "      border-left-color: var(--fill-color);\n",
              "      border-top-color: var(--fill-color);\n",
              "    }\n",
              "    30% {\n",
              "      border-color: transparent;\n",
              "      border-left-color: var(--fill-color);\n",
              "      border-top-color: var(--fill-color);\n",
              "      border-right-color: var(--fill-color);\n",
              "    }\n",
              "    40% {\n",
              "      border-color: transparent;\n",
              "      border-right-color: var(--fill-color);\n",
              "      border-top-color: var(--fill-color);\n",
              "    }\n",
              "    60% {\n",
              "      border-color: transparent;\n",
              "      border-right-color: var(--fill-color);\n",
              "    }\n",
              "    80% {\n",
              "      border-color: transparent;\n",
              "      border-right-color: var(--fill-color);\n",
              "      border-bottom-color: var(--fill-color);\n",
              "    }\n",
              "    90% {\n",
              "      border-color: transparent;\n",
              "      border-bottom-color: var(--fill-color);\n",
              "    }\n",
              "  }\n",
              "</style>\n",
              "\n",
              "      <script>\n",
              "        async function quickchart(key) {\n",
              "          const quickchartButtonEl =\n",
              "            document.querySelector('#' + key + ' button');\n",
              "          quickchartButtonEl.disabled = true;  // To prevent multiple clicks.\n",
              "          quickchartButtonEl.classList.add('colab-df-spinner');\n",
              "          try {\n",
              "            const charts = await google.colab.kernel.invokeFunction(\n",
              "                'suggestCharts', [key], {});\n",
              "          } catch (error) {\n",
              "            console.error('Error during call to suggestCharts:', error);\n",
              "          }\n",
              "          quickchartButtonEl.classList.remove('colab-df-spinner');\n",
              "          quickchartButtonEl.classList.add('colab-df-quickchart-complete');\n",
              "        }\n",
              "        (() => {\n",
              "          let quickchartButtonEl =\n",
              "            document.querySelector('#df-c45166e3-fe06-45a7-999c-e74e35dceb72 button');\n",
              "          quickchartButtonEl.style.display =\n",
              "            google.colab.kernel.accessAllowed ? 'block' : 'none';\n",
              "        })();\n",
              "      </script>\n",
              "    </div>\n",
              "\n",
              "  <div id=\"id_ceaa6bcd-e5f7-4b07-952e-f67c676db8a9\">\n",
              "    <style>\n",
              "      .colab-df-generate {\n",
              "        background-color: #E8F0FE;\n",
              "        border: none;\n",
              "        border-radius: 50%;\n",
              "        cursor: pointer;\n",
              "        display: none;\n",
              "        fill: #1967D2;\n",
              "        height: 32px;\n",
              "        padding: 0 0 0 0;\n",
              "        width: 32px;\n",
              "      }\n",
              "\n",
              "      .colab-df-generate:hover {\n",
              "        background-color: #E2EBFA;\n",
              "        box-shadow: 0px 1px 2px rgba(60, 64, 67, 0.3), 0px 1px 3px 1px rgba(60, 64, 67, 0.15);\n",
              "        fill: #174EA6;\n",
              "      }\n",
              "\n",
              "      [theme=dark] .colab-df-generate {\n",
              "        background-color: #3B4455;\n",
              "        fill: #D2E3FC;\n",
              "      }\n",
              "\n",
              "      [theme=dark] .colab-df-generate:hover {\n",
              "        background-color: #434B5C;\n",
              "        box-shadow: 0px 1px 3px 1px rgba(0, 0, 0, 0.15);\n",
              "        filter: drop-shadow(0px 1px 2px rgba(0, 0, 0, 0.3));\n",
              "        fill: #FFFFFF;\n",
              "      }\n",
              "    </style>\n",
              "    <button class=\"colab-df-generate\" onclick=\"generateWithVariable('df')\"\n",
              "            title=\"Generate code using this dataframe.\"\n",
              "            style=\"display:none;\">\n",
              "\n",
              "  <svg xmlns=\"http://www.w3.org/2000/svg\" height=\"24px\"viewBox=\"0 0 24 24\"\n",
              "       width=\"24px\">\n",
              "    <path d=\"M7,19H8.4L18.45,9,17,7.55,7,17.6ZM5,21V16.75L18.45,3.32a2,2,0,0,1,2.83,0l1.4,1.43a1.91,1.91,0,0,1,.58,1.4,1.91,1.91,0,0,1-.58,1.4L9.25,21ZM18.45,9,17,7.55Zm-12,3A5.31,5.31,0,0,0,4.9,8.1,5.31,5.31,0,0,0,1,6.5,5.31,5.31,0,0,0,4.9,4.9,5.31,5.31,0,0,0,6.5,1,5.31,5.31,0,0,0,8.1,4.9,5.31,5.31,0,0,0,12,6.5,5.46,5.46,0,0,0,6.5,12Z\"/>\n",
              "  </svg>\n",
              "    </button>\n",
              "    <script>\n",
              "      (() => {\n",
              "      const buttonEl =\n",
              "        document.querySelector('#id_ceaa6bcd-e5f7-4b07-952e-f67c676db8a9 button.colab-df-generate');\n",
              "      buttonEl.style.display =\n",
              "        google.colab.kernel.accessAllowed ? 'block' : 'none';\n",
              "\n",
              "      buttonEl.onclick = () => {\n",
              "        google.colab.notebook.generateWithVariable('df');\n",
              "      }\n",
              "      })();\n",
              "    </script>\n",
              "  </div>\n",
              "\n",
              "    </div>\n",
              "  </div>\n"
            ],
            "application/vnd.google.colaboratory.intrinsic+json": {
              "type": "dataframe",
              "variable_name": "df",
              "summary": "{\n  \"name\": \"df\",\n  \"rows\": 1421,\n  \"fields\": [\n    {\n      \"column\": \"CitationNumber\",\n      \"properties\": {\n        \"dtype\": \"number\",\n        \"std\": 135530,\n        \"min\": 8004005,\n        \"max\": 9019286,\n        \"num_unique_values\": 334,\n        \"samples\": [\n          9014904,\n          9016459,\n          9015505\n        ],\n        \"semantic_type\": \"\",\n        \"description\": \"\"\n      }\n    },\n    {\n      \"column\": \"Long-acting\",\n      \"properties\": {\n        \"dtype\": \"number\",\n        \"std\": null,\n        \"min\": null,\n        \"max\": null,\n        \"num_unique_values\": 0,\n        \"samples\": [],\n        \"semantic_type\": \"\",\n        \"description\": \"\"\n      }\n    },\n    {\n      \"column\": \"Drug\",\n      \"properties\": {\n        \"dtype\": \"category\",\n        \"num_unique_values\": 209,\n        \"samples\": [],\n        \"semantic_type\": \"\",\n        \"description\": \"\"\n      }\n    },\n    {\n      \"column\": \"Analyte\",\n      \"properties\": {\n        \"dtype\": \"category\",\n        \"num_unique_values\": 208,\n        \"samples\": [],\n        \"semantic_type\": \"\",\n        \"description\": \"\"\n      }\n    },\n    {\n      \"column\": \"Route\",\n      \"properties\": {\n        \"dtype\": \"category\",\n        \"num_unique_values\": 16,\n        \"samples\": [],\n        \"semantic_type\": \"\",\n        \"description\": \"\"\n      }\n    },\n    {\n      \"column\": \"Matrix\",\n      \"properties\": {\n        \"dtype\": \"category\",\n        \"num_unique_values\": 19,\n        \"samples\": [],\n        \"semantic_type\": \"\",\n        \"description\": \"\"\n      }\n    },\n    {\n      \"column\": \"Dose\",\n      \"properties\": {\n        \"dtype\": \"number\",\n        \"std\": 5602.439469903557,\n        \"min\": 0.0,\n        \"max\": 200000.0,\n        \"num_unique_values\": 119,\n        \"samples\": [],\n        \"semantic_type\": \"\",\n        \"description\": \"\"\n      }\n    },\n    {\n      \"column\": \"LambdaZHl\",\n      \"properties\": {\n        \"dtype\": \"number\",\n        \"std\": 281.47488952708244,\n        \"min\": 0.12,\n        \"max\": 7936.38,\n        \"num_unique_values\": 632,\n        \"samples\": [],\n        \"semantic_type\": \"\",\n        \"description\": \"\"\n      }\n    },\n    {\n      \"column\": \"CAS\",\n      \"properties\": {\n        \"dtype\": \"category\",\n        \"num_unique_values\": 192,\n        \"samples\": [],\n        \"semantic_type\": \"\",\n        \"description\": \"\"\n      }\n    },\n    {\n      \"column\": \"PubChemCID\",\n      \"properties\": {\n        \"dtype\": \"number\",\n        \"std\": 19787302,\n        \"min\": 338,\n        \"max\": 168009903,\n        \"num_unique_values\": 191,\n        \"samples\": [],\n        \"semantic_type\": \"\",\n        \"description\": \"\"\n      }\n    },\n    {\n      \"column\": \"SMILES\",\n      \"properties\": {\n        \"dtype\": \"category\",\n        \"num_unique_values\": 188,\n        \"samples\": [],\n        \"semantic_type\": \"\",\n        \"description\": \"\"\n      }\n    }\n  ]\n}"
            }
          },
          "metadata": {},
          "execution_count": 66
        }
      ],
      "source": [
        "#Mount Google Drive to access files in Colab\n",
        "from google.colab import drive\n",
        "drive.mount('/content/drive')\n",
        "# Specify the path to dataset CSV file in Google Drive\n",
        "file_path = '/content/drive/MyDrive/LLM/df_cattle_with_smiles.csv'\n",
        "# Read the CSV file into a pandas DataFrame\n",
        "df = pd.read_csv(file_path)\n",
        "df"
      ]
    },
    {
      "cell_type": "code",
      "execution_count": 67,
      "metadata": {
        "id": "BOCTmYtpwawc",
        "colab": {
          "base_uri": "https://localhost:8080/",
          "height": 423
        },
        "outputId": "9d773106-2bd0-4ef0-abf7-4fbc88af66ac"
      },
      "outputs": [
        {
          "output_type": "execute_result",
          "data": {
            "text/plain": [
              "     CitationNumber  Long-acting                    Drug  \\\n",
              "0           9015577          NaN               Fluazuron   \n",
              "1           9015593          NaN  Imidocarb dipropionate   \n",
              "2           9015168          NaN               Fluazuron   \n",
              "3           9015168          NaN               Fluazuron   \n",
              "4           9015577          NaN               Fluazuron   \n",
              "..              ...          ...                     ...   \n",
              "688         9018415          NaN              Carbetocin   \n",
              "689         9001367          NaN     Penicillin G sodium   \n",
              "690         9015487          NaN               Carazolol   \n",
              "691         9018461          NaN                Oxytocin   \n",
              "692         9018158          NaN                Oxytocin   \n",
              "\n",
              "                    Analyte                Route  Matrix    Dose    LambdaZHl  \\\n",
              "0                 Fluazuron         Subcutaneous  Kidney  1.5000  7936.380000   \n",
              "1    Imidocarb dipropionate         Subcutaneous     Fat  3.0000  2046.800000   \n",
              "2                 Fluazuron         Subcutaneous  Plasma  1.0000  1872.000000   \n",
              "3                 Fluazuron  Cutaneous (topical)  Plasma  1.0000  1764.000000   \n",
              "4                 Fluazuron  Cutaneous (topical)     Fat  2.0000  1408.450000   \n",
              "..                      ...                  ...     ...     ...          ...   \n",
              "688              Carbetocin          Intravenous  Plasma     NaN     0.430000   \n",
              "689            Penicillin G        Intramuscular   Serum  0.6732     0.353800   \n",
              "690               Carazolol          Intravenous   Serum     NaN     0.308395   \n",
              "691                Oxytocin                Other  Plasma     NaN     0.261667   \n",
              "692                Oxytocin          Intravenous  Plasma     NaN     0.120000   \n",
              "\n",
              "            CAS  PubChemCID                                             SMILES  \n",
              "0    86811-58-7       65651  C1=CC(=C(C(=C1)F)C(=O)NC(=O)NC2=CC(=C(C=C2)Cl)...  \n",
              "1    55750-06-6     9983292  CCC(=O)O.CCC(=O)O.C1CN=C(N1)C2=CC(=CC=C2)NC(=O...  \n",
              "2    86811-58-7       65651  C1=CC(=C(C(=C1)F)C(=O)NC(=O)NC2=CC(=C(C=C2)Cl)...  \n",
              "3    86811-58-7       65651  C1=CC(=C(C(=C1)F)C(=O)NC(=O)NC2=CC(=C(C=C2)Cl)...  \n",
              "4    86811-58-7       65651  C1=CC(=C(C(=C1)F)C(=O)NC(=O)NC2=CC(=C(C=C2)Cl)...  \n",
              "..          ...         ...                                                ...  \n",
              "688  37025-55-1    16681432  CCC(C)C1C(=O)NC(C(=O)NC(C(=O)NC(CSCCCC(=O)NC(C...  \n",
              "689     69-57-8    23668834  CC1(C(N2C(S1)C(C2=O)NC(=O)CC3=CC=CC=C3)C(=O)[O...  \n",
              "690  57775-29-8       71739             CC(C)NCC(COC1=CC=CC2=C1C3=CC=CC=C3N2)O  \n",
              "691     50-56-6      439302  CCC(C)C1C(=O)NC(C(=O)NC(C(=O)NC(CSSCC(C(=O)NC(...  \n",
              "692     50-56-6      439302  CCC(C)C1C(=O)NC(C(=O)NC(C(=O)NC(CSSCC(C(=O)NC(...  \n",
              "\n",
              "[693 rows x 11 columns]"
            ],
            "text/html": [
              "\n",
              "  <div id=\"df-756f396c-9063-416b-bbbf-2327becf23ec\" class=\"colab-df-container\">\n",
              "    <div>\n",
              "<style scoped>\n",
              "    .dataframe tbody tr th:only-of-type {\n",
              "        vertical-align: middle;\n",
              "    }\n",
              "\n",
              "    .dataframe tbody tr th {\n",
              "        vertical-align: top;\n",
              "    }\n",
              "\n",
              "    .dataframe thead th {\n",
              "        text-align: right;\n",
              "    }\n",
              "</style>\n",
              "<table border=\"1\" class=\"dataframe\">\n",
              "  <thead>\n",
              "    <tr style=\"text-align: right;\">\n",
              "      <th></th>\n",
              "      <th>CitationNumber</th>\n",
              "      <th>Long-acting</th>\n",
              "      <th>Drug</th>\n",
              "      <th>Analyte</th>\n",
              "      <th>Route</th>\n",
              "      <th>Matrix</th>\n",
              "      <th>Dose</th>\n",
              "      <th>LambdaZHl</th>\n",
              "      <th>CAS</th>\n",
              "      <th>PubChemCID</th>\n",
              "      <th>SMILES</th>\n",
              "    </tr>\n",
              "  </thead>\n",
              "  <tbody>\n",
              "    <tr>\n",
              "      <th>0</th>\n",
              "      <td>9015577</td>\n",
              "      <td>NaN</td>\n",
              "      <td>Fluazuron</td>\n",
              "      <td>Fluazuron</td>\n",
              "      <td>Subcutaneous</td>\n",
              "      <td>Kidney</td>\n",
              "      <td>1.5000</td>\n",
              "      <td>7936.380000</td>\n",
              "      <td>86811-58-7</td>\n",
              "      <td>65651</td>\n",
              "      <td>C1=CC(=C(C(=C1)F)C(=O)NC(=O)NC2=CC(=C(C=C2)Cl)...</td>\n",
              "    </tr>\n",
              "    <tr>\n",
              "      <th>1</th>\n",
              "      <td>9015593</td>\n",
              "      <td>NaN</td>\n",
              "      <td>Imidocarb dipropionate</td>\n",
              "      <td>Imidocarb dipropionate</td>\n",
              "      <td>Subcutaneous</td>\n",
              "      <td>Fat</td>\n",
              "      <td>3.0000</td>\n",
              "      <td>2046.800000</td>\n",
              "      <td>55750-06-6</td>\n",
              "      <td>9983292</td>\n",
              "      <td>CCC(=O)O.CCC(=O)O.C1CN=C(N1)C2=CC(=CC=C2)NC(=O...</td>\n",
              "    </tr>\n",
              "    <tr>\n",
              "      <th>2</th>\n",
              "      <td>9015168</td>\n",
              "      <td>NaN</td>\n",
              "      <td>Fluazuron</td>\n",
              "      <td>Fluazuron</td>\n",
              "      <td>Subcutaneous</td>\n",
              "      <td>Plasma</td>\n",
              "      <td>1.0000</td>\n",
              "      <td>1872.000000</td>\n",
              "      <td>86811-58-7</td>\n",
              "      <td>65651</td>\n",
              "      <td>C1=CC(=C(C(=C1)F)C(=O)NC(=O)NC2=CC(=C(C=C2)Cl)...</td>\n",
              "    </tr>\n",
              "    <tr>\n",
              "      <th>3</th>\n",
              "      <td>9015168</td>\n",
              "      <td>NaN</td>\n",
              "      <td>Fluazuron</td>\n",
              "      <td>Fluazuron</td>\n",
              "      <td>Cutaneous (topical)</td>\n",
              "      <td>Plasma</td>\n",
              "      <td>1.0000</td>\n",
              "      <td>1764.000000</td>\n",
              "      <td>86811-58-7</td>\n",
              "      <td>65651</td>\n",
              "      <td>C1=CC(=C(C(=C1)F)C(=O)NC(=O)NC2=CC(=C(C=C2)Cl)...</td>\n",
              "    </tr>\n",
              "    <tr>\n",
              "      <th>4</th>\n",
              "      <td>9015577</td>\n",
              "      <td>NaN</td>\n",
              "      <td>Fluazuron</td>\n",
              "      <td>Fluazuron</td>\n",
              "      <td>Cutaneous (topical)</td>\n",
              "      <td>Fat</td>\n",
              "      <td>2.0000</td>\n",
              "      <td>1408.450000</td>\n",
              "      <td>86811-58-7</td>\n",
              "      <td>65651</td>\n",
              "      <td>C1=CC(=C(C(=C1)F)C(=O)NC(=O)NC2=CC(=C(C=C2)Cl)...</td>\n",
              "    </tr>\n",
              "    <tr>\n",
              "      <th>...</th>\n",
              "      <td>...</td>\n",
              "      <td>...</td>\n",
              "      <td>...</td>\n",
              "      <td>...</td>\n",
              "      <td>...</td>\n",
              "      <td>...</td>\n",
              "      <td>...</td>\n",
              "      <td>...</td>\n",
              "      <td>...</td>\n",
              "      <td>...</td>\n",
              "      <td>...</td>\n",
              "    </tr>\n",
              "    <tr>\n",
              "      <th>688</th>\n",
              "      <td>9018415</td>\n",
              "      <td>NaN</td>\n",
              "      <td>Carbetocin</td>\n",
              "      <td>Carbetocin</td>\n",
              "      <td>Intravenous</td>\n",
              "      <td>Plasma</td>\n",
              "      <td>NaN</td>\n",
              "      <td>0.430000</td>\n",
              "      <td>37025-55-1</td>\n",
              "      <td>16681432</td>\n",
              "      <td>CCC(C)C1C(=O)NC(C(=O)NC(C(=O)NC(CSCCCC(=O)NC(C...</td>\n",
              "    </tr>\n",
              "    <tr>\n",
              "      <th>689</th>\n",
              "      <td>9001367</td>\n",
              "      <td>NaN</td>\n",
              "      <td>Penicillin G sodium</td>\n",
              "      <td>Penicillin G</td>\n",
              "      <td>Intramuscular</td>\n",
              "      <td>Serum</td>\n",
              "      <td>0.6732</td>\n",
              "      <td>0.353800</td>\n",
              "      <td>69-57-8</td>\n",
              "      <td>23668834</td>\n",
              "      <td>CC1(C(N2C(S1)C(C2=O)NC(=O)CC3=CC=CC=C3)C(=O)[O...</td>\n",
              "    </tr>\n",
              "    <tr>\n",
              "      <th>690</th>\n",
              "      <td>9015487</td>\n",
              "      <td>NaN</td>\n",
              "      <td>Carazolol</td>\n",
              "      <td>Carazolol</td>\n",
              "      <td>Intravenous</td>\n",
              "      <td>Serum</td>\n",
              "      <td>NaN</td>\n",
              "      <td>0.308395</td>\n",
              "      <td>57775-29-8</td>\n",
              "      <td>71739</td>\n",
              "      <td>CC(C)NCC(COC1=CC=CC2=C1C3=CC=CC=C3N2)O</td>\n",
              "    </tr>\n",
              "    <tr>\n",
              "      <th>691</th>\n",
              "      <td>9018461</td>\n",
              "      <td>NaN</td>\n",
              "      <td>Oxytocin</td>\n",
              "      <td>Oxytocin</td>\n",
              "      <td>Other</td>\n",
              "      <td>Plasma</td>\n",
              "      <td>NaN</td>\n",
              "      <td>0.261667</td>\n",
              "      <td>50-56-6</td>\n",
              "      <td>439302</td>\n",
              "      <td>CCC(C)C1C(=O)NC(C(=O)NC(C(=O)NC(CSSCC(C(=O)NC(...</td>\n",
              "    </tr>\n",
              "    <tr>\n",
              "      <th>692</th>\n",
              "      <td>9018158</td>\n",
              "      <td>NaN</td>\n",
              "      <td>Oxytocin</td>\n",
              "      <td>Oxytocin</td>\n",
              "      <td>Intravenous</td>\n",
              "      <td>Plasma</td>\n",
              "      <td>NaN</td>\n",
              "      <td>0.120000</td>\n",
              "      <td>50-56-6</td>\n",
              "      <td>439302</td>\n",
              "      <td>CCC(C)C1C(=O)NC(C(=O)NC(C(=O)NC(CSSCC(C(=O)NC(...</td>\n",
              "    </tr>\n",
              "  </tbody>\n",
              "</table>\n",
              "<p>693 rows × 11 columns</p>\n",
              "</div>\n",
              "    <div class=\"colab-df-buttons\">\n",
              "\n",
              "  <div class=\"colab-df-container\">\n",
              "    <button class=\"colab-df-convert\" onclick=\"convertToInteractive('df-756f396c-9063-416b-bbbf-2327becf23ec')\"\n",
              "            title=\"Convert this dataframe to an interactive table.\"\n",
              "            style=\"display:none;\">\n",
              "\n",
              "  <svg xmlns=\"http://www.w3.org/2000/svg\" height=\"24px\" viewBox=\"0 -960 960 960\">\n",
              "    <path d=\"M120-120v-720h720v720H120Zm60-500h600v-160H180v160Zm220 220h160v-160H400v160Zm0 220h160v-160H400v160ZM180-400h160v-160H180v160Zm440 0h160v-160H620v160ZM180-180h160v-160H180v160Zm440 0h160v-160H620v160Z\"/>\n",
              "  </svg>\n",
              "    </button>\n",
              "\n",
              "  <style>\n",
              "    .colab-df-container {\n",
              "      display:flex;\n",
              "      gap: 12px;\n",
              "    }\n",
              "\n",
              "    .colab-df-convert {\n",
              "      background-color: #E8F0FE;\n",
              "      border: none;\n",
              "      border-radius: 50%;\n",
              "      cursor: pointer;\n",
              "      display: none;\n",
              "      fill: #1967D2;\n",
              "      height: 32px;\n",
              "      padding: 0 0 0 0;\n",
              "      width: 32px;\n",
              "    }\n",
              "\n",
              "    .colab-df-convert:hover {\n",
              "      background-color: #E2EBFA;\n",
              "      box-shadow: 0px 1px 2px rgba(60, 64, 67, 0.3), 0px 1px 3px 1px rgba(60, 64, 67, 0.15);\n",
              "      fill: #174EA6;\n",
              "    }\n",
              "\n",
              "    .colab-df-buttons div {\n",
              "      margin-bottom: 4px;\n",
              "    }\n",
              "\n",
              "    [theme=dark] .colab-df-convert {\n",
              "      background-color: #3B4455;\n",
              "      fill: #D2E3FC;\n",
              "    }\n",
              "\n",
              "    [theme=dark] .colab-df-convert:hover {\n",
              "      background-color: #434B5C;\n",
              "      box-shadow: 0px 1px 3px 1px rgba(0, 0, 0, 0.15);\n",
              "      filter: drop-shadow(0px 1px 2px rgba(0, 0, 0, 0.3));\n",
              "      fill: #FFFFFF;\n",
              "    }\n",
              "  </style>\n",
              "\n",
              "    <script>\n",
              "      const buttonEl =\n",
              "        document.querySelector('#df-756f396c-9063-416b-bbbf-2327becf23ec button.colab-df-convert');\n",
              "      buttonEl.style.display =\n",
              "        google.colab.kernel.accessAllowed ? 'block' : 'none';\n",
              "\n",
              "      async function convertToInteractive(key) {\n",
              "        const element = document.querySelector('#df-756f396c-9063-416b-bbbf-2327becf23ec');\n",
              "        const dataTable =\n",
              "          await google.colab.kernel.invokeFunction('convertToInteractive',\n",
              "                                                    [key], {});\n",
              "        if (!dataTable) return;\n",
              "\n",
              "        const docLinkHtml = 'Like what you see? Visit the ' +\n",
              "          '<a target=\"_blank\" href=https://colab.research.google.com/notebooks/data_table.ipynb>data table notebook</a>'\n",
              "          + ' to learn more about interactive tables.';\n",
              "        element.innerHTML = '';\n",
              "        dataTable['output_type'] = 'display_data';\n",
              "        await google.colab.output.renderOutput(dataTable, element);\n",
              "        const docLink = document.createElement('div');\n",
              "        docLink.innerHTML = docLinkHtml;\n",
              "        element.appendChild(docLink);\n",
              "      }\n",
              "    </script>\n",
              "  </div>\n",
              "\n",
              "\n",
              "    <div id=\"df-3359f8c1-b11f-4bfa-af2d-e569e5e7fd95\">\n",
              "      <button class=\"colab-df-quickchart\" onclick=\"quickchart('df-3359f8c1-b11f-4bfa-af2d-e569e5e7fd95')\"\n",
              "                title=\"Suggest charts\"\n",
              "                style=\"display:none;\">\n",
              "\n",
              "<svg xmlns=\"http://www.w3.org/2000/svg\" height=\"24px\"viewBox=\"0 0 24 24\"\n",
              "     width=\"24px\">\n",
              "    <g>\n",
              "        <path d=\"M19 3H5c-1.1 0-2 .9-2 2v14c0 1.1.9 2 2 2h14c1.1 0 2-.9 2-2V5c0-1.1-.9-2-2-2zM9 17H7v-7h2v7zm4 0h-2V7h2v10zm4 0h-2v-4h2v4z\"/>\n",
              "    </g>\n",
              "</svg>\n",
              "      </button>\n",
              "\n",
              "<style>\n",
              "  .colab-df-quickchart {\n",
              "      --bg-color: #E8F0FE;\n",
              "      --fill-color: #1967D2;\n",
              "      --hover-bg-color: #E2EBFA;\n",
              "      --hover-fill-color: #174EA6;\n",
              "      --disabled-fill-color: #AAA;\n",
              "      --disabled-bg-color: #DDD;\n",
              "  }\n",
              "\n",
              "  [theme=dark] .colab-df-quickchart {\n",
              "      --bg-color: #3B4455;\n",
              "      --fill-color: #D2E3FC;\n",
              "      --hover-bg-color: #434B5C;\n",
              "      --hover-fill-color: #FFFFFF;\n",
              "      --disabled-bg-color: #3B4455;\n",
              "      --disabled-fill-color: #666;\n",
              "  }\n",
              "\n",
              "  .colab-df-quickchart {\n",
              "    background-color: var(--bg-color);\n",
              "    border: none;\n",
              "    border-radius: 50%;\n",
              "    cursor: pointer;\n",
              "    display: none;\n",
              "    fill: var(--fill-color);\n",
              "    height: 32px;\n",
              "    padding: 0;\n",
              "    width: 32px;\n",
              "  }\n",
              "\n",
              "  .colab-df-quickchart:hover {\n",
              "    background-color: var(--hover-bg-color);\n",
              "    box-shadow: 0 1px 2px rgba(60, 64, 67, 0.3), 0 1px 3px 1px rgba(60, 64, 67, 0.15);\n",
              "    fill: var(--button-hover-fill-color);\n",
              "  }\n",
              "\n",
              "  .colab-df-quickchart-complete:disabled,\n",
              "  .colab-df-quickchart-complete:disabled:hover {\n",
              "    background-color: var(--disabled-bg-color);\n",
              "    fill: var(--disabled-fill-color);\n",
              "    box-shadow: none;\n",
              "  }\n",
              "\n",
              "  .colab-df-spinner {\n",
              "    border: 2px solid var(--fill-color);\n",
              "    border-color: transparent;\n",
              "    border-bottom-color: var(--fill-color);\n",
              "    animation:\n",
              "      spin 1s steps(1) infinite;\n",
              "  }\n",
              "\n",
              "  @keyframes spin {\n",
              "    0% {\n",
              "      border-color: transparent;\n",
              "      border-bottom-color: var(--fill-color);\n",
              "      border-left-color: var(--fill-color);\n",
              "    }\n",
              "    20% {\n",
              "      border-color: transparent;\n",
              "      border-left-color: var(--fill-color);\n",
              "      border-top-color: var(--fill-color);\n",
              "    }\n",
              "    30% {\n",
              "      border-color: transparent;\n",
              "      border-left-color: var(--fill-color);\n",
              "      border-top-color: var(--fill-color);\n",
              "      border-right-color: var(--fill-color);\n",
              "    }\n",
              "    40% {\n",
              "      border-color: transparent;\n",
              "      border-right-color: var(--fill-color);\n",
              "      border-top-color: var(--fill-color);\n",
              "    }\n",
              "    60% {\n",
              "      border-color: transparent;\n",
              "      border-right-color: var(--fill-color);\n",
              "    }\n",
              "    80% {\n",
              "      border-color: transparent;\n",
              "      border-right-color: var(--fill-color);\n",
              "      border-bottom-color: var(--fill-color);\n",
              "    }\n",
              "    90% {\n",
              "      border-color: transparent;\n",
              "      border-bottom-color: var(--fill-color);\n",
              "    }\n",
              "  }\n",
              "</style>\n",
              "\n",
              "      <script>\n",
              "        async function quickchart(key) {\n",
              "          const quickchartButtonEl =\n",
              "            document.querySelector('#' + key + ' button');\n",
              "          quickchartButtonEl.disabled = true;  // To prevent multiple clicks.\n",
              "          quickchartButtonEl.classList.add('colab-df-spinner');\n",
              "          try {\n",
              "            const charts = await google.colab.kernel.invokeFunction(\n",
              "                'suggestCharts', [key], {});\n",
              "          } catch (error) {\n",
              "            console.error('Error during call to suggestCharts:', error);\n",
              "          }\n",
              "          quickchartButtonEl.classList.remove('colab-df-spinner');\n",
              "          quickchartButtonEl.classList.add('colab-df-quickchart-complete');\n",
              "        }\n",
              "        (() => {\n",
              "          let quickchartButtonEl =\n",
              "            document.querySelector('#df-3359f8c1-b11f-4bfa-af2d-e569e5e7fd95 button');\n",
              "          quickchartButtonEl.style.display =\n",
              "            google.colab.kernel.accessAllowed ? 'block' : 'none';\n",
              "        })();\n",
              "      </script>\n",
              "    </div>\n",
              "\n",
              "  <div id=\"id_4559f8f6-9912-493f-b351-6c21a8b4a731\">\n",
              "    <style>\n",
              "      .colab-df-generate {\n",
              "        background-color: #E8F0FE;\n",
              "        border: none;\n",
              "        border-radius: 50%;\n",
              "        cursor: pointer;\n",
              "        display: none;\n",
              "        fill: #1967D2;\n",
              "        height: 32px;\n",
              "        padding: 0 0 0 0;\n",
              "        width: 32px;\n",
              "      }\n",
              "\n",
              "      .colab-df-generate:hover {\n",
              "        background-color: #E2EBFA;\n",
              "        box-shadow: 0px 1px 2px rgba(60, 64, 67, 0.3), 0px 1px 3px 1px rgba(60, 64, 67, 0.15);\n",
              "        fill: #174EA6;\n",
              "      }\n",
              "\n",
              "      [theme=dark] .colab-df-generate {\n",
              "        background-color: #3B4455;\n",
              "        fill: #D2E3FC;\n",
              "      }\n",
              "\n",
              "      [theme=dark] .colab-df-generate:hover {\n",
              "        background-color: #434B5C;\n",
              "        box-shadow: 0px 1px 3px 1px rgba(0, 0, 0, 0.15);\n",
              "        filter: drop-shadow(0px 1px 2px rgba(0, 0, 0, 0.3));\n",
              "        fill: #FFFFFF;\n",
              "      }\n",
              "    </style>\n",
              "    <button class=\"colab-df-generate\" onclick=\"generateWithVariable('df')\"\n",
              "            title=\"Generate code using this dataframe.\"\n",
              "            style=\"display:none;\">\n",
              "\n",
              "  <svg xmlns=\"http://www.w3.org/2000/svg\" height=\"24px\"viewBox=\"0 0 24 24\"\n",
              "       width=\"24px\">\n",
              "    <path d=\"M7,19H8.4L18.45,9,17,7.55,7,17.6ZM5,21V16.75L18.45,3.32a2,2,0,0,1,2.83,0l1.4,1.43a1.91,1.91,0,0,1,.58,1.4,1.91,1.91,0,0,1-.58,1.4L9.25,21ZM18.45,9,17,7.55Zm-12,3A5.31,5.31,0,0,0,4.9,8.1,5.31,5.31,0,0,0,1,6.5,5.31,5.31,0,0,0,4.9,4.9,5.31,5.31,0,0,0,6.5,1,5.31,5.31,0,0,0,8.1,4.9,5.31,5.31,0,0,0,12,6.5,5.46,5.46,0,0,0,6.5,12Z\"/>\n",
              "  </svg>\n",
              "    </button>\n",
              "    <script>\n",
              "      (() => {\n",
              "      const buttonEl =\n",
              "        document.querySelector('#id_4559f8f6-9912-493f-b351-6c21a8b4a731 button.colab-df-generate');\n",
              "      buttonEl.style.display =\n",
              "        google.colab.kernel.accessAllowed ? 'block' : 'none';\n",
              "\n",
              "      buttonEl.onclick = () => {\n",
              "        google.colab.notebook.generateWithVariable('df');\n",
              "      }\n",
              "      })();\n",
              "    </script>\n",
              "  </div>\n",
              "\n",
              "    </div>\n",
              "  </div>\n"
            ],
            "application/vnd.google.colaboratory.intrinsic+json": {
              "type": "dataframe",
              "variable_name": "df",
              "summary": "{\n  \"name\": \"df\",\n  \"rows\": 693,\n  \"fields\": [\n    {\n      \"column\": \"CitationNumber\",\n      \"properties\": {\n        \"dtype\": \"number\",\n        \"std\": 181160,\n        \"min\": 8004005,\n        \"max\": 9019286,\n        \"num_unique_values\": 334,\n        \"samples\": [\n          9015473,\n          9001338,\n          9015581\n        ],\n        \"semantic_type\": \"\",\n        \"description\": \"\"\n      }\n    },\n    {\n      \"column\": \"Long-acting\",\n      \"properties\": {\n        \"dtype\": \"number\",\n        \"std\": null,\n        \"min\": null,\n        \"max\": null,\n        \"num_unique_values\": 0,\n        \"samples\": [],\n        \"semantic_type\": \"\",\n        \"description\": \"\"\n      }\n    },\n    {\n      \"column\": \"Drug\",\n      \"properties\": {\n        \"dtype\": \"category\",\n        \"num_unique_values\": 209,\n        \"samples\": [],\n        \"semantic_type\": \"\",\n        \"description\": \"\"\n      }\n    },\n    {\n      \"column\": \"Analyte\",\n      \"properties\": {\n        \"dtype\": \"category\",\n        \"num_unique_values\": 208,\n        \"samples\": [],\n        \"semantic_type\": \"\",\n        \"description\": \"\"\n      }\n    },\n    {\n      \"column\": \"Route\",\n      \"properties\": {\n        \"dtype\": \"category\",\n        \"num_unique_values\": 16,\n        \"samples\": [],\n        \"semantic_type\": \"\",\n        \"description\": \"\"\n      }\n    },\n    {\n      \"column\": \"Matrix\",\n      \"properties\": {\n        \"dtype\": \"category\",\n        \"num_unique_values\": 19,\n        \"samples\": [],\n        \"semantic_type\": \"\",\n        \"description\": \"\"\n      }\n    },\n    {\n      \"column\": \"Dose\",\n      \"properties\": {\n        \"dtype\": \"number\",\n        \"std\": 8327.761691705895,\n        \"min\": 0.0,\n        \"max\": 200000.0,\n        \"num_unique_values\": 119,\n        \"samples\": [],\n        \"semantic_type\": \"\",\n        \"description\": \"\"\n      }\n    },\n    {\n      \"column\": \"LambdaZHl\",\n      \"properties\": {\n        \"dtype\": \"number\",\n        \"std\": 382.7637729453328,\n        \"min\": 0.12,\n        \"max\": 7936.38,\n        \"num_unique_values\": 632,\n        \"samples\": [],\n        \"semantic_type\": \"\",\n        \"description\": \"\"\n      }\n    },\n    {\n      \"column\": \"CAS\",\n      \"properties\": {\n        \"dtype\": \"category\",\n        \"num_unique_values\": 192,\n        \"samples\": [],\n        \"semantic_type\": \"\",\n        \"description\": \"\"\n      }\n    },\n    {\n      \"column\": \"PubChemCID\",\n      \"properties\": {\n        \"dtype\": \"number\",\n        \"std\": 21034073,\n        \"min\": 338,\n        \"max\": 168009903,\n        \"num_unique_values\": 191,\n        \"samples\": [],\n        \"semantic_type\": \"\",\n        \"description\": \"\"\n      }\n    },\n    {\n      \"column\": \"SMILES\",\n      \"properties\": {\n        \"dtype\": \"category\",\n        \"num_unique_values\": 188,\n        \"samples\": [],\n        \"semantic_type\": \"\",\n        \"description\": \"\"\n      }\n    }\n  ]\n}"
            }
          },
          "metadata": {},
          "execution_count": 67
        }
      ],
      "source": [
        "group_cols = [c for c in df.columns if c != 'LambdaZHl']\n",
        "\n",
        "df = (\n",
        "    df\n",
        "    .sort_values('LambdaZHl', ascending=False)\n",
        "    .drop_duplicates(subset=group_cols, keep='first')\n",
        "    .reset_index(drop=True)\n",
        ")\n",
        "\n",
        "df = df.dropna(subset=['LambdaZHl', 'SMILES', 'Route', 'Matrix'])\n",
        "\n",
        "df"
      ]
    },
    {
      "cell_type": "code",
      "execution_count": 68,
      "metadata": {
        "id": "rO-H_3bai3L3",
        "colab": {
          "base_uri": "https://localhost:8080/",
          "height": 534
        },
        "outputId": "8e7473b3-5767-4676-8fae-1425df186155"
      },
      "outputs": [
        {
          "output_type": "stream",
          "name": "stderr",
          "text": [
            "<ipython-input-68-8041b447ce3e>:11: SettingWithCopyWarning: \n",
            "A value is trying to be set on a copy of a slice from a DataFrame.\n",
            "Try using .loc[row_indexer,col_indexer] = value instead\n",
            "\n",
            "See the caveats in the documentation: https://pandas.pydata.org/pandas-docs/stable/user_guide/indexing.html#returning-a-view-versus-a-copy\n",
            "  df['LambdaZHl_log'] = np.log(df['LambdaZHl'] + 1e-6)\n"
          ]
        },
        {
          "output_type": "execute_result",
          "data": {
            "text/plain": [
              "     CitationNumber  Long-acting                    Drug  \\\n",
              "0           9015577          NaN               Fluazuron   \n",
              "1           9015593          NaN  Imidocarb dipropionate   \n",
              "2           9015168          NaN               Fluazuron   \n",
              "3           9015168          NaN               Fluazuron   \n",
              "4           9015577          NaN               Fluazuron   \n",
              "..              ...          ...                     ...   \n",
              "688         9018415          NaN              Carbetocin   \n",
              "689         9001367          NaN     Penicillin G sodium   \n",
              "690         9015487          NaN               Carazolol   \n",
              "691         9018461          NaN                Oxytocin   \n",
              "692         9018158          NaN                Oxytocin   \n",
              "\n",
              "                    Analyte                Route  Matrix    Dose    LambdaZHl  \\\n",
              "0                 Fluazuron         Subcutaneous  Kidney  1.5000  7936.380000   \n",
              "1    Imidocarb dipropionate         Subcutaneous     Fat  3.0000  2046.800000   \n",
              "2                 Fluazuron         Subcutaneous  Plasma  1.0000  1872.000000   \n",
              "3                 Fluazuron  Cutaneous (topical)  Plasma  1.0000  1764.000000   \n",
              "4                 Fluazuron  Cutaneous (topical)     Fat  2.0000  1408.450000   \n",
              "..                      ...                  ...     ...     ...          ...   \n",
              "688              Carbetocin          Intravenous  Plasma     NaN     0.430000   \n",
              "689            Penicillin G        Intramuscular   Serum  0.6732     0.353800   \n",
              "690               Carazolol          Intravenous   Serum     NaN     0.308395   \n",
              "691                Oxytocin                Other  Plasma     NaN     0.261667   \n",
              "692                Oxytocin          Intravenous  Plasma     NaN     0.120000   \n",
              "\n",
              "            CAS  PubChemCID  \\\n",
              "0    86811-58-7       65651   \n",
              "1    55750-06-6     9983292   \n",
              "2    86811-58-7       65651   \n",
              "3    86811-58-7       65651   \n",
              "4    86811-58-7       65651   \n",
              "..          ...         ...   \n",
              "688  37025-55-1    16681432   \n",
              "689     69-57-8    23668834   \n",
              "690  57775-29-8       71739   \n",
              "691     50-56-6      439302   \n",
              "692     50-56-6      439302   \n",
              "\n",
              "                                                SMILES  LambdaZHl_log  \n",
              "0    C1=CC(=C(C(=C1)F)C(=O)NC(=O)NC2=CC(=C(C=C2)Cl)...       8.979213  \n",
              "1    CCC(=O)O.CCC(=O)O.C1CN=C(N1)C2=CC(=CC=C2)NC(=O...       7.624033  \n",
              "2    C1=CC(=C(C(=C1)F)C(=O)NC(=O)NC2=CC(=C(C=C2)Cl)...       7.534763  \n",
              "3    C1=CC(=C(C(=C1)F)C(=O)NC(=O)NC2=CC(=C(C=C2)Cl)...       7.475339  \n",
              "4    C1=CC(=C(C(=C1)F)C(=O)NC(=O)NC2=CC(=C(C=C2)Cl)...       7.250245  \n",
              "..                                                 ...            ...  \n",
              "688  CCC(C)C1C(=O)NC(C(=O)NC(C(=O)NC(CSCCCC(=O)NC(C...      -0.843968  \n",
              "689  CC1(C(N2C(S1)C(C2=O)NC(=O)CC3=CC=CC=C3)C(=O)[O...      -1.039021  \n",
              "690             CC(C)NCC(COC1=CC=CC2=C1C3=CC=CC=C3N2)O      -1.176371  \n",
              "691  CCC(C)C1C(=O)NC(C(=O)NC(C(=O)NC(CSSCC(C(=O)NC(...      -1.340680  \n",
              "692  CCC(C)C1C(=O)NC(C(=O)NC(C(=O)NC(CSSCC(C(=O)NC(...      -2.120255  \n",
              "\n",
              "[686 rows x 12 columns]"
            ],
            "text/html": [
              "\n",
              "  <div id=\"df-52f4b760-96d8-4fa2-b26d-2b48c6d3c55f\" class=\"colab-df-container\">\n",
              "    <div>\n",
              "<style scoped>\n",
              "    .dataframe tbody tr th:only-of-type {\n",
              "        vertical-align: middle;\n",
              "    }\n",
              "\n",
              "    .dataframe tbody tr th {\n",
              "        vertical-align: top;\n",
              "    }\n",
              "\n",
              "    .dataframe thead th {\n",
              "        text-align: right;\n",
              "    }\n",
              "</style>\n",
              "<table border=\"1\" class=\"dataframe\">\n",
              "  <thead>\n",
              "    <tr style=\"text-align: right;\">\n",
              "      <th></th>\n",
              "      <th>CitationNumber</th>\n",
              "      <th>Long-acting</th>\n",
              "      <th>Drug</th>\n",
              "      <th>Analyte</th>\n",
              "      <th>Route</th>\n",
              "      <th>Matrix</th>\n",
              "      <th>Dose</th>\n",
              "      <th>LambdaZHl</th>\n",
              "      <th>CAS</th>\n",
              "      <th>PubChemCID</th>\n",
              "      <th>SMILES</th>\n",
              "      <th>LambdaZHl_log</th>\n",
              "    </tr>\n",
              "  </thead>\n",
              "  <tbody>\n",
              "    <tr>\n",
              "      <th>0</th>\n",
              "      <td>9015577</td>\n",
              "      <td>NaN</td>\n",
              "      <td>Fluazuron</td>\n",
              "      <td>Fluazuron</td>\n",
              "      <td>Subcutaneous</td>\n",
              "      <td>Kidney</td>\n",
              "      <td>1.5000</td>\n",
              "      <td>7936.380000</td>\n",
              "      <td>86811-58-7</td>\n",
              "      <td>65651</td>\n",
              "      <td>C1=CC(=C(C(=C1)F)C(=O)NC(=O)NC2=CC(=C(C=C2)Cl)...</td>\n",
              "      <td>8.979213</td>\n",
              "    </tr>\n",
              "    <tr>\n",
              "      <th>1</th>\n",
              "      <td>9015593</td>\n",
              "      <td>NaN</td>\n",
              "      <td>Imidocarb dipropionate</td>\n",
              "      <td>Imidocarb dipropionate</td>\n",
              "      <td>Subcutaneous</td>\n",
              "      <td>Fat</td>\n",
              "      <td>3.0000</td>\n",
              "      <td>2046.800000</td>\n",
              "      <td>55750-06-6</td>\n",
              "      <td>9983292</td>\n",
              "      <td>CCC(=O)O.CCC(=O)O.C1CN=C(N1)C2=CC(=CC=C2)NC(=O...</td>\n",
              "      <td>7.624033</td>\n",
              "    </tr>\n",
              "    <tr>\n",
              "      <th>2</th>\n",
              "      <td>9015168</td>\n",
              "      <td>NaN</td>\n",
              "      <td>Fluazuron</td>\n",
              "      <td>Fluazuron</td>\n",
              "      <td>Subcutaneous</td>\n",
              "      <td>Plasma</td>\n",
              "      <td>1.0000</td>\n",
              "      <td>1872.000000</td>\n",
              "      <td>86811-58-7</td>\n",
              "      <td>65651</td>\n",
              "      <td>C1=CC(=C(C(=C1)F)C(=O)NC(=O)NC2=CC(=C(C=C2)Cl)...</td>\n",
              "      <td>7.534763</td>\n",
              "    </tr>\n",
              "    <tr>\n",
              "      <th>3</th>\n",
              "      <td>9015168</td>\n",
              "      <td>NaN</td>\n",
              "      <td>Fluazuron</td>\n",
              "      <td>Fluazuron</td>\n",
              "      <td>Cutaneous (topical)</td>\n",
              "      <td>Plasma</td>\n",
              "      <td>1.0000</td>\n",
              "      <td>1764.000000</td>\n",
              "      <td>86811-58-7</td>\n",
              "      <td>65651</td>\n",
              "      <td>C1=CC(=C(C(=C1)F)C(=O)NC(=O)NC2=CC(=C(C=C2)Cl)...</td>\n",
              "      <td>7.475339</td>\n",
              "    </tr>\n",
              "    <tr>\n",
              "      <th>4</th>\n",
              "      <td>9015577</td>\n",
              "      <td>NaN</td>\n",
              "      <td>Fluazuron</td>\n",
              "      <td>Fluazuron</td>\n",
              "      <td>Cutaneous (topical)</td>\n",
              "      <td>Fat</td>\n",
              "      <td>2.0000</td>\n",
              "      <td>1408.450000</td>\n",
              "      <td>86811-58-7</td>\n",
              "      <td>65651</td>\n",
              "      <td>C1=CC(=C(C(=C1)F)C(=O)NC(=O)NC2=CC(=C(C=C2)Cl)...</td>\n",
              "      <td>7.250245</td>\n",
              "    </tr>\n",
              "    <tr>\n",
              "      <th>...</th>\n",
              "      <td>...</td>\n",
              "      <td>...</td>\n",
              "      <td>...</td>\n",
              "      <td>...</td>\n",
              "      <td>...</td>\n",
              "      <td>...</td>\n",
              "      <td>...</td>\n",
              "      <td>...</td>\n",
              "      <td>...</td>\n",
              "      <td>...</td>\n",
              "      <td>...</td>\n",
              "      <td>...</td>\n",
              "    </tr>\n",
              "    <tr>\n",
              "      <th>688</th>\n",
              "      <td>9018415</td>\n",
              "      <td>NaN</td>\n",
              "      <td>Carbetocin</td>\n",
              "      <td>Carbetocin</td>\n",
              "      <td>Intravenous</td>\n",
              "      <td>Plasma</td>\n",
              "      <td>NaN</td>\n",
              "      <td>0.430000</td>\n",
              "      <td>37025-55-1</td>\n",
              "      <td>16681432</td>\n",
              "      <td>CCC(C)C1C(=O)NC(C(=O)NC(C(=O)NC(CSCCCC(=O)NC(C...</td>\n",
              "      <td>-0.843968</td>\n",
              "    </tr>\n",
              "    <tr>\n",
              "      <th>689</th>\n",
              "      <td>9001367</td>\n",
              "      <td>NaN</td>\n",
              "      <td>Penicillin G sodium</td>\n",
              "      <td>Penicillin G</td>\n",
              "      <td>Intramuscular</td>\n",
              "      <td>Serum</td>\n",
              "      <td>0.6732</td>\n",
              "      <td>0.353800</td>\n",
              "      <td>69-57-8</td>\n",
              "      <td>23668834</td>\n",
              "      <td>CC1(C(N2C(S1)C(C2=O)NC(=O)CC3=CC=CC=C3)C(=O)[O...</td>\n",
              "      <td>-1.039021</td>\n",
              "    </tr>\n",
              "    <tr>\n",
              "      <th>690</th>\n",
              "      <td>9015487</td>\n",
              "      <td>NaN</td>\n",
              "      <td>Carazolol</td>\n",
              "      <td>Carazolol</td>\n",
              "      <td>Intravenous</td>\n",
              "      <td>Serum</td>\n",
              "      <td>NaN</td>\n",
              "      <td>0.308395</td>\n",
              "      <td>57775-29-8</td>\n",
              "      <td>71739</td>\n",
              "      <td>CC(C)NCC(COC1=CC=CC2=C1C3=CC=CC=C3N2)O</td>\n",
              "      <td>-1.176371</td>\n",
              "    </tr>\n",
              "    <tr>\n",
              "      <th>691</th>\n",
              "      <td>9018461</td>\n",
              "      <td>NaN</td>\n",
              "      <td>Oxytocin</td>\n",
              "      <td>Oxytocin</td>\n",
              "      <td>Other</td>\n",
              "      <td>Plasma</td>\n",
              "      <td>NaN</td>\n",
              "      <td>0.261667</td>\n",
              "      <td>50-56-6</td>\n",
              "      <td>439302</td>\n",
              "      <td>CCC(C)C1C(=O)NC(C(=O)NC(C(=O)NC(CSSCC(C(=O)NC(...</td>\n",
              "      <td>-1.340680</td>\n",
              "    </tr>\n",
              "    <tr>\n",
              "      <th>692</th>\n",
              "      <td>9018158</td>\n",
              "      <td>NaN</td>\n",
              "      <td>Oxytocin</td>\n",
              "      <td>Oxytocin</td>\n",
              "      <td>Intravenous</td>\n",
              "      <td>Plasma</td>\n",
              "      <td>NaN</td>\n",
              "      <td>0.120000</td>\n",
              "      <td>50-56-6</td>\n",
              "      <td>439302</td>\n",
              "      <td>CCC(C)C1C(=O)NC(C(=O)NC(C(=O)NC(CSSCC(C(=O)NC(...</td>\n",
              "      <td>-2.120255</td>\n",
              "    </tr>\n",
              "  </tbody>\n",
              "</table>\n",
              "<p>686 rows × 12 columns</p>\n",
              "</div>\n",
              "    <div class=\"colab-df-buttons\">\n",
              "\n",
              "  <div class=\"colab-df-container\">\n",
              "    <button class=\"colab-df-convert\" onclick=\"convertToInteractive('df-52f4b760-96d8-4fa2-b26d-2b48c6d3c55f')\"\n",
              "            title=\"Convert this dataframe to an interactive table.\"\n",
              "            style=\"display:none;\">\n",
              "\n",
              "  <svg xmlns=\"http://www.w3.org/2000/svg\" height=\"24px\" viewBox=\"0 -960 960 960\">\n",
              "    <path d=\"M120-120v-720h720v720H120Zm60-500h600v-160H180v160Zm220 220h160v-160H400v160Zm0 220h160v-160H400v160ZM180-400h160v-160H180v160Zm440 0h160v-160H620v160ZM180-180h160v-160H180v160Zm440 0h160v-160H620v160Z\"/>\n",
              "  </svg>\n",
              "    </button>\n",
              "\n",
              "  <style>\n",
              "    .colab-df-container {\n",
              "      display:flex;\n",
              "      gap: 12px;\n",
              "    }\n",
              "\n",
              "    .colab-df-convert {\n",
              "      background-color: #E8F0FE;\n",
              "      border: none;\n",
              "      border-radius: 50%;\n",
              "      cursor: pointer;\n",
              "      display: none;\n",
              "      fill: #1967D2;\n",
              "      height: 32px;\n",
              "      padding: 0 0 0 0;\n",
              "      width: 32px;\n",
              "    }\n",
              "\n",
              "    .colab-df-convert:hover {\n",
              "      background-color: #E2EBFA;\n",
              "      box-shadow: 0px 1px 2px rgba(60, 64, 67, 0.3), 0px 1px 3px 1px rgba(60, 64, 67, 0.15);\n",
              "      fill: #174EA6;\n",
              "    }\n",
              "\n",
              "    .colab-df-buttons div {\n",
              "      margin-bottom: 4px;\n",
              "    }\n",
              "\n",
              "    [theme=dark] .colab-df-convert {\n",
              "      background-color: #3B4455;\n",
              "      fill: #D2E3FC;\n",
              "    }\n",
              "\n",
              "    [theme=dark] .colab-df-convert:hover {\n",
              "      background-color: #434B5C;\n",
              "      box-shadow: 0px 1px 3px 1px rgba(0, 0, 0, 0.15);\n",
              "      filter: drop-shadow(0px 1px 2px rgba(0, 0, 0, 0.3));\n",
              "      fill: #FFFFFF;\n",
              "    }\n",
              "  </style>\n",
              "\n",
              "    <script>\n",
              "      const buttonEl =\n",
              "        document.querySelector('#df-52f4b760-96d8-4fa2-b26d-2b48c6d3c55f button.colab-df-convert');\n",
              "      buttonEl.style.display =\n",
              "        google.colab.kernel.accessAllowed ? 'block' : 'none';\n",
              "\n",
              "      async function convertToInteractive(key) {\n",
              "        const element = document.querySelector('#df-52f4b760-96d8-4fa2-b26d-2b48c6d3c55f');\n",
              "        const dataTable =\n",
              "          await google.colab.kernel.invokeFunction('convertToInteractive',\n",
              "                                                    [key], {});\n",
              "        if (!dataTable) return;\n",
              "\n",
              "        const docLinkHtml = 'Like what you see? Visit the ' +\n",
              "          '<a target=\"_blank\" href=https://colab.research.google.com/notebooks/data_table.ipynb>data table notebook</a>'\n",
              "          + ' to learn more about interactive tables.';\n",
              "        element.innerHTML = '';\n",
              "        dataTable['output_type'] = 'display_data';\n",
              "        await google.colab.output.renderOutput(dataTable, element);\n",
              "        const docLink = document.createElement('div');\n",
              "        docLink.innerHTML = docLinkHtml;\n",
              "        element.appendChild(docLink);\n",
              "      }\n",
              "    </script>\n",
              "  </div>\n",
              "\n",
              "\n",
              "    <div id=\"df-1d2f5b7e-3931-4a85-ba3d-f77131bb2c28\">\n",
              "      <button class=\"colab-df-quickchart\" onclick=\"quickchart('df-1d2f5b7e-3931-4a85-ba3d-f77131bb2c28')\"\n",
              "                title=\"Suggest charts\"\n",
              "                style=\"display:none;\">\n",
              "\n",
              "<svg xmlns=\"http://www.w3.org/2000/svg\" height=\"24px\"viewBox=\"0 0 24 24\"\n",
              "     width=\"24px\">\n",
              "    <g>\n",
              "        <path d=\"M19 3H5c-1.1 0-2 .9-2 2v14c0 1.1.9 2 2 2h14c1.1 0 2-.9 2-2V5c0-1.1-.9-2-2-2zM9 17H7v-7h2v7zm4 0h-2V7h2v10zm4 0h-2v-4h2v4z\"/>\n",
              "    </g>\n",
              "</svg>\n",
              "      </button>\n",
              "\n",
              "<style>\n",
              "  .colab-df-quickchart {\n",
              "      --bg-color: #E8F0FE;\n",
              "      --fill-color: #1967D2;\n",
              "      --hover-bg-color: #E2EBFA;\n",
              "      --hover-fill-color: #174EA6;\n",
              "      --disabled-fill-color: #AAA;\n",
              "      --disabled-bg-color: #DDD;\n",
              "  }\n",
              "\n",
              "  [theme=dark] .colab-df-quickchart {\n",
              "      --bg-color: #3B4455;\n",
              "      --fill-color: #D2E3FC;\n",
              "      --hover-bg-color: #434B5C;\n",
              "      --hover-fill-color: #FFFFFF;\n",
              "      --disabled-bg-color: #3B4455;\n",
              "      --disabled-fill-color: #666;\n",
              "  }\n",
              "\n",
              "  .colab-df-quickchart {\n",
              "    background-color: var(--bg-color);\n",
              "    border: none;\n",
              "    border-radius: 50%;\n",
              "    cursor: pointer;\n",
              "    display: none;\n",
              "    fill: var(--fill-color);\n",
              "    height: 32px;\n",
              "    padding: 0;\n",
              "    width: 32px;\n",
              "  }\n",
              "\n",
              "  .colab-df-quickchart:hover {\n",
              "    background-color: var(--hover-bg-color);\n",
              "    box-shadow: 0 1px 2px rgba(60, 64, 67, 0.3), 0 1px 3px 1px rgba(60, 64, 67, 0.15);\n",
              "    fill: var(--button-hover-fill-color);\n",
              "  }\n",
              "\n",
              "  .colab-df-quickchart-complete:disabled,\n",
              "  .colab-df-quickchart-complete:disabled:hover {\n",
              "    background-color: var(--disabled-bg-color);\n",
              "    fill: var(--disabled-fill-color);\n",
              "    box-shadow: none;\n",
              "  }\n",
              "\n",
              "  .colab-df-spinner {\n",
              "    border: 2px solid var(--fill-color);\n",
              "    border-color: transparent;\n",
              "    border-bottom-color: var(--fill-color);\n",
              "    animation:\n",
              "      spin 1s steps(1) infinite;\n",
              "  }\n",
              "\n",
              "  @keyframes spin {\n",
              "    0% {\n",
              "      border-color: transparent;\n",
              "      border-bottom-color: var(--fill-color);\n",
              "      border-left-color: var(--fill-color);\n",
              "    }\n",
              "    20% {\n",
              "      border-color: transparent;\n",
              "      border-left-color: var(--fill-color);\n",
              "      border-top-color: var(--fill-color);\n",
              "    }\n",
              "    30% {\n",
              "      border-color: transparent;\n",
              "      border-left-color: var(--fill-color);\n",
              "      border-top-color: var(--fill-color);\n",
              "      border-right-color: var(--fill-color);\n",
              "    }\n",
              "    40% {\n",
              "      border-color: transparent;\n",
              "      border-right-color: var(--fill-color);\n",
              "      border-top-color: var(--fill-color);\n",
              "    }\n",
              "    60% {\n",
              "      border-color: transparent;\n",
              "      border-right-color: var(--fill-color);\n",
              "    }\n",
              "    80% {\n",
              "      border-color: transparent;\n",
              "      border-right-color: var(--fill-color);\n",
              "      border-bottom-color: var(--fill-color);\n",
              "    }\n",
              "    90% {\n",
              "      border-color: transparent;\n",
              "      border-bottom-color: var(--fill-color);\n",
              "    }\n",
              "  }\n",
              "</style>\n",
              "\n",
              "      <script>\n",
              "        async function quickchart(key) {\n",
              "          const quickchartButtonEl =\n",
              "            document.querySelector('#' + key + ' button');\n",
              "          quickchartButtonEl.disabled = true;  // To prevent multiple clicks.\n",
              "          quickchartButtonEl.classList.add('colab-df-spinner');\n",
              "          try {\n",
              "            const charts = await google.colab.kernel.invokeFunction(\n",
              "                'suggestCharts', [key], {});\n",
              "          } catch (error) {\n",
              "            console.error('Error during call to suggestCharts:', error);\n",
              "          }\n",
              "          quickchartButtonEl.classList.remove('colab-df-spinner');\n",
              "          quickchartButtonEl.classList.add('colab-df-quickchart-complete');\n",
              "        }\n",
              "        (() => {\n",
              "          let quickchartButtonEl =\n",
              "            document.querySelector('#df-1d2f5b7e-3931-4a85-ba3d-f77131bb2c28 button');\n",
              "          quickchartButtonEl.style.display =\n",
              "            google.colab.kernel.accessAllowed ? 'block' : 'none';\n",
              "        })();\n",
              "      </script>\n",
              "    </div>\n",
              "\n",
              "  <div id=\"id_1cd502f6-0443-4a2a-a881-91abf7b3535b\">\n",
              "    <style>\n",
              "      .colab-df-generate {\n",
              "        background-color: #E8F0FE;\n",
              "        border: none;\n",
              "        border-radius: 50%;\n",
              "        cursor: pointer;\n",
              "        display: none;\n",
              "        fill: #1967D2;\n",
              "        height: 32px;\n",
              "        padding: 0 0 0 0;\n",
              "        width: 32px;\n",
              "      }\n",
              "\n",
              "      .colab-df-generate:hover {\n",
              "        background-color: #E2EBFA;\n",
              "        box-shadow: 0px 1px 2px rgba(60, 64, 67, 0.3), 0px 1px 3px 1px rgba(60, 64, 67, 0.15);\n",
              "        fill: #174EA6;\n",
              "      }\n",
              "\n",
              "      [theme=dark] .colab-df-generate {\n",
              "        background-color: #3B4455;\n",
              "        fill: #D2E3FC;\n",
              "      }\n",
              "\n",
              "      [theme=dark] .colab-df-generate:hover {\n",
              "        background-color: #434B5C;\n",
              "        box-shadow: 0px 1px 3px 1px rgba(0, 0, 0, 0.15);\n",
              "        filter: drop-shadow(0px 1px 2px rgba(0, 0, 0, 0.3));\n",
              "        fill: #FFFFFF;\n",
              "      }\n",
              "    </style>\n",
              "    <button class=\"colab-df-generate\" onclick=\"generateWithVariable('df')\"\n",
              "            title=\"Generate code using this dataframe.\"\n",
              "            style=\"display:none;\">\n",
              "\n",
              "  <svg xmlns=\"http://www.w3.org/2000/svg\" height=\"24px\"viewBox=\"0 0 24 24\"\n",
              "       width=\"24px\">\n",
              "    <path d=\"M7,19H8.4L18.45,9,17,7.55,7,17.6ZM5,21V16.75L18.45,3.32a2,2,0,0,1,2.83,0l1.4,1.43a1.91,1.91,0,0,1,.58,1.4,1.91,1.91,0,0,1-.58,1.4L9.25,21ZM18.45,9,17,7.55Zm-12,3A5.31,5.31,0,0,0,4.9,8.1,5.31,5.31,0,0,0,1,6.5,5.31,5.31,0,0,0,4.9,4.9,5.31,5.31,0,0,0,6.5,1,5.31,5.31,0,0,0,8.1,4.9,5.31,5.31,0,0,0,12,6.5,5.46,5.46,0,0,0,6.5,12Z\"/>\n",
              "  </svg>\n",
              "    </button>\n",
              "    <script>\n",
              "      (() => {\n",
              "      const buttonEl =\n",
              "        document.querySelector('#id_1cd502f6-0443-4a2a-a881-91abf7b3535b button.colab-df-generate');\n",
              "      buttonEl.style.display =\n",
              "        google.colab.kernel.accessAllowed ? 'block' : 'none';\n",
              "\n",
              "      buttonEl.onclick = () => {\n",
              "        google.colab.notebook.generateWithVariable('df');\n",
              "      }\n",
              "      })();\n",
              "    </script>\n",
              "  </div>\n",
              "\n",
              "    </div>\n",
              "  </div>\n"
            ],
            "application/vnd.google.colaboratory.intrinsic+json": {
              "type": "dataframe",
              "variable_name": "df",
              "summary": "{\n  \"name\": \"df\",\n  \"rows\": 686,\n  \"fields\": [\n    {\n      \"column\": \"CitationNumber\",\n      \"properties\": {\n        \"dtype\": \"number\",\n        \"std\": 182045,\n        \"min\": 8004005,\n        \"max\": 9019286,\n        \"num_unique_values\": 332,\n        \"samples\": [\n          9015473,\n          9019175,\n          9015581\n        ],\n        \"semantic_type\": \"\",\n        \"description\": \"\"\n      }\n    },\n    {\n      \"column\": \"Long-acting\",\n      \"properties\": {\n        \"dtype\": \"number\",\n        \"std\": null,\n        \"min\": null,\n        \"max\": null,\n        \"num_unique_values\": 0,\n        \"samples\": [],\n        \"semantic_type\": \"\",\n        \"description\": \"\"\n      }\n    },\n    {\n      \"column\": \"Drug\",\n      \"properties\": {\n        \"dtype\": \"category\",\n        \"num_unique_values\": 209,\n        \"samples\": [],\n        \"semantic_type\": \"\",\n        \"description\": \"\"\n      }\n    },\n    {\n      \"column\": \"Analyte\",\n      \"properties\": {\n        \"dtype\": \"category\",\n        \"num_unique_values\": 208,\n        \"samples\": [],\n        \"semantic_type\": \"\",\n        \"description\": \"\"\n      }\n    },\n    {\n      \"column\": \"Route\",\n      \"properties\": {\n        \"dtype\": \"category\",\n        \"num_unique_values\": 14,\n        \"samples\": [],\n        \"semantic_type\": \"\",\n        \"description\": \"\"\n      }\n    },\n    {\n      \"column\": \"Matrix\",\n      \"properties\": {\n        \"dtype\": \"category\",\n        \"num_unique_values\": 17,\n        \"samples\": [],\n        \"semantic_type\": \"\",\n        \"description\": \"\"\n      }\n    },\n    {\n      \"column\": \"Dose\",\n      \"properties\": {\n        \"dtype\": \"number\",\n        \"std\": 8378.733384205156,\n        \"min\": 0.0,\n        \"max\": 200000.0,\n        \"num_unique_values\": 119,\n        \"samples\": [],\n        \"semantic_type\": \"\",\n        \"description\": \"\"\n      }\n    },\n    {\n      \"column\": \"LambdaZHl\",\n      \"properties\": {\n        \"dtype\": \"number\",\n        \"std\": 384.60437217815024,\n        \"min\": 0.12,\n        \"max\": 7936.38,\n        \"num_unique_values\": 626,\n        \"samples\": [],\n        \"semantic_type\": \"\",\n        \"description\": \"\"\n      }\n    },\n    {\n      \"column\": \"CAS\",\n      \"properties\": {\n        \"dtype\": \"category\",\n        \"num_unique_values\": 192,\n        \"samples\": [],\n        \"semantic_type\": \"\",\n        \"description\": \"\"\n      }\n    },\n    {\n      \"column\": \"PubChemCID\",\n      \"properties\": {\n        \"dtype\": \"number\",\n        \"std\": 21055295,\n        \"min\": 338,\n        \"max\": 168009903,\n        \"num_unique_values\": 191,\n        \"samples\": [],\n        \"semantic_type\": \"\",\n        \"description\": \"\"\n      }\n    },\n    {\n      \"column\": \"SMILES\",\n      \"properties\": {\n        \"dtype\": \"category\",\n        \"num_unique_values\": 188,\n        \"samples\": [],\n        \"semantic_type\": \"\",\n        \"description\": \"\"\n      }\n    },\n    {\n      \"column\": \"LambdaZHl_log\",\n      \"properties\": {\n        \"dtype\": \"number\",\n        \"std\": 1.882704702259214,\n        \"min\": -2.12025520290148,\n        \"max\": 8.97921253100887,\n        \"num_unique_values\": 626,\n        \"samples\": [],\n        \"semantic_type\": \"\",\n        \"description\": \"\"\n      }\n    }\n  ]\n}"
            }
          },
          "metadata": {},
          "execution_count": 68
        }
      ],
      "source": [
        "# Data preprocessing\n",
        "\n",
        "df['LambdaZHl'] = pd.to_numeric(df['LambdaZHl'], errors='coerce')\n",
        "\n",
        "df = df[\n",
        "    (~df['Route'].isin(['Oral-medicated water', 'Transdermal'])) &\n",
        "    (~df['Matrix'].isin(['Ileum ultrafltrate','Exudate']))\n",
        "]\n",
        "\n",
        "\n",
        "df['LambdaZHl_log'] = np.log(df['LambdaZHl'] + 1e-6)\n",
        "\n",
        "df"
      ]
    },
    {
      "cell_type": "code",
      "source": [
        "# Split data with stratification\n",
        "\n",
        "stratify_bins = pd.qcut(df['LambdaZHl_log'], q=5, labels=False)\n",
        "\n",
        "train_df, test_df = train_test_split(df, test_size=0.33, stratify=stratify_bins, random_state=42)\n",
        "\n",
        "train_df.reset_index(drop=True, inplace=True)\n",
        "\n",
        "test_df.reset_index(drop=True, inplace=True)"
      ],
      "metadata": {
        "id": "PSXuJ1AMK90s"
      },
      "execution_count": 65,
      "outputs": []
    },
    {
      "cell_type": "code",
      "execution_count": 6,
      "metadata": {
        "id": "uvtI53fQZmQI"
      },
      "outputs": [],
      "source": [
        "# Label encoding\n",
        "\n",
        "route_encoder = LabelEncoder()\n",
        "\n",
        "matrix_encoder = LabelEncoder()\n",
        "\n",
        "train_df['Route_enc'] = route_encoder.fit_transform(train_df['Route'])\n",
        "\n",
        "train_df['Matrix_enc'] = matrix_encoder.fit_transform(train_df['Matrix'])\n",
        "\n",
        "test_df['Route_enc'] = route_encoder.transform(test_df['Route'])\n",
        "\n",
        "test_df['Matrix_enc'] = matrix_encoder.transform(test_df['Matrix'])"
      ]
    },
    {
      "cell_type": "code",
      "execution_count": 7,
      "metadata": {
        "id": "arM60jW0Zox4"
      },
      "outputs": [],
      "source": [
        "# Standardize targets\n",
        "\n",
        "lambda_scaler = StandardScaler()\n",
        "\n",
        "train_df['LambdaZHl_scaled'] = lambda_scaler.fit_transform(train_df[['LambdaZHl_log']])\n",
        "\n",
        "test_df['LambdaZHl_scaled'] = lambda_scaler.transform(test_df[['LambdaZHl_log']])"
      ]
    },
    {
      "cell_type": "code",
      "execution_count": 8,
      "metadata": {
        "id": "z-nX-QU6ZscU",
        "colab": {
          "base_uri": "https://localhost:8080/",
          "height": 351,
          "referenced_widgets": [
            "59e744188b5d48ac85e721e74ef6ce1f",
            "885f77646b6848c7a80a82b9ba325970",
            "40a5c4f3b30c46b5b167a130dafcbbd9",
            "31aca850c9c54b34a9680ad941e548b2",
            "47f3ddb8daae4d9c98427ff74e5bb7cb",
            "371346550c9242cda4e3a7a6eb3b6fdc",
            "f0effa8ffbb14a659f2329d48fdd5d0d",
            "4e55ce72157644749b17ad0eb8401737",
            "c3f89dd402b14625ad1e3ce8d73b9d9c",
            "994526c18ced46098348d2c07c400e83",
            "a23843660ce042f8bcfc372d998c555c",
            "99e6c8f18d9c404ea638d3cf8d70faa6",
            "44d37ccd1cde46608d5050e18bd31f9b",
            "c420fca0dfef414daf096dbe4bc0ef80",
            "48fa701691e24277850d6db9d9fd4ad8",
            "ee0df70fb5d14e2f8b36c612cc0fc369",
            "26be5d99d7a446cea43ab1ccb07d7f72",
            "daabea346df54fb781fb77373c74481d",
            "418b446fc1df48378d80867a381f040e",
            "966681bae3ee47c38584546204b4e9dd",
            "07313f7b57b54c269173e6d872a01871",
            "9775ca88ed20488a95fed82708cecd57",
            "54258160e9714c92bc9a8ccbc3f5126a",
            "dc137034eee74643a3ce462025e910a0",
            "39f33dba8b1b4330b458949b6567a6dc",
            "bce74424aeca4927acc1fba2ee4d15ab",
            "cd4675f7994c48f9a05e18201130e501",
            "1bc9a7bdb7554529b4d8ea580abf9e35",
            "c0b46e971b9442b6af90ac381eef9981",
            "dfe21896f2e248838af053587694564e",
            "4d9a0d5c85414558896ab208af76057c",
            "616d1334623645d9a854173a7ddbdf38",
            "c67b387d40084bfeb1ebf20a94addf58",
            "8f29db98ddda47ce8a0da9e9edd8b74f",
            "e4e9b492b53948fa87444575831e0785",
            "b768ac1495994332ab7d3cd91966b867",
            "be9187e5cfd24231ba7b82b9eb758117",
            "67bc824de19142b3853d9e5239b17f4b",
            "a9e167efc6ab4ad9b96c2d36ddc15843",
            "52b8874890a04ce3b85f3122eb165d61",
            "844a3c1fe1964c46b0ad40f25a1dacf9",
            "150d1f3f249a492282a26de485a8ac6f",
            "043c23485ce041b29baef7b4dd1c3831",
            "c85dad85164b402eabb8cd7f470322f3",
            "121015f9924849c2b3d49d4c30caa29b",
            "556ab479ea7248d6a917eb716ed81631",
            "fd885c8d44514b4eb9a7caaadbffe83f",
            "8cbfa3fe6503497e9e169f7324b79326",
            "8e5f256b960a4cb2a695718a49d77e24",
            "5e8f77e305b14e788bbc76662fc40085",
            "f177f5fd5c44408f8235b10c8ac6b0fb",
            "d8d53ce82d38495e822e46a63089c01d",
            "5635eb54f5024a4aaeffb2aaec85197a",
            "2ee4958f0b3f46399d38822b0c8a5f67",
            "c3bba6bb04bd43c794af84f10dce0ecd",
            "dd28ecca9c6c40eebee73b3d3b69179d",
            "2a13abfbe3554c168c071015286b5706",
            "3ec3722ceac84afda576f350a26ebe53",
            "451946c425ca4453ada510c767a1c9da",
            "d31ba4da1c9c4a3080eb23ab33f39f9d",
            "a586e807a6a14474bfa0cf82cf760dd3",
            "26ece540e46e4323b16c9c91c23c4f40",
            "a108d7619c384f2db98e5f12b0d6e3a7",
            "746dbd4a4cad4e46bec8dd3fba47f532",
            "ea0f9c27ed104377a99c6857dca25ef4",
            "6f06ebcf2d584ae39289219e9fe425d7",
            "dcb1810ab61a4a0a8eff33f8f9f732a0",
            "b8312cf381f340239fd0d56a6e32ba18",
            "f2c610fc4cc54957a8b2a86fa2663de5",
            "dcf4b0ba508b45b5808586bed123050b",
            "ea6c5015fd20400486e9c431df5d6d3d",
            "5716473d6c6e4c08a1a53bc5cee843ff",
            "ec41a99c3a9740a0b09fae1e13b039ec",
            "f17343dceb34482c8a437a26d0a8257c",
            "8c7e19eb307b43c880ae3d4b4fa0ef18",
            "4973912df04c43e280ff271bf12d5e14",
            "f6cc2d2114b0492cbe568bec41de18b0"
          ]
        },
        "outputId": "2429f0b8-93ef-4727-95ed-82c053c36588"
      },
      "outputs": [
        {
          "output_type": "stream",
          "name": "stderr",
          "text": [
            "/usr/local/lib/python3.11/dist-packages/huggingface_hub/utils/_auth.py:94: UserWarning: \n",
            "The secret `HF_TOKEN` does not exist in your Colab secrets.\n",
            "To authenticate with the Hugging Face Hub, create a token in your settings tab (https://huggingface.co/settings/tokens), set it as secret in your Google Colab and restart your session.\n",
            "You will be able to reuse this secret in all of your notebooks.\n",
            "Please note that authentication is recommended but still optional to access public models or datasets.\n",
            "  warnings.warn(\n"
          ]
        },
        {
          "output_type": "display_data",
          "data": {
            "text/plain": [
              "tokenizer_config.json:   0%|          | 0.00/1.27k [00:00<?, ?B/s]"
            ],
            "application/vnd.jupyter.widget-view+json": {
              "version_major": 2,
              "version_minor": 0,
              "model_id": "59e744188b5d48ac85e721e74ef6ce1f"
            }
          },
          "metadata": {}
        },
        {
          "output_type": "display_data",
          "data": {
            "text/plain": [
              "config.json:   0%|          | 0.00/17.7k [00:00<?, ?B/s]"
            ],
            "application/vnd.jupyter.widget-view+json": {
              "version_major": 2,
              "version_minor": 0,
              "model_id": "99e6c8f18d9c404ea638d3cf8d70faa6"
            }
          },
          "metadata": {}
        },
        {
          "output_type": "display_data",
          "data": {
            "text/plain": [
              "vocab.json:   0%|          | 0.00/6.96k [00:00<?, ?B/s]"
            ],
            "application/vnd.jupyter.widget-view+json": {
              "version_major": 2,
              "version_minor": 0,
              "model_id": "54258160e9714c92bc9a8ccbc3f5126a"
            }
          },
          "metadata": {}
        },
        {
          "output_type": "display_data",
          "data": {
            "text/plain": [
              "merges.txt:   0%|          | 0.00/52.0 [00:00<?, ?B/s]"
            ],
            "application/vnd.jupyter.widget-view+json": {
              "version_major": 2,
              "version_minor": 0,
              "model_id": "8f29db98ddda47ce8a0da9e9edd8b74f"
            }
          },
          "metadata": {}
        },
        {
          "output_type": "display_data",
          "data": {
            "text/plain": [
              "tokenizer.json:   0%|          | 0.00/8.26k [00:00<?, ?B/s]"
            ],
            "application/vnd.jupyter.widget-view+json": {
              "version_major": 2,
              "version_minor": 0,
              "model_id": "121015f9924849c2b3d49d4c30caa29b"
            }
          },
          "metadata": {}
        },
        {
          "output_type": "display_data",
          "data": {
            "text/plain": [
              "added_tokens.json:   0%|          | 0.00/25.0 [00:00<?, ?B/s]"
            ],
            "application/vnd.jupyter.widget-view+json": {
              "version_major": 2,
              "version_minor": 0,
              "model_id": "dd28ecca9c6c40eebee73b3d3b69179d"
            }
          },
          "metadata": {}
        },
        {
          "output_type": "display_data",
          "data": {
            "text/plain": [
              "special_tokens_map.json:   0%|          | 0.00/420 [00:00<?, ?B/s]"
            ],
            "application/vnd.jupyter.widget-view+json": {
              "version_major": 2,
              "version_minor": 0,
              "model_id": "dcb1810ab61a4a0a8eff33f8f9f732a0"
            }
          },
          "metadata": {}
        }
      ],
      "source": [
        "# Enhanced SMILES tokenization with stereochemical awareness\n",
        "\n",
        "tokenizer = AutoTokenizer.from_pretrained(\"DeepChem/ChemBERTa-77M-MTR\")\n",
        "\n",
        "tokenizer.add_special_tokens({'additional_special_tokens': ['/', '\\\\', '@']})  # Add stereo tokens\n",
        "\n",
        "max_length = 256"
      ]
    },
    {
      "cell_type": "code",
      "execution_count": 9,
      "metadata": {
        "id": "jLCImz3K5-Tm"
      },
      "outputs": [],
      "source": [
        "def make_stereo_indices(input_ids, tokenizer):\n",
        "    \"\"\"Map token IDs '/', '\\\\', '@' → 1,2,3; all else → 0.\"\"\"\n",
        "    slash_id     = tokenizer.convert_tokens_to_ids('/')\n",
        "    backslash_id = tokenizer.convert_tokens_to_ids('\\\\')\n",
        "    at_id        = tokenizer.convert_tokens_to_ids('@')\n",
        "    si = torch.zeros_like(input_ids)\n",
        "    si[input_ids == slash_id]     = 1\n",
        "    si[input_ids == backslash_id] = 2\n",
        "    si[input_ids == at_id]        = 3\n",
        "    return si"
      ]
    },
    {
      "cell_type": "code",
      "execution_count": 10,
      "metadata": {
        "id": "uyJGspjvZsZ2"
      },
      "outputs": [],
      "source": [
        "def tokenize_smiles(df):\n",
        "\n",
        "    return tokenizer(\n",
        "\n",
        "        df['SMILES'].tolist(),\n",
        "\n",
        "        padding='max_length',\n",
        "\n",
        "        truncation=True,\n",
        "\n",
        "        max_length=max_length,\n",
        "\n",
        "        return_tensors='pt'\n",
        "\n",
        "    )"
      ]
    },
    {
      "cell_type": "code",
      "execution_count": 11,
      "metadata": {
        "id": "3Vbo5lLtZsXZ"
      },
      "outputs": [],
      "source": [
        "train_encoded = tokenize_smiles(train_df)\n",
        "\n",
        "test_encoded = tokenize_smiles(test_df)"
      ]
    },
    {
      "cell_type": "code",
      "execution_count": 12,
      "metadata": {
        "id": "lhvJ9XkzZsVc"
      },
      "outputs": [],
      "source": [
        "# Dataset class\n",
        "\n",
        "class ChemDataset(Dataset):\n",
        "\n",
        "    def __init__(self, encodings, routes, matrices, labels):\n",
        "\n",
        "        self.input_ids = encodings['input_ids']\n",
        "\n",
        "        self.attention_mask = encodings['attention_mask']\n",
        "\n",
        "        self.routes = routes\n",
        "\n",
        "        self.matrices = matrices\n",
        "\n",
        "        self.labels = labels\n",
        "\n",
        "\n",
        "\n",
        "    def __len__(self):\n",
        "\n",
        "        return len(self.labels)\n",
        "\n",
        "\n",
        "\n",
        "    def __getitem__(self, idx):\n",
        "\n",
        "        return {\n",
        "\n",
        "            'input_ids': self.input_ids[idx],\n",
        "\n",
        "            'attention_mask': self.attention_mask[idx],\n",
        "\n",
        "            'route': torch.tensor(self.routes[idx], dtype=torch.long),\n",
        "\n",
        "            'matrix': torch.tensor(self.matrices[idx], dtype=torch.long),\n",
        "\n",
        "            'labels': torch.tensor(self.labels[idx], dtype=torch.float)\n",
        "\n",
        "        }"
      ]
    },
    {
      "cell_type": "code",
      "execution_count": 45,
      "metadata": {
        "id": "sLS9MbUK6U2A"
      },
      "outputs": [],
      "source": [
        "def prepare_diverse_background(model_to_use, loader, num_samples=50): # Pass the model\n",
        "    \"\"\"Batch up to num_samples examples for SHAP’s background distribution.\"\"\"\n",
        "    model_to_use.eval() # Use the passed model\n",
        "    device = next(model_to_use.parameters()).device # Use the passed model\n",
        "\n",
        "    bg = {k: [] for k in ('input_ids','attention_mask','route','matrix')}\n",
        "    count = 0\n",
        "    for batch in loader:\n",
        "        for k_batch_key in bg.keys(): # Iterate over keys expected in bg\n",
        "            if k_batch_key in batch: # Check if key exists in the current batch\n",
        "                bg[k_batch_key].append(batch[k_batch_key].to(device))\n",
        "\n",
        "        # Update count based on input_ids added\n",
        "        if 'input_ids' in batch:\n",
        "            count += batch['input_ids'].shape[0]\n",
        "\n",
        "        if count >= num_samples:\n",
        "            break\n",
        "\n",
        "    # Concatenate and slice\n",
        "    try:\n",
        "        bg_concatenated = {k_bg: torch.cat(v, dim=0)[:num_samples] for k_bg, v in bg.items() if v} # only concat if list is not empty\n",
        "    except RuntimeError as e:\n",
        "        print(f\"Error during concatenation in prepare_diverse_background: {e}\")\n",
        "        print(\"Background dictionary content:\")\n",
        "        for k_bg, v_list in bg.items():\n",
        "            print(f\"  {k_bg}: {[t.shape for t in v_list if hasattr(t, 'shape')]}\")\n",
        "        raise # Re-raise the error after printing debug info\n",
        "\n",
        "    # Ensure all expected keys are present before returning, pad if necessary or error\n",
        "    # This part depends on what analyze_with_shap strictly expects.\n",
        "    # For now, assuming it handles missing keys gracefully or they are always present.\n",
        "    return (bg_concatenated.get('input_ids'),\n",
        "            bg_concatenated.get('attention_mask'),\n",
        "            bg_concatenated.get('route'),\n",
        "            bg_concatenated.get('matrix'))"
      ]
    },
    {
      "cell_type": "code",
      "execution_count": 14,
      "metadata": {
        "id": "2geoYFJ5ZsTL"
      },
      "outputs": [],
      "source": [
        "class EnhancedChemBERTa(nn.Module):\n",
        "    # Added dropout_rate parameter\n",
        "    def __init__(self, chemberta_path, num_routes, num_matrices, tokenizer, dropout_rate=0.2):\n",
        "        super().__init__()\n",
        "        self.tokenizer = tokenizer\n",
        "        self.chemberta = AutoModel.from_pretrained(chemberta_path)\n",
        "        self.chemberta.resize_token_embeddings(len(tokenizer)) # Assumes tokenizer already has added tokens\n",
        "\n",
        "        # Extra embeddings (same as before)\n",
        "        self.route_embed  = nn.Embedding(num_routes,   16)\n",
        "        self.matrix_embed = nn.Embedding(num_matrices, 16)\n",
        "        self.stereo_embed = nn.Embedding(4,  8)  # none, '/', '\\', '@'\n",
        "\n",
        "        # Attention pooling (same as before)\n",
        "        self.attention = nn.Sequential(\n",
        "            nn.Linear(self.chemberta.config.hidden_size, 256),\n",
        "            nn.Tanh(),\n",
        "            nn.Linear(256, 1),\n",
        "            nn.Softmax(dim=1)\n",
        "        )\n",
        "\n",
        "        # --- Simplified MLP Regressor Head ---\n",
        "        combined_dim = self.chemberta.config.hidden_size + 16 + 16 + 8 # Route + Matrix + Stereo embeds\n",
        "\n",
        "        self.regressor = nn.Sequential(\n",
        "            nn.Linear(combined_dim, 512),\n",
        "            nn.GELU(),\n",
        "            nn.Dropout(dropout_rate), # Added dropout\n",
        "            nn.Linear(512, 256),\n",
        "            nn.GELU(),\n",
        "            nn.Dropout(dropout_rate), # Added dropout\n",
        "            nn.Linear(256, 1)\n",
        "        )\n",
        "\n",
        "    class ResidualBlock(nn.Module):\n",
        "        def __init__(self, dim):\n",
        "            super().__init__()\n",
        "            self.block = nn.Sequential(\n",
        "                nn.Linear(dim, dim*2),\n",
        "                nn.GLU(),\n",
        "                nn.Dropout(0.2),\n",
        "                nn.Linear(dim, dim)\n",
        "            )\n",
        "        def forward(self, x):\n",
        "            return x + self.block(x)\n",
        "\n",
        "    def forward(self,\n",
        "                input_ids=None,\n",
        "                attention_mask=None,\n",
        "                route=None,\n",
        "                matrix=None,\n",
        "                inputs_embeds=None,\n",
        "                stereo_indices=None): # Keep stereo_indices logic internal\n",
        "\n",
        "        # Calculate stereo_indices if not provided (same as before)\n",
        "        if stereo_indices is None and input_ids is not None:\n",
        "            device = input_ids.device # Get device from input_ids\n",
        "            slash_id     = self.tokenizer.convert_tokens_to_ids('/')\n",
        "            backslash_id = self.tokenizer.convert_tokens_to_ids('\\\\')\n",
        "            at_id        = self.tokenizer.convert_tokens_to_ids('@')\n",
        "            stereo_indices = torch.zeros_like(input_ids, device=device) # Ensure device consistency\n",
        "            stereo_indices[input_ids == slash_id]     = 1\n",
        "            stereo_indices[input_ids == backslash_id] = 2\n",
        "            stereo_indices[input_ids == at_id]        = 3\n",
        "        elif stereo_indices is None and inputs_embeds is not None:\n",
        "             raise ValueError(\"stereo_indices must be provided if input_ids is None\")\n",
        "        elif stereo_indices is not None:\n",
        "             # Ensure provided stereo_indices are on the correct device if passed explicitly\n",
        "             device = self.chemberta.device # Get device from model parameter\n",
        "             stereo_indices = stereo_indices.to(device)\n",
        "\n",
        "\n",
        "        # ChemBERTa forward pass (same as before)\n",
        "        if inputs_embeds is not None:\n",
        "            # Ensure attention_mask is on the same device as embeddings\n",
        "            device = inputs_embeds.device\n",
        "            attention_mask = attention_mask.to(device) if attention_mask is not None else None\n",
        "            chem_output = self.chemberta(\n",
        "                inputs_embeds=inputs_embeds,\n",
        "                attention_mask=attention_mask\n",
        "            ).last_hidden_state\n",
        "        else:\n",
        "            device = input_ids.device # Device from input_ids\n",
        "            attention_mask = attention_mask.to(device) if attention_mask is not None else None\n",
        "            chem_output = self.chemberta(\n",
        "                input_ids=input_ids,\n",
        "                attention_mask=attention_mask\n",
        "            ).last_hidden_state\n",
        "\n",
        "        # Attention pooling (same as before)\n",
        "        attn_w  = self.attention(chem_output)\n",
        "        chem_p  = torch.sum(chem_output * attn_w, dim=1)\n",
        "\n",
        "        # Other embeddings (ensure tensors are on the correct device - chem_p's device)\n",
        "        route_e  = self.route_embed(route.to(chem_p.device))\n",
        "        matrix_e = self.matrix_embed(matrix.to(chem_p.device))\n",
        "        # Ensure stereo_indices is LongTensor and on the correct device\n",
        "        stereo_e = self.stereo_embed(stereo_indices.long().to(chem_p.device)).mean(dim=1)\n",
        "\n",
        "        # Concatenate all features\n",
        "        x = torch.cat([chem_p, route_e, matrix_e, stereo_e], dim=1)\n",
        "        return self.regressor(x)"
      ]
    },
    {
      "cell_type": "code",
      "execution_count": 53,
      "metadata": {
        "id": "To0MX44h6Cyr"
      },
      "outputs": [],
      "source": [
        "class DeepSHAPWrapper(nn.Module):\n",
        "    def __init__(self, model): # model is EnhancedChemBERTa\n",
        "        super().__init__()\n",
        "        self.model = model\n",
        "\n",
        "    def forward(self,\n",
        "                chem_embeds: torch.Tensor,    # 1st argument\n",
        "                attention_mask: torch.Tensor, # 2nd argument\n",
        "                route_emb: torch.Tensor,      # 3rd argument\n",
        "                matrix_emb: torch.Tensor,     # 4th argument\n",
        "                stereo_emb: torch.Tensor      # 5th argument <<<< THIS MUST BE PRESENT\n",
        "               ):\n",
        "        # Your forward pass logic using these 5 arguments\n",
        "        chem_out = self.model.chemberta(\n",
        "            inputs_embeds=chem_embeds,\n",
        "            attention_mask=attention_mask\n",
        "        ).last_hidden_state\n",
        "        attn_w = self.model.attention(chem_out)\n",
        "        chem_pooled = torch.sum(chem_out * attn_w, dim=1)\n",
        "\n",
        "        # Concatenate with the pre-computed stereo_emb\n",
        "        x = torch.cat([chem_pooled, route_emb, matrix_emb, stereo_emb], dim=1) # Use stereo_emb\n",
        "        return self.model.regressor(x)\n"
      ]
    },
    {
      "cell_type": "code",
      "execution_count": 16,
      "metadata": {
        "id": "F_uM5tywggOn"
      },
      "outputs": [],
      "source": [
        "# ——— insert after EnhancedChemBERTa\n",
        "class EmbeddingWrapper(nn.Module):\n",
        "    def __init__(self, model):\n",
        "        super().__init__()\n",
        "        self.chemberta    = model.chemberta\n",
        "        self.route_embed  = model.route_embed\n",
        "        self.matrix_embed = model.matrix_embed\n",
        "        self.attention    = model.attention\n",
        "        self.regressor    = model.regressor\n",
        "\n",
        "    def forward(self, inputs_embeds, attention_mask, route, matrix, stereo_indices):\n",
        "        # 1) backbone from embeddings\n",
        "        chem_output = self.chemberta(\n",
        "            inputs_embeds=inputs_embeds,\n",
        "            attention_mask=attention_mask.long()\n",
        "        ).last_hidden_state  # [B, L, H]\n",
        "\n",
        "        # 2) attention pooling\n",
        "        attn_w      = self.attention(chem_output)       # [B, L, 1]\n",
        "        chem_pooled = (chem_output * attn_w).sum(1)     # [B, H]\n",
        "\n",
        "        # 3) metadata embeddings\n",
        "        route_e     = self.route_embed(route.long())    # [B, E1]\n",
        "        matrix_e    = self.matrix_embed(matrix.long())  # [B, E2]\n",
        "        stereo_emb = self.stereo_embed(stereo_indices.long()).mean(dim=1)\n",
        "\n",
        "        # 4) combine & predict\n",
        "        combined = torch.cat([chem_pooled, route_e, matrix_e, stereo_emb], dim=1)\n",
        "        return self.regressor(combined)                # [B,1]"
      ]
    },
    {
      "cell_type": "code",
      "execution_count": 17,
      "metadata": {
        "id": "zleUyjQNZsOs"
      },
      "outputs": [],
      "source": [
        "# Training setup with augmentation\n",
        "\n",
        "def train_epoch(model, loader, optimizer, criterion, scheduler):\n",
        "\n",
        "    model.train()\n",
        "\n",
        "    total_loss = 0\n",
        "\n",
        "    for batch in loader:\n",
        "\n",
        "        optimizer.zero_grad()\n",
        "\n",
        "        inputs = {k: v.to(device) for k, v in batch.items() if k != 'labels'}\n",
        "\n",
        "        labels = batch['labels'].to(device)\n",
        "\n",
        "\n",
        "\n",
        "        outputs = model(**inputs)\n",
        "\n",
        "        loss = criterion(outputs.squeeze(), labels)\n",
        "\n",
        "\n",
        "\n",
        "        loss.backward()\n",
        "\n",
        "        nn.utils.clip_grad_norm_(model.parameters(), 1.0)\n",
        "\n",
        "        optimizer.step()\n",
        "\n",
        "        scheduler.step()\n",
        "\n",
        "\n",
        "\n",
        "        total_loss += loss.item()\n",
        "\n",
        "    return total_loss / len(loader)\n",
        "\n",
        "\n",
        "\n",
        "def evaluate_model(model, loader, criterion):\n",
        "\n",
        "    model.eval()\n",
        "\n",
        "    total_loss = 0\n",
        "\n",
        "    all_preds = []\n",
        "\n",
        "    all_labels = []\n",
        "\n",
        "    with torch.no_grad():\n",
        "\n",
        "        for batch in loader:\n",
        "\n",
        "            inputs = {k: v.to(device) for k, v in batch.items() if k != 'labels'}\n",
        "\n",
        "            labels = batch['labels'].to(device)\n",
        "\n",
        "            outputs = model(**inputs)\n",
        "\n",
        "            loss = criterion(outputs.squeeze(), labels)\n",
        "\n",
        "            total_loss += loss.item()\n",
        "\n",
        "            all_preds.extend(outputs.squeeze().cpu().numpy())\n",
        "\n",
        "            all_labels.extend(labels.cpu().numpy())\n",
        "\n",
        "\n",
        "\n",
        "    return {\n",
        "\n",
        "        'loss': total_loss / len(loader),\n",
        "\n",
        "        'mae': mean_absolute_error(all_labels, all_preds),\n",
        "\n",
        "        'rmse': sqrt(mean_squared_error(all_labels, all_preds)),\n",
        "\n",
        "        'r2': r2_score(all_labels, all_preds)\n",
        "\n",
        "    }\n",
        "\n"
      ]
    },
    {
      "cell_type": "code",
      "execution_count": 18,
      "metadata": {
        "id": "dj82xA9AZsI_"
      },
      "outputs": [],
      "source": [
        "from rdkit import Chem\n",
        "\n",
        "def objective(trial):\n",
        "    # hyperparameters\n",
        "    config = {\n",
        "    'epochs': 60,\n",
        "    'batch_size': trial.suggest_categorical(\"batch_size\", [16, 32, 64]),\n",
        "    'bert_lr':    trial.suggest_float(\"bert_lr\",    1.5e-5, 6e-5, log=True), # Previous best was ~3.25e-5\n",
        "    'head_lr':    trial.suggest_float(\"head_lr\",    1e-4, 7e-4, log=True),   # Previous best was ~3.19e-4\n",
        "\n",
        "    # CRITICAL REVISION: Focus on lower weight_decay values\n",
        "    'weight_decay': trial.suggest_float(\"weight_decay\", 1e-7, 5e-5, log=True),\n",
        "\n",
        "    # n_augment was good at 5. Keep a similar range, perhaps add more granularity.\n",
        "    'n_augment': trial.suggest_categorical(\"n_augment\", [0,1,5,10,20,50]), # Focus on non-zero, explore slightly higher\n",
        "                                                                         # If '5' was consistently optimal, you could even fix it or narrow range further.\n",
        "\n",
        "    # dropout_rate was good. Keep a similar range.\n",
        "    'dropout_rate': trial.suggest_float(\"dropout_rate\", 0.25, 0.55), # Previous best ~0.367. Shift range slightly.\n",
        "}\n",
        "\n",
        "    # 2) Train/Val split\n",
        "    kf = KFold(n_splits=5, shuffle=True, random_state=42)\n",
        "    train_idx, val_idx = next(kf.split(train_df))\n",
        "    train_sub = train_df.iloc[train_idx].copy()\n",
        "    val_sub   = train_df.iloc[val_idx]\n",
        "\n",
        "    # Label original rows\n",
        "    train_sub['Source'] = 'experimental'\n",
        "\n",
        "    # 3) Augment SMILES\n",
        "    aug_smiles = []\n",
        "    for smi in train_sub['SMILES']:\n",
        "        mol = Chem.MolFromSmiles(smi)\n",
        "        if not mol:\n",
        "            continue\n",
        "        # generate n_augment random SMILES\n",
        "        for _ in range(config['n_augment']):\n",
        "            aug_smiles.append(\n",
        "                Chem.MolToSmiles(mol, doRandom=True, canonical=False)\n",
        "            )\n",
        "\n",
        "    aug_df = train_sub.loc[train_sub.index.repeat(config['n_augment'])].copy()\n",
        "    aug_df['SMILES'] = aug_smiles\n",
        "    aug_df['Source']  = 'simulated'\n",
        "\n",
        "    # combine & export for this trial\n",
        "    train_aug = pd.concat([train_sub, aug_df], ignore_index=True)\n",
        "\n",
        "\n",
        "    out_path = f\"/content/drive/MyDrive/LLM/augmented_dataset_trial{trial.number}.csv\"\n",
        "    train_aug.to_csv(out_path, index=False)\n",
        "    print(\"Wrote augmented data to\", out_path)\n",
        "\n",
        "    # 4) Tokenize and Dataset\n",
        "    train_dataset = ChemDataset(\n",
        "    tokenize_smiles(train_aug),\n",
        "    train_aug['Route_enc'].values,\n",
        "    train_aug['Matrix_enc'].values,\n",
        "    train_aug['LambdaZHl_scaled'].values.astype(float),\n",
        ")\n",
        "\n",
        "    val_dataset = ChemDataset(\n",
        "        tokenize_smiles(val_sub),\n",
        "        val_sub['Route_enc'].values,\n",
        "        val_sub['Matrix_enc'].values,\n",
        "        val_sub['LambdaZHl_scaled'].values.astype(float),\n",
        "    )\n",
        "\n",
        "    train_loader = DataLoader(train_dataset, batch_size=config['batch_size'], shuffle=True)\n",
        "    val_loader   = DataLoader(val_dataset,   batch_size=config['batch_size'])\n",
        "\n",
        "    # 5) Build model and setup training components\n",
        "    model = EnhancedChemBERTa(\n",
        "        \"DeepChem/ChemBERTa-77M-MTR\",\n",
        "        num_routes=len(route_encoder.classes_),\n",
        "        num_matrices=len(matrix_encoder.classes_),\n",
        "        tokenizer=tokenizer,\n",
        "        dropout_rate=config['dropout_rate'] # Pass suggested dropout rate\n",
        "    ).to(device)\n",
        "\n",
        "    optimizer = AdamW([\n",
        "        {'params': model.chemberta.parameters(), 'lr': config['bert_lr']},\n",
        "        {'params': list(model.route_embed.parameters()) +\n",
        "                   list(model.matrix_embed.parameters()) +\n",
        "                   list(model.stereo_embed.parameters()) +\n",
        "                   list(model.attention.parameters()) +\n",
        "                   list(model.regressor.parameters()), 'lr': config['head_lr']},\n",
        "    ], weight_decay=config['weight_decay'])\n",
        "\n",
        "    total_steps = len(train_loader) * config['epochs']\n",
        "    scheduler = get_cosine_schedule_with_warmup(\n",
        "        optimizer,\n",
        "        num_warmup_steps=int(0.1 * total_steps),\n",
        "        num_training_steps=total_steps,\n",
        "    )\n",
        "    criterion = nn.HuberLoss()\n",
        "    best_r2 = -np.inf\n",
        "\n",
        "    # 6) Training loop with Optuna pruning\n",
        "    for epoch in range(config['epochs']):\n",
        "        train_epoch(model, train_loader, optimizer, criterion, scheduler)\n",
        "        val_metrics = evaluate_model(model, val_loader, criterion)\n",
        "        r2_val = val_metrics['r2']\n",
        "\n",
        "        trial.report(r2_val, step=epoch)\n",
        "        # Early stopping\n",
        "        if trial.should_prune():\n",
        "            raise optuna.exceptions.TrialPruned()\n",
        "\n",
        "        best_r2 = max(best_r2, r2_val)\n",
        "\n",
        "    return best_r2"
      ]
    },
    {
      "cell_type": "code",
      "execution_count": 19,
      "metadata": {
        "colab": {
          "base_uri": "https://localhost:8080/",
          "height": 7097,
          "referenced_widgets": [
            "3b363c7638394cb4885a63e5ea70e384",
            "d7104d3292874514851b007217ecd5f2",
            "8d56832282654cc19ee587086a8a061d",
            "926b512026b146f19c0dc009ff90f771",
            "87ff9aa0906d4236b72cd60848d407f3",
            "fc937d8df9fe4a3195f384b15a16d01a",
            "53f08132d588414187d30e450f58a5b7",
            "6d82858d51204147b17983dc13b54459",
            "e265385b4d2447988eb591e9edbe4264",
            "2ab16acafd4143d59656354d1b800015",
            "e587c84446434d209c04d2897271aff6",
            "7fd989f109174c01a666261a1cefdd3e",
            "674d0c124eb14a3db9e9bbbb72639981",
            "80473624171845288a80316d87121c0f",
            "13a7cb86713b4a6299280ee172dcd0b4",
            "d4a6a5d293c9401d82fabd6722a11aee",
            "b5f33f3eda3d4db7aaacaf8d67499b72",
            "6097364a017a48f29343021e1e186d1c",
            "b8b75ec7e230468abd14ad99a8bec576",
            "8d079336e1af4ee9ae7f5cb60c41c0f4",
            "6223668a4e404795ae5c9bd0722db75e",
            "2d56265c689e46ed932e8e2b20452ef8"
          ]
        },
        "id": "cFo8-EQ2r8Mj",
        "outputId": "7df5f1c6-c86f-4eb8-a780-bb51f01dd921"
      },
      "outputs": [
        {
          "output_type": "stream",
          "name": "stderr",
          "text": [
            "[I 2025-05-09 19:55:05,453] A new study created in memory with name: no-name-fa7fdbca-228a-42b5-adec-f826e282e343\n"
          ]
        },
        {
          "output_type": "stream",
          "name": "stdout",
          "text": [
            "Wrote augmented data to /content/drive/MyDrive/LLM/augmented_dataset_trial0.csv\n"
          ]
        },
        {
          "output_type": "display_data",
          "data": {
            "text/plain": [
              "pytorch_model.bin:   0%|          | 0.00/14.0M [00:00<?, ?B/s]"
            ],
            "application/vnd.jupyter.widget-view+json": {
              "version_major": 2,
              "version_minor": 0,
              "model_id": "3b363c7638394cb4885a63e5ea70e384"
            }
          },
          "metadata": {}
        },
        {
          "output_type": "stream",
          "name": "stderr",
          "text": [
            "Some weights of RobertaModel were not initialized from the model checkpoint at DeepChem/ChemBERTa-77M-MTR and are newly initialized: ['pooler.dense.bias', 'pooler.dense.weight']\n",
            "You should probably TRAIN this model on a down-stream task to be able to use it for predictions and inference.\n"
          ]
        },
        {
          "output_type": "display_data",
          "data": {
            "text/plain": [
              "model.safetensors:   0%|          | 0.00/14.0M [00:00<?, ?B/s]"
            ],
            "application/vnd.jupyter.widget-view+json": {
              "version_major": 2,
              "version_minor": 0,
              "model_id": "7fd989f109174c01a666261a1cefdd3e"
            }
          },
          "metadata": {}
        },
        {
          "output_type": "stream",
          "name": "stderr",
          "text": [
            "[I 2025-05-09 19:57:37,671] Trial 0 finished with value: 0.5150809493453202 and parameters: {'batch_size': 64, 'bert_lr': 5.724691320564472e-05, 'head_lr': 0.00041515063000070545, 'weight_decay': 1.070852656878833e-06, 'n_augment': 10, 'dropout_rate': 0.25905210688043184}. Best is trial 0 with value: 0.5150809493453202.\n"
          ]
        },
        {
          "output_type": "stream",
          "name": "stdout",
          "text": [
            "Wrote augmented data to /content/drive/MyDrive/LLM/augmented_dataset_trial1.csv\n"
          ]
        },
        {
          "output_type": "stream",
          "name": "stderr",
          "text": [
            "Some weights of RobertaModel were not initialized from the model checkpoint at DeepChem/ChemBERTa-77M-MTR and are newly initialized: ['pooler.dense.bias', 'pooler.dense.weight']\n",
            "You should probably TRAIN this model on a down-stream task to be able to use it for predictions and inference.\n",
            "[I 2025-05-09 19:59:55,412] Trial 1 finished with value: 0.5011258258999719 and parameters: {'batch_size': 64, 'bert_lr': 4.508829425522144e-05, 'head_lr': 0.00013912342852586657, 'weight_decay': 2.7733167691192933e-05, 'n_augment': 10, 'dropout_rate': 0.3451633585383347}. Best is trial 0 with value: 0.5150809493453202.\n"
          ]
        },
        {
          "output_type": "stream",
          "name": "stdout",
          "text": [
            "Wrote augmented data to /content/drive/MyDrive/LLM/augmented_dataset_trial2.csv\n"
          ]
        },
        {
          "output_type": "stream",
          "name": "stderr",
          "text": [
            "Some weights of RobertaModel were not initialized from the model checkpoint at DeepChem/ChemBERTa-77M-MTR and are newly initialized: ['pooler.dense.bias', 'pooler.dense.weight']\n",
            "You should probably TRAIN this model on a down-stream task to be able to use it for predictions and inference.\n",
            "[I 2025-05-09 20:01:20,021] Trial 2 finished with value: 0.49329945839002654 and parameters: {'batch_size': 32, 'bert_lr': 4.613525290425606e-05, 'head_lr': 0.00029487709417501835, 'weight_decay': 1.8864785003440677e-06, 'n_augment': 5, 'dropout_rate': 0.3040492451777238}. Best is trial 0 with value: 0.5150809493453202.\n"
          ]
        },
        {
          "output_type": "stream",
          "name": "stdout",
          "text": [
            "Wrote augmented data to /content/drive/MyDrive/LLM/augmented_dataset_trial3.csv\n"
          ]
        },
        {
          "output_type": "stream",
          "name": "stderr",
          "text": [
            "Some weights of RobertaModel were not initialized from the model checkpoint at DeepChem/ChemBERTa-77M-MTR and are newly initialized: ['pooler.dense.bias', 'pooler.dense.weight']\n",
            "You should probably TRAIN this model on a down-stream task to be able to use it for predictions and inference.\n",
            "[I 2025-05-09 20:01:46,726] Trial 3 finished with value: 0.3264050027888066 and parameters: {'batch_size': 64, 'bert_lr': 1.5458781136910953e-05, 'head_lr': 0.00022467911725595222, 'weight_decay': 3.5844328891816734e-06, 'n_augment': 1, 'dropout_rate': 0.44502974870380835}. Best is trial 0 with value: 0.5150809493453202.\n",
            "Some weights of RobertaModel were not initialized from the model checkpoint at DeepChem/ChemBERTa-77M-MTR and are newly initialized: ['pooler.dense.bias', 'pooler.dense.weight']\n",
            "You should probably TRAIN this model on a down-stream task to be able to use it for predictions and inference.\n"
          ]
        },
        {
          "output_type": "stream",
          "name": "stdout",
          "text": [
            "Wrote augmented data to /content/drive/MyDrive/LLM/augmented_dataset_trial4.csv\n"
          ]
        },
        {
          "output_type": "stream",
          "name": "stderr",
          "text": [
            "[I 2025-05-09 20:02:07,209] Trial 4 finished with value: 0.43793099077344055 and parameters: {'batch_size': 16, 'bert_lr': 2.089784942775191e-05, 'head_lr': 0.00039104689508794445, 'weight_decay': 5.616352597126062e-06, 'n_augment': 0, 'dropout_rate': 0.45794874072252695}. Best is trial 0 with value: 0.5150809493453202.\n"
          ]
        },
        {
          "output_type": "stream",
          "name": "stdout",
          "text": [
            "Wrote augmented data to /content/drive/MyDrive/LLM/augmented_dataset_trial5.csv\n"
          ]
        },
        {
          "output_type": "stream",
          "name": "stderr",
          "text": [
            "Some weights of RobertaModel were not initialized from the model checkpoint at DeepChem/ChemBERTa-77M-MTR and are newly initialized: ['pooler.dense.bias', 'pooler.dense.weight']\n",
            "You should probably TRAIN this model on a down-stream task to be able to use it for predictions and inference.\n",
            "[I 2025-05-09 20:17:37,197] Trial 5 finished with value: 0.45155082215079656 and parameters: {'batch_size': 16, 'bert_lr': 1.6037991727948748e-05, 'head_lr': 0.00031907250084824986, 'weight_decay': 7.652150236866298e-06, 'n_augment': 50, 'dropout_rate': 0.4780757826965311}. Best is trial 0 with value: 0.5150809493453202.\n"
          ]
        },
        {
          "output_type": "stream",
          "name": "stdout",
          "text": [
            "Wrote augmented data to /content/drive/MyDrive/LLM/augmented_dataset_trial6.csv\n"
          ]
        },
        {
          "output_type": "stream",
          "name": "stderr",
          "text": [
            "Some weights of RobertaModel were not initialized from the model checkpoint at DeepChem/ChemBERTa-77M-MTR and are newly initialized: ['pooler.dense.bias', 'pooler.dense.weight']\n",
            "You should probably TRAIN this model on a down-stream task to be able to use it for predictions and inference.\n",
            "[I 2025-05-09 20:17:39,436] Trial 6 pruned. \n"
          ]
        },
        {
          "output_type": "stream",
          "name": "stdout",
          "text": [
            "Wrote augmented data to /content/drive/MyDrive/LLM/augmented_dataset_trial7.csv\n"
          ]
        },
        {
          "output_type": "stream",
          "name": "stderr",
          "text": [
            "Some weights of RobertaModel were not initialized from the model checkpoint at DeepChem/ChemBERTa-77M-MTR and are newly initialized: ['pooler.dense.bias', 'pooler.dense.weight']\n",
            "You should probably TRAIN this model on a down-stream task to be able to use it for predictions and inference.\n",
            "[I 2025-05-09 20:21:02,517] Trial 7 finished with value: 0.46550377822947575 and parameters: {'batch_size': 16, 'bert_lr': 2.5070777514901853e-05, 'head_lr': 0.00028039482808741683, 'weight_decay': 3.984695192268688e-06, 'n_augment': 10, 'dropout_rate': 0.5384360435452665}. Best is trial 0 with value: 0.5150809493453202.\n"
          ]
        },
        {
          "output_type": "stream",
          "name": "stdout",
          "text": [
            "Wrote augmented data to /content/drive/MyDrive/LLM/augmented_dataset_trial8.csv\n"
          ]
        },
        {
          "output_type": "stream",
          "name": "stderr",
          "text": [
            "Some weights of RobertaModel were not initialized from the model checkpoint at DeepChem/ChemBERTa-77M-MTR and are newly initialized: ['pooler.dense.bias', 'pooler.dense.weight']\n",
            "You should probably TRAIN this model on a down-stream task to be able to use it for predictions and inference.\n",
            "[I 2025-05-09 20:21:26,962] Trial 8 pruned. \n"
          ]
        },
        {
          "output_type": "stream",
          "name": "stdout",
          "text": [
            "Wrote augmented data to /content/drive/MyDrive/LLM/augmented_dataset_trial9.csv\n"
          ]
        },
        {
          "output_type": "stream",
          "name": "stderr",
          "text": [
            "Some weights of RobertaModel were not initialized from the model checkpoint at DeepChem/ChemBERTa-77M-MTR and are newly initialized: ['pooler.dense.bias', 'pooler.dense.weight']\n",
            "You should probably TRAIN this model on a down-stream task to be able to use it for predictions and inference.\n",
            "[I 2025-05-09 20:21:30,232] Trial 9 pruned. \n"
          ]
        },
        {
          "output_type": "stream",
          "name": "stdout",
          "text": [
            "Wrote augmented data to /content/drive/MyDrive/LLM/augmented_dataset_trial10.csv\n"
          ]
        },
        {
          "output_type": "stream",
          "name": "stderr",
          "text": [
            "Some weights of RobertaModel were not initialized from the model checkpoint at DeepChem/ChemBERTa-77M-MTR and are newly initialized: ['pooler.dense.bias', 'pooler.dense.weight']\n",
            "You should probably TRAIN this model on a down-stream task to be able to use it for predictions and inference.\n",
            "[I 2025-05-09 20:25:50,965] Trial 10 finished with value: 0.5364662252547814 and parameters: {'batch_size': 64, 'bert_lr': 5.352595716887972e-05, 'head_lr': 0.0006898879044521994, 'weight_decay': 1.525403812840224e-07, 'n_augment': 20, 'dropout_rate': 0.2594648482128844}. Best is trial 10 with value: 0.5364662252547814.\n"
          ]
        },
        {
          "output_type": "stream",
          "name": "stdout",
          "text": [
            "Wrote augmented data to /content/drive/MyDrive/LLM/augmented_dataset_trial11.csv\n"
          ]
        },
        {
          "output_type": "stream",
          "name": "stderr",
          "text": [
            "Some weights of RobertaModel were not initialized from the model checkpoint at DeepChem/ChemBERTa-77M-MTR and are newly initialized: ['pooler.dense.bias', 'pooler.dense.weight']\n",
            "You should probably TRAIN this model on a down-stream task to be able to use it for predictions and inference.\n",
            "[I 2025-05-09 20:30:11,675] Trial 11 finished with value: 0.5070198184097113 and parameters: {'batch_size': 64, 'bert_lr': 5.792511624064453e-05, 'head_lr': 0.0006987002447197504, 'weight_decay': 1.2300499986993214e-07, 'n_augment': 20, 'dropout_rate': 0.2525122486720928}. Best is trial 10 with value: 0.5364662252547814.\n"
          ]
        },
        {
          "output_type": "stream",
          "name": "stdout",
          "text": [
            "Wrote augmented data to /content/drive/MyDrive/LLM/augmented_dataset_trial12.csv\n"
          ]
        },
        {
          "output_type": "stream",
          "name": "stderr",
          "text": [
            "Some weights of RobertaModel were not initialized from the model checkpoint at DeepChem/ChemBERTa-77M-MTR and are newly initialized: ['pooler.dense.bias', 'pooler.dense.weight']\n",
            "You should probably TRAIN this model on a down-stream task to be able to use it for predictions and inference.\n",
            "[I 2025-05-09 20:34:34,316] Trial 12 finished with value: 0.47998991688860926 and parameters: {'batch_size': 64, 'bert_lr': 5.900951051517262e-05, 'head_lr': 0.0006639674454914003, 'weight_decay': 1.8525943115629193e-07, 'n_augment': 20, 'dropout_rate': 0.25214309594074713}. Best is trial 10 with value: 0.5364662252547814.\n"
          ]
        },
        {
          "output_type": "stream",
          "name": "stdout",
          "text": [
            "Wrote augmented data to /content/drive/MyDrive/LLM/augmented_dataset_trial13.csv\n"
          ]
        },
        {
          "output_type": "stream",
          "name": "stderr",
          "text": [
            "Some weights of RobertaModel were not initialized from the model checkpoint at DeepChem/ChemBERTa-77M-MTR and are newly initialized: ['pooler.dense.bias', 'pooler.dense.weight']\n",
            "You should probably TRAIN this model on a down-stream task to be able to use it for predictions and inference.\n",
            "[I 2025-05-09 20:38:55,269] Trial 13 finished with value: 0.5236585998185573 and parameters: {'batch_size': 64, 'bert_lr': 3.6538888934201715e-05, 'head_lr': 0.00048124361770537737, 'weight_decay': 4.2759280340622036e-07, 'n_augment': 20, 'dropout_rate': 0.2990500787266399}. Best is trial 10 with value: 0.5364662252547814.\n"
          ]
        },
        {
          "output_type": "stream",
          "name": "stdout",
          "text": [
            "Wrote augmented data to /content/drive/MyDrive/LLM/augmented_dataset_trial14.csv\n"
          ]
        },
        {
          "output_type": "stream",
          "name": "stderr",
          "text": [
            "Some weights of RobertaModel were not initialized from the model checkpoint at DeepChem/ChemBERTa-77M-MTR and are newly initialized: ['pooler.dense.bias', 'pooler.dense.weight']\n",
            "You should probably TRAIN this model on a down-stream task to be able to use it for predictions and inference.\n",
            "[I 2025-05-09 20:43:15,948] Trial 14 finished with value: 0.5025494869219884 and parameters: {'batch_size': 64, 'bert_lr': 3.507818997028118e-05, 'head_lr': 0.0005421551218831483, 'weight_decay': 3.193976482539452e-07, 'n_augment': 20, 'dropout_rate': 0.3101022935388623}. Best is trial 10 with value: 0.5364662252547814.\n"
          ]
        },
        {
          "output_type": "stream",
          "name": "stdout",
          "text": [
            "Wrote augmented data to /content/drive/MyDrive/LLM/augmented_dataset_trial15.csv\n"
          ]
        },
        {
          "output_type": "stream",
          "name": "stderr",
          "text": [
            "Some weights of RobertaModel were not initialized from the model checkpoint at DeepChem/ChemBERTa-77M-MTR and are newly initialized: ['pooler.dense.bias', 'pooler.dense.weight']\n",
            "You should probably TRAIN this model on a down-stream task to be able to use it for predictions and inference.\n",
            "[I 2025-05-09 20:47:36,369] Trial 15 finished with value: 0.5148578134888081 and parameters: {'batch_size': 64, 'bert_lr': 3.3977913546763306e-05, 'head_lr': 0.0004914937688038084, 'weight_decay': 4.421023814563535e-07, 'n_augment': 20, 'dropout_rate': 0.297214348060439}. Best is trial 10 with value: 0.5364662252547814.\n"
          ]
        },
        {
          "output_type": "stream",
          "name": "stdout",
          "text": [
            "Wrote augmented data to /content/drive/MyDrive/LLM/augmented_dataset_trial16.csv\n"
          ]
        },
        {
          "output_type": "stream",
          "name": "stderr",
          "text": [
            "Some weights of RobertaModel were not initialized from the model checkpoint at DeepChem/ChemBERTa-77M-MTR and are newly initialized: ['pooler.dense.bias', 'pooler.dense.weight']\n",
            "You should probably TRAIN this model on a down-stream task to be able to use it for predictions and inference.\n",
            "[I 2025-05-09 20:49:09,097] Trial 16 pruned. \n"
          ]
        },
        {
          "output_type": "stream",
          "name": "stdout",
          "text": [
            "Wrote augmented data to /content/drive/MyDrive/LLM/augmented_dataset_trial17.csv\n"
          ]
        },
        {
          "output_type": "stream",
          "name": "stderr",
          "text": [
            "Some weights of RobertaModel were not initialized from the model checkpoint at DeepChem/ChemBERTa-77M-MTR and are newly initialized: ['pooler.dense.bias', 'pooler.dense.weight']\n",
            "You should probably TRAIN this model on a down-stream task to be able to use it for predictions and inference.\n",
            "[I 2025-05-09 20:49:13,130] Trial 17 pruned. \n"
          ]
        },
        {
          "output_type": "stream",
          "name": "stdout",
          "text": [
            "Wrote augmented data to /content/drive/MyDrive/LLM/augmented_dataset_trial18.csv\n"
          ]
        },
        {
          "output_type": "stream",
          "name": "stderr",
          "text": [
            "Some weights of RobertaModel were not initialized from the model checkpoint at DeepChem/ChemBERTa-77M-MTR and are newly initialized: ['pooler.dense.bias', 'pooler.dense.weight']\n",
            "You should probably TRAIN this model on a down-stream task to be able to use it for predictions and inference.\n",
            "[I 2025-05-09 20:59:44,013] Trial 18 finished with value: 0.5137992876921178 and parameters: {'batch_size': 64, 'bert_lr': 4.9884840754330724e-05, 'head_lr': 0.0006035863900220966, 'weight_decay': 2.29862060350111e-07, 'n_augment': 50, 'dropout_rate': 0.3498315455089126}. Best is trial 10 with value: 0.5364662252547814.\n"
          ]
        },
        {
          "output_type": "stream",
          "name": "stdout",
          "text": [
            "Wrote augmented data to /content/drive/MyDrive/LLM/augmented_dataset_trial19.csv\n"
          ]
        },
        {
          "output_type": "stream",
          "name": "stderr",
          "text": [
            "Some weights of RobertaModel were not initialized from the model checkpoint at DeepChem/ChemBERTa-77M-MTR and are newly initialized: ['pooler.dense.bias', 'pooler.dense.weight']\n",
            "You should probably TRAIN this model on a down-stream task to be able to use it for predictions and inference.\n",
            "[I 2025-05-09 21:01:08,701] Trial 19 finished with value: 0.5003239975803938 and parameters: {'batch_size': 32, 'bert_lr': 3.1536229097802365e-05, 'head_lr': 0.0004717525878846956, 'weight_decay': 6.340092472074078e-07, 'n_augment': 5, 'dropout_rate': 0.279741378127048}. Best is trial 10 with value: 0.5364662252547814.\n"
          ]
        },
        {
          "output_type": "stream",
          "name": "stdout",
          "text": [
            "Wrote augmented data to /content/drive/MyDrive/LLM/augmented_dataset_trial20.csv\n"
          ]
        },
        {
          "output_type": "stream",
          "name": "stderr",
          "text": [
            "Some weights of RobertaModel were not initialized from the model checkpoint at DeepChem/ChemBERTa-77M-MTR and are newly initialized: ['pooler.dense.bias', 'pooler.dense.weight']\n",
            "You should probably TRAIN this model on a down-stream task to be able to use it for predictions and inference.\n",
            "[I 2025-05-09 21:01:36,963] Trial 20 pruned. \n"
          ]
        },
        {
          "output_type": "stream",
          "name": "stdout",
          "text": [
            "Wrote augmented data to /content/drive/MyDrive/LLM/augmented_dataset_trial21.csv\n"
          ]
        },
        {
          "output_type": "stream",
          "name": "stderr",
          "text": [
            "Some weights of RobertaModel were not initialized from the model checkpoint at DeepChem/ChemBERTa-77M-MTR and are newly initialized: ['pooler.dense.bias', 'pooler.dense.weight']\n",
            "You should probably TRAIN this model on a down-stream task to be able to use it for predictions and inference.\n",
            "[I 2025-05-09 21:03:54,843] Trial 21 finished with value: 0.5063765772011917 and parameters: {'batch_size': 64, 'bert_lr': 5.39261344282273e-05, 'head_lr': 0.00038760228041492156, 'weight_decay': 7.772629712542647e-07, 'n_augment': 10, 'dropout_rate': 0.27003564511998984}. Best is trial 10 with value: 0.5364662252547814.\n"
          ]
        },
        {
          "output_type": "stream",
          "name": "stdout",
          "text": [
            "Wrote augmented data to /content/drive/MyDrive/LLM/augmented_dataset_trial22.csv\n"
          ]
        },
        {
          "output_type": "stream",
          "name": "stderr",
          "text": [
            "Some weights of RobertaModel were not initialized from the model checkpoint at DeepChem/ChemBERTa-77M-MTR and are newly initialized: ['pooler.dense.bias', 'pooler.dense.weight']\n",
            "You should probably TRAIN this model on a down-stream task to be able to use it for predictions and inference.\n",
            "[I 2025-05-09 21:04:27,540] Trial 22 pruned. \n"
          ]
        },
        {
          "output_type": "stream",
          "name": "stdout",
          "text": [
            "Wrote augmented data to /content/drive/MyDrive/LLM/augmented_dataset_trial23.csv\n"
          ]
        },
        {
          "output_type": "stream",
          "name": "stderr",
          "text": [
            "Some weights of RobertaModel were not initialized from the model checkpoint at DeepChem/ChemBERTa-77M-MTR and are newly initialized: ['pooler.dense.bias', 'pooler.dense.weight']\n",
            "You should probably TRAIN this model on a down-stream task to be able to use it for predictions and inference.\n",
            "[I 2025-05-09 21:06:45,709] Trial 23 finished with value: 0.5362489120223727 and parameters: {'batch_size': 64, 'bert_lr': 4.180194107332032e-05, 'head_lr': 0.00037264353391493356, 'weight_decay': 6.81583619409286e-07, 'n_augment': 10, 'dropout_rate': 0.27317061547134647}. Best is trial 10 with value: 0.5364662252547814.\n"
          ]
        },
        {
          "output_type": "stream",
          "name": "stdout",
          "text": [
            "Wrote augmented data to /content/drive/MyDrive/LLM/augmented_dataset_trial24.csv\n"
          ]
        },
        {
          "output_type": "stream",
          "name": "stderr",
          "text": [
            "Some weights of RobertaModel were not initialized from the model checkpoint at DeepChem/ChemBERTa-77M-MTR and are newly initialized: ['pooler.dense.bias', 'pooler.dense.weight']\n",
            "You should probably TRAIN this model on a down-stream task to be able to use it for predictions and inference.\n",
            "[I 2025-05-09 21:11:06,408] Trial 24 finished with value: 0.48021436729815437 and parameters: {'batch_size': 64, 'bert_lr': 4.0884440866535746e-05, 'head_lr': 0.0003516266066735631, 'weight_decay': 4.1909543997113594e-07, 'n_augment': 20, 'dropout_rate': 0.28029324877464507}. Best is trial 10 with value: 0.5364662252547814.\n"
          ]
        },
        {
          "output_type": "stream",
          "name": "stdout",
          "text": [
            "Wrote augmented data to /content/drive/MyDrive/LLM/augmented_dataset_trial25.csv\n"
          ]
        },
        {
          "output_type": "stream",
          "name": "stderr",
          "text": [
            "Some weights of RobertaModel were not initialized from the model checkpoint at DeepChem/ChemBERTa-77M-MTR and are newly initialized: ['pooler.dense.bias', 'pooler.dense.weight']\n",
            "You should probably TRAIN this model on a down-stream task to be able to use it for predictions and inference.\n",
            "[I 2025-05-09 21:11:32,951] Trial 25 finished with value: 0.48443093694286354 and parameters: {'batch_size': 64, 'bert_lr': 3.624584354672547e-05, 'head_lr': 0.0005691397550679087, 'weight_decay': 1.5206550051235593e-07, 'n_augment': 1, 'dropout_rate': 0.3697862449312929}. Best is trial 10 with value: 0.5364662252547814.\n"
          ]
        },
        {
          "output_type": "stream",
          "name": "stdout",
          "text": [
            "Wrote augmented data to /content/drive/MyDrive/LLM/augmented_dataset_trial26.csv\n"
          ]
        },
        {
          "output_type": "stream",
          "name": "stderr",
          "text": [
            "Some weights of RobertaModel were not initialized from the model checkpoint at DeepChem/ChemBERTa-77M-MTR and are newly initialized: ['pooler.dense.bias', 'pooler.dense.weight']\n",
            "You should probably TRAIN this model on a down-stream task to be able to use it for predictions and inference.\n",
            "[I 2025-05-09 21:22:03,265] Trial 26 finished with value: 0.508890577534842 and parameters: {'batch_size': 64, 'bert_lr': 3.0093685881145578e-05, 'head_lr': 0.0002475488789607689, 'weight_decay': 2.994456333392153e-07, 'n_augment': 50, 'dropout_rate': 0.3232863064524788}. Best is trial 10 with value: 0.5364662252547814.\n"
          ]
        },
        {
          "output_type": "stream",
          "name": "stdout",
          "text": [
            "Wrote augmented data to /content/drive/MyDrive/LLM/augmented_dataset_trial27.csv\n"
          ]
        },
        {
          "output_type": "stream",
          "name": "stderr",
          "text": [
            "Some weights of RobertaModel were not initialized from the model checkpoint at DeepChem/ChemBERTa-77M-MTR and are newly initialized: ['pooler.dense.bias', 'pooler.dense.weight']\n",
            "You should probably TRAIN this model on a down-stream task to be able to use it for predictions and inference.\n",
            "[I 2025-05-09 21:23:19,245] Trial 27 finished with value: 0.48517089496000343 and parameters: {'batch_size': 64, 'bert_lr': 4.2305102779293054e-05, 'head_lr': 0.0005063620582672698, 'weight_decay': 8.314348292244014e-07, 'n_augment': 5, 'dropout_rate': 0.2784074440852825}. Best is trial 10 with value: 0.5364662252547814.\n"
          ]
        },
        {
          "output_type": "stream",
          "name": "stdout",
          "text": [
            "Wrote augmented data to /content/drive/MyDrive/LLM/augmented_dataset_trial28.csv\n"
          ]
        },
        {
          "output_type": "stream",
          "name": "stderr",
          "text": [
            "Some weights of RobertaModel were not initialized from the model checkpoint at DeepChem/ChemBERTa-77M-MTR and are newly initialized: ['pooler.dense.bias', 'pooler.dense.weight']\n",
            "You should probably TRAIN this model on a down-stream task to be able to use it for predictions and inference.\n",
            "[I 2025-05-09 21:25:53,639] Trial 28 finished with value: 0.49024732525661185 and parameters: {'batch_size': 32, 'bert_lr': 4.961362920382191e-05, 'head_lr': 0.0006257748700372786, 'weight_decay': 6.315659498282577e-07, 'n_augment': 10, 'dropout_rate': 0.32341071036922664}. Best is trial 10 with value: 0.5364662252547814.\n"
          ]
        },
        {
          "output_type": "stream",
          "name": "stdout",
          "text": [
            "Wrote augmented data to /content/drive/MyDrive/LLM/augmented_dataset_trial29.csv\n"
          ]
        },
        {
          "output_type": "stream",
          "name": "stderr",
          "text": [
            "Some weights of RobertaModel were not initialized from the model checkpoint at DeepChem/ChemBERTa-77M-MTR and are newly initialized: ['pooler.dense.bias', 'pooler.dense.weight']\n",
            "You should probably TRAIN this model on a down-stream task to be able to use it for predictions and inference.\n",
            "[I 2025-05-09 21:29:16,969] Trial 29 finished with value: 0.48827755714480725 and parameters: {'batch_size': 16, 'bert_lr': 3.2777575712358714e-05, 'head_lr': 0.0003687906033815048, 'weight_decay': 1.3439172187990974e-06, 'n_augment': 10, 'dropout_rate': 0.25237939415379074}. Best is trial 10 with value: 0.5364662252547814.\n"
          ]
        },
        {
          "output_type": "stream",
          "name": "stdout",
          "text": [
            "Wrote augmented data to /content/drive/MyDrive/LLM/augmented_dataset_trial30.csv\n"
          ]
        },
        {
          "output_type": "stream",
          "name": "stderr",
          "text": [
            "Some weights of RobertaModel were not initialized from the model checkpoint at DeepChem/ChemBERTa-77M-MTR and are newly initialized: ['pooler.dense.bias', 'pooler.dense.weight']\n",
            "You should probably TRAIN this model on a down-stream task to be able to use it for predictions and inference.\n",
            "[I 2025-05-09 21:29:45,467] Trial 30 pruned. \n"
          ]
        },
        {
          "output_type": "stream",
          "name": "stdout",
          "text": [
            "Wrote augmented data to /content/drive/MyDrive/LLM/augmented_dataset_trial31.csv\n"
          ]
        },
        {
          "output_type": "stream",
          "name": "stderr",
          "text": [
            "Some weights of RobertaModel were not initialized from the model checkpoint at DeepChem/ChemBERTa-77M-MTR and are newly initialized: ['pooler.dense.bias', 'pooler.dense.weight']\n",
            "You should probably TRAIN this model on a down-stream task to be able to use it for predictions and inference.\n",
            "[I 2025-05-09 21:30:03,468] Trial 31 pruned. \n"
          ]
        },
        {
          "output_type": "stream",
          "name": "stdout",
          "text": [
            "Wrote augmented data to /content/drive/MyDrive/LLM/augmented_dataset_trial32.csv\n"
          ]
        },
        {
          "output_type": "stream",
          "name": "stderr",
          "text": [
            "Some weights of RobertaModel were not initialized from the model checkpoint at DeepChem/ChemBERTa-77M-MTR and are newly initialized: ['pooler.dense.bias', 'pooler.dense.weight']\n",
            "You should probably TRAIN this model on a down-stream task to be able to use it for predictions and inference.\n",
            "[I 2025-05-09 21:32:21,523] Trial 32 finished with value: 0.5166642913592336 and parameters: {'batch_size': 64, 'bert_lr': 5.16158113497528e-05, 'head_lr': 0.0005113633540174537, 'weight_decay': 1.0294734645286239e-06, 'n_augment': 10, 'dropout_rate': 0.30370933811903783}. Best is trial 10 with value: 0.5364662252547814.\n"
          ]
        },
        {
          "output_type": "stream",
          "name": "stdout",
          "text": [
            "Wrote augmented data to /content/drive/MyDrive/LLM/augmented_dataset_trial33.csv\n"
          ]
        },
        {
          "output_type": "stream",
          "name": "stderr",
          "text": [
            "Some weights of RobertaModel were not initialized from the model checkpoint at DeepChem/ChemBERTa-77M-MTR and are newly initialized: ['pooler.dense.bias', 'pooler.dense.weight']\n",
            "You should probably TRAIN this model on a down-stream task to be able to use it for predictions and inference.\n",
            "[I 2025-05-09 21:32:36,673] Trial 33 pruned. \n"
          ]
        },
        {
          "output_type": "stream",
          "name": "stdout",
          "text": [
            "Wrote augmented data to /content/drive/MyDrive/LLM/augmented_dataset_trial34.csv\n"
          ]
        },
        {
          "output_type": "stream",
          "name": "stderr",
          "text": [
            "Some weights of RobertaModel were not initialized from the model checkpoint at DeepChem/ChemBERTa-77M-MTR and are newly initialized: ['pooler.dense.bias', 'pooler.dense.weight']\n",
            "You should probably TRAIN this model on a down-stream task to be able to use it for predictions and inference.\n",
            "[I 2025-05-09 21:34:54,859] Trial 34 finished with value: 0.5420681662489213 and parameters: {'batch_size': 64, 'bert_lr': 4.559534429873704e-05, 'head_lr': 0.0006970399666142409, 'weight_decay': 9.434108979466207e-07, 'n_augment': 10, 'dropout_rate': 0.34362743593939343}. Best is trial 34 with value: 0.5420681662489213.\n"
          ]
        },
        {
          "output_type": "stream",
          "name": "stdout",
          "text": [
            "Wrote augmented data to /content/drive/MyDrive/LLM/augmented_dataset_trial35.csv\n"
          ]
        },
        {
          "output_type": "stream",
          "name": "stderr",
          "text": [
            "Some weights of RobertaModel were not initialized from the model checkpoint at DeepChem/ChemBERTa-77M-MTR and are newly initialized: ['pooler.dense.bias', 'pooler.dense.weight']\n",
            "You should probably TRAIN this model on a down-stream task to be able to use it for predictions and inference.\n",
            "[I 2025-05-09 21:37:12,716] Trial 35 finished with value: 0.5355852734869642 and parameters: {'batch_size': 64, 'bert_lr': 4.481252926844257e-05, 'head_lr': 0.0006912233635320495, 'weight_decay': 3.8044772562288025e-05, 'n_augment': 10, 'dropout_rate': 0.34742613820068236}. Best is trial 34 with value: 0.5420681662489213.\n"
          ]
        },
        {
          "output_type": "stream",
          "name": "stdout",
          "text": [
            "Wrote augmented data to /content/drive/MyDrive/LLM/augmented_dataset_trial36.csv\n"
          ]
        },
        {
          "output_type": "stream",
          "name": "stderr",
          "text": [
            "Some weights of RobertaModel were not initialized from the model checkpoint at DeepChem/ChemBERTa-77M-MTR and are newly initialized: ['pooler.dense.bias', 'pooler.dense.weight']\n",
            "You should probably TRAIN this model on a down-stream task to be able to use it for predictions and inference.\n",
            "[I 2025-05-09 21:39:31,100] Trial 36 finished with value: 0.526044009069622 and parameters: {'batch_size': 64, 'bert_lr': 4.616923268610394e-05, 'head_lr': 0.0006423344645640665, 'weight_decay': 3.1692264733450406e-05, 'n_augment': 10, 'dropout_rate': 0.430514277522949}. Best is trial 34 with value: 0.5420681662489213.\n"
          ]
        },
        {
          "output_type": "stream",
          "name": "stdout",
          "text": [
            "Wrote augmented data to /content/drive/MyDrive/LLM/augmented_dataset_trial37.csv\n"
          ]
        },
        {
          "output_type": "stream",
          "name": "stderr",
          "text": [
            "Some weights of RobertaModel were not initialized from the model checkpoint at DeepChem/ChemBERTa-77M-MTR and are newly initialized: ['pooler.dense.bias', 'pooler.dense.weight']\n",
            "You should probably TRAIN this model on a down-stream task to be able to use it for predictions and inference.\n",
            "[I 2025-05-09 21:39:47,857] Trial 37 pruned. \n"
          ]
        },
        {
          "output_type": "stream",
          "name": "stdout",
          "text": [
            "Wrote augmented data to /content/drive/MyDrive/LLM/augmented_dataset_trial38.csv\n"
          ]
        },
        {
          "output_type": "stream",
          "name": "stderr",
          "text": [
            "Some weights of RobertaModel were not initialized from the model checkpoint at DeepChem/ChemBERTa-77M-MTR and are newly initialized: ['pooler.dense.bias', 'pooler.dense.weight']\n",
            "You should probably TRAIN this model on a down-stream task to be able to use it for predictions and inference.\n",
            "[I 2025-05-09 21:40:09,483] Trial 38 pruned. \n"
          ]
        },
        {
          "output_type": "stream",
          "name": "stdout",
          "text": [
            "Wrote augmented data to /content/drive/MyDrive/LLM/augmented_dataset_trial39.csv\n"
          ]
        },
        {
          "output_type": "stream",
          "name": "stderr",
          "text": [
            "Some weights of RobertaModel were not initialized from the model checkpoint at DeepChem/ChemBERTa-77M-MTR and are newly initialized: ['pooler.dense.bias', 'pooler.dense.weight']\n",
            "You should probably TRAIN this model on a down-stream task to be able to use it for predictions and inference.\n",
            "[I 2025-05-09 21:40:11,446] Trial 39 pruned. \n"
          ]
        },
        {
          "output_type": "stream",
          "name": "stdout",
          "text": [
            "Wrote augmented data to /content/drive/MyDrive/LLM/augmented_dataset_trial40.csv\n"
          ]
        },
        {
          "output_type": "stream",
          "name": "stderr",
          "text": [
            "Some weights of RobertaModel were not initialized from the model checkpoint at DeepChem/ChemBERTa-77M-MTR and are newly initialized: ['pooler.dense.bias', 'pooler.dense.weight']\n",
            "You should probably TRAIN this model on a down-stream task to be able to use it for predictions and inference.\n",
            "[I 2025-05-09 21:40:20,204] Trial 40 pruned. \n"
          ]
        },
        {
          "output_type": "stream",
          "name": "stdout",
          "text": [
            "Wrote augmented data to /content/drive/MyDrive/LLM/augmented_dataset_trial41.csv\n"
          ]
        },
        {
          "output_type": "stream",
          "name": "stderr",
          "text": [
            "Some weights of RobertaModel were not initialized from the model checkpoint at DeepChem/ChemBERTa-77M-MTR and are newly initialized: ['pooler.dense.bias', 'pooler.dense.weight']\n",
            "You should probably TRAIN this model on a down-stream task to be able to use it for predictions and inference.\n",
            "[I 2025-05-09 21:42:37,933] Trial 41 finished with value: 0.4872157287193013 and parameters: {'batch_size': 64, 'bert_lr': 4.606539184566125e-05, 'head_lr': 0.0006025289751254609, 'weight_decay': 4.22167873371846e-05, 'n_augment': 10, 'dropout_rate': 0.4300175242306676}. Best is trial 34 with value: 0.5420681662489213.\n"
          ]
        },
        {
          "output_type": "stream",
          "name": "stdout",
          "text": [
            "Wrote augmented data to /content/drive/MyDrive/LLM/augmented_dataset_trial42.csv\n"
          ]
        },
        {
          "output_type": "stream",
          "name": "stderr",
          "text": [
            "Some weights of RobertaModel were not initialized from the model checkpoint at DeepChem/ChemBERTa-77M-MTR and are newly initialized: ['pooler.dense.bias', 'pooler.dense.weight']\n",
            "You should probably TRAIN this model on a down-stream task to be able to use it for predictions and inference.\n",
            "[I 2025-05-09 21:42:53,114] Trial 42 pruned. \n"
          ]
        },
        {
          "output_type": "stream",
          "name": "stdout",
          "text": [
            "Wrote augmented data to /content/drive/MyDrive/LLM/augmented_dataset_trial43.csv\n"
          ]
        },
        {
          "output_type": "stream",
          "name": "stderr",
          "text": [
            "Some weights of RobertaModel were not initialized from the model checkpoint at DeepChem/ChemBERTa-77M-MTR and are newly initialized: ['pooler.dense.bias', 'pooler.dense.weight']\n",
            "You should probably TRAIN this model on a down-stream task to be able to use it for predictions and inference.\n",
            "[I 2025-05-09 21:43:08,478] Trial 43 pruned. \n"
          ]
        },
        {
          "output_type": "stream",
          "name": "stdout",
          "text": [
            "Wrote augmented data to /content/drive/MyDrive/LLM/augmented_dataset_trial44.csv\n"
          ]
        },
        {
          "output_type": "stream",
          "name": "stderr",
          "text": [
            "Some weights of RobertaModel were not initialized from the model checkpoint at DeepChem/ChemBERTa-77M-MTR and are newly initialized: ['pooler.dense.bias', 'pooler.dense.weight']\n",
            "You should probably TRAIN this model on a down-stream task to be able to use it for predictions and inference.\n",
            "[I 2025-05-09 21:46:30,933] Trial 44 finished with value: 0.48006233540957555 and parameters: {'batch_size': 16, 'bert_lr': 4.8227477395713744e-05, 'head_lr': 0.0005749138310288568, 'weight_decay': 7.605823807586602e-06, 'n_augment': 10, 'dropout_rate': 0.44076327400358045}. Best is trial 34 with value: 0.5420681662489213.\n"
          ]
        },
        {
          "output_type": "stream",
          "name": "stdout",
          "text": [
            "Wrote augmented data to /content/drive/MyDrive/LLM/augmented_dataset_trial45.csv\n"
          ]
        },
        {
          "output_type": "stream",
          "name": "stderr",
          "text": [
            "Some weights of RobertaModel were not initialized from the model checkpoint at DeepChem/ChemBERTa-77M-MTR and are newly initialized: ['pooler.dense.bias', 'pooler.dense.weight']\n",
            "You should probably TRAIN this model on a down-stream task to be able to use it for predictions and inference.\n",
            "[I 2025-05-09 21:48:48,931] Trial 45 finished with value: 0.5243064695713175 and parameters: {'batch_size': 64, 'bert_lr': 5.911287514573995e-05, 'head_lr': 0.0006464383838723323, 'weight_decay': 2.8626030431933625e-05, 'n_augment': 10, 'dropout_rate': 0.41384617783084154}. Best is trial 34 with value: 0.5420681662489213.\n"
          ]
        },
        {
          "output_type": "stream",
          "name": "stdout",
          "text": [
            "Wrote augmented data to /content/drive/MyDrive/LLM/augmented_dataset_trial46.csv\n"
          ]
        },
        {
          "output_type": "stream",
          "name": "stderr",
          "text": [
            "Some weights of RobertaModel were not initialized from the model checkpoint at DeepChem/ChemBERTa-77M-MTR and are newly initialized: ['pooler.dense.bias', 'pooler.dense.weight']\n",
            "You should probably TRAIN this model on a down-stream task to be able to use it for predictions and inference.\n",
            "[I 2025-05-09 21:48:52,681] Trial 46 pruned. \n"
          ]
        },
        {
          "output_type": "stream",
          "name": "stdout",
          "text": [
            "Wrote augmented data to /content/drive/MyDrive/LLM/augmented_dataset_trial47.csv\n"
          ]
        },
        {
          "output_type": "stream",
          "name": "stderr",
          "text": [
            "Some weights of RobertaModel were not initialized from the model checkpoint at DeepChem/ChemBERTa-77M-MTR and are newly initialized: ['pooler.dense.bias', 'pooler.dense.weight']\n",
            "You should probably TRAIN this model on a down-stream task to be able to use it for predictions and inference.\n",
            "[I 2025-05-09 21:48:54,655] Trial 47 pruned. \n"
          ]
        },
        {
          "output_type": "stream",
          "name": "stdout",
          "text": [
            "Wrote augmented data to /content/drive/MyDrive/LLM/augmented_dataset_trial48.csv\n"
          ]
        },
        {
          "output_type": "stream",
          "name": "stderr",
          "text": [
            "Some weights of RobertaModel were not initialized from the model checkpoint at DeepChem/ChemBERTa-77M-MTR and are newly initialized: ['pooler.dense.bias', 'pooler.dense.weight']\n",
            "You should probably TRAIN this model on a down-stream task to be able to use it for predictions and inference.\n",
            "[I 2025-05-09 21:51:12,502] Trial 48 finished with value: 0.517954090922358 and parameters: {'batch_size': 64, 'bert_lr': 4.469609746459682e-05, 'head_lr': 0.0006996950178711609, 'weight_decay': 1.1592088096252915e-05, 'n_augment': 10, 'dropout_rate': 0.45754291061316144}. Best is trial 34 with value: 0.5420681662489213.\n"
          ]
        },
        {
          "output_type": "stream",
          "name": "stdout",
          "text": [
            "Wrote augmented data to /content/drive/MyDrive/LLM/augmented_dataset_trial49.csv\n"
          ]
        },
        {
          "output_type": "stream",
          "name": "stderr",
          "text": [
            "Some weights of RobertaModel were not initialized from the model checkpoint at DeepChem/ChemBERTa-77M-MTR and are newly initialized: ['pooler.dense.bias', 'pooler.dense.weight']\n",
            "You should probably TRAIN this model on a down-stream task to be able to use it for predictions and inference.\n",
            "[I 2025-05-09 21:52:20,347] Trial 49 pruned. \n"
          ]
        },
        {
          "output_type": "stream",
          "name": "stdout",
          "text": [
            "Wrote augmented data to /content/drive/MyDrive/LLM/augmented_dataset_trial50.csv\n"
          ]
        },
        {
          "output_type": "stream",
          "name": "stderr",
          "text": [
            "Some weights of RobertaModel were not initialized from the model checkpoint at DeepChem/ChemBERTa-77M-MTR and are newly initialized: ['pooler.dense.bias', 'pooler.dense.weight']\n",
            "You should probably TRAIN this model on a down-stream task to be able to use it for predictions and inference.\n",
            "[I 2025-05-09 21:52:42,103] Trial 50 pruned. \n"
          ]
        },
        {
          "output_type": "stream",
          "name": "stdout",
          "text": [
            "Wrote augmented data to /content/drive/MyDrive/LLM/augmented_dataset_trial51.csv\n"
          ]
        },
        {
          "output_type": "stream",
          "name": "stderr",
          "text": [
            "Some weights of RobertaModel were not initialized from the model checkpoint at DeepChem/ChemBERTa-77M-MTR and are newly initialized: ['pooler.dense.bias', 'pooler.dense.weight']\n",
            "You should probably TRAIN this model on a down-stream task to be able to use it for predictions and inference.\n",
            "[I 2025-05-09 21:52:57,428] Trial 51 pruned. \n"
          ]
        },
        {
          "output_type": "stream",
          "name": "stdout",
          "text": [
            "Wrote augmented data to /content/drive/MyDrive/LLM/augmented_dataset_trial52.csv\n"
          ]
        },
        {
          "output_type": "stream",
          "name": "stderr",
          "text": [
            "Some weights of RobertaModel were not initialized from the model checkpoint at DeepChem/ChemBERTa-77M-MTR and are newly initialized: ['pooler.dense.bias', 'pooler.dense.weight']\n",
            "You should probably TRAIN this model on a down-stream task to be able to use it for predictions and inference.\n",
            "[I 2025-05-09 21:53:12,770] Trial 52 pruned. \n"
          ]
        },
        {
          "output_type": "stream",
          "name": "stdout",
          "text": [
            "Wrote augmented data to /content/drive/MyDrive/LLM/augmented_dataset_trial53.csv\n"
          ]
        },
        {
          "output_type": "stream",
          "name": "stderr",
          "text": [
            "Some weights of RobertaModel were not initialized from the model checkpoint at DeepChem/ChemBERTa-77M-MTR and are newly initialized: ['pooler.dense.bias', 'pooler.dense.weight']\n",
            "You should probably TRAIN this model on a down-stream task to be able to use it for predictions and inference.\n",
            "[I 2025-05-09 21:55:30,573] Trial 53 finished with value: 0.4801979405130531 and parameters: {'batch_size': 64, 'bert_lr': 5.9558439206263794e-05, 'head_lr': 0.000539894579820321, 'weight_decay': 4.634950884102658e-06, 'n_augment': 10, 'dropout_rate': 0.389652882979984}. Best is trial 34 with value: 0.5420681662489213.\n"
          ]
        },
        {
          "output_type": "stream",
          "name": "stdout",
          "text": [
            "Wrote augmented data to /content/drive/MyDrive/LLM/augmented_dataset_trial54.csv\n"
          ]
        },
        {
          "output_type": "stream",
          "name": "stderr",
          "text": [
            "Some weights of RobertaModel were not initialized from the model checkpoint at DeepChem/ChemBERTa-77M-MTR and are newly initialized: ['pooler.dense.bias', 'pooler.dense.weight']\n",
            "You should probably TRAIN this model on a down-stream task to be able to use it for predictions and inference.\n",
            "[I 2025-05-09 21:57:49,643] Trial 54 finished with value: 0.47989338735249687 and parameters: {'batch_size': 64, 'bert_lr': 4.70835326920101e-05, 'head_lr': 0.0005906459049623877, 'weight_decay': 4.895490364268357e-05, 'n_augment': 10, 'dropout_rate': 0.42782309945635466}. Best is trial 34 with value: 0.5420681662489213.\n"
          ]
        },
        {
          "output_type": "stream",
          "name": "stdout",
          "text": [
            "Wrote augmented data to /content/drive/MyDrive/LLM/augmented_dataset_trial55.csv\n"
          ]
        },
        {
          "output_type": "stream",
          "name": "stderr",
          "text": [
            "Some weights of RobertaModel were not initialized from the model checkpoint at DeepChem/ChemBERTa-77M-MTR and are newly initialized: ['pooler.dense.bias', 'pooler.dense.weight']\n",
            "You should probably TRAIN this model on a down-stream task to be able to use it for predictions and inference.\n",
            "[I 2025-05-09 22:00:07,452] Trial 55 finished with value: 0.5263610804013469 and parameters: {'batch_size': 64, 'bert_lr': 5.5892525550373836e-05, 'head_lr': 0.0006509648212928782, 'weight_decay': 1.0948280417586467e-05, 'n_augment': 10, 'dropout_rate': 0.4378289689530224}. Best is trial 34 with value: 0.5420681662489213.\n"
          ]
        },
        {
          "output_type": "stream",
          "name": "stdout",
          "text": [
            "Wrote augmented data to /content/drive/MyDrive/LLM/augmented_dataset_trial56.csv\n"
          ]
        },
        {
          "output_type": "stream",
          "name": "stderr",
          "text": [
            "Some weights of RobertaModel were not initialized from the model checkpoint at DeepChem/ChemBERTa-77M-MTR and are newly initialized: ['pooler.dense.bias', 'pooler.dense.weight']\n",
            "You should probably TRAIN this model on a down-stream task to be able to use it for predictions and inference.\n",
            "[I 2025-05-09 22:00:10,989] Trial 56 pruned. \n"
          ]
        },
        {
          "output_type": "stream",
          "name": "stdout",
          "text": [
            "Wrote augmented data to /content/drive/MyDrive/LLM/augmented_dataset_trial57.csv\n"
          ]
        },
        {
          "output_type": "stream",
          "name": "stderr",
          "text": [
            "Some weights of RobertaModel were not initialized from the model checkpoint at DeepChem/ChemBERTa-77M-MTR and are newly initialized: ['pooler.dense.bias', 'pooler.dense.weight']\n",
            "You should probably TRAIN this model on a down-stream task to be able to use it for predictions and inference.\n",
            "[I 2025-05-09 22:00:13,133] Trial 57 pruned. \n"
          ]
        },
        {
          "output_type": "stream",
          "name": "stdout",
          "text": [
            "Wrote augmented data to /content/drive/MyDrive/LLM/augmented_dataset_trial58.csv\n"
          ]
        },
        {
          "output_type": "stream",
          "name": "stderr",
          "text": [
            "Some weights of RobertaModel were not initialized from the model checkpoint at DeepChem/ChemBERTa-77M-MTR and are newly initialized: ['pooler.dense.bias', 'pooler.dense.weight']\n",
            "You should probably TRAIN this model on a down-stream task to be able to use it for predictions and inference.\n",
            "[I 2025-05-09 22:00:31,014] Trial 58 pruned. \n"
          ]
        },
        {
          "output_type": "stream",
          "name": "stdout",
          "text": [
            "Wrote augmented data to /content/drive/MyDrive/LLM/augmented_dataset_trial59.csv\n"
          ]
        },
        {
          "output_type": "stream",
          "name": "stderr",
          "text": [
            "Some weights of RobertaModel were not initialized from the model checkpoint at DeepChem/ChemBERTa-77M-MTR and are newly initialized: ['pooler.dense.bias', 'pooler.dense.weight']\n",
            "You should probably TRAIN this model on a down-stream task to be able to use it for predictions and inference.\n",
            "[I 2025-05-09 22:11:00,728] Trial 59 finished with value: 0.47372698678403635 and parameters: {'batch_size': 64, 'bert_lr': 4.058036848556684e-05, 'head_lr': 0.0006511811902481533, 'weight_decay': 1.99322986259477e-05, 'n_augment': 50, 'dropout_rate': 0.29171240608209503}. Best is trial 34 with value: 0.5420681662489213.\n"
          ]
        },
        {
          "output_type": "stream",
          "name": "stdout",
          "text": [
            "Wrote augmented data to /content/drive/MyDrive/LLM/augmented_dataset_trial60.csv\n"
          ]
        },
        {
          "output_type": "stream",
          "name": "stderr",
          "text": [
            "Some weights of RobertaModel were not initialized from the model checkpoint at DeepChem/ChemBERTa-77M-MTR and are newly initialized: ['pooler.dense.bias', 'pooler.dense.weight']\n",
            "You should probably TRAIN this model on a down-stream task to be able to use it for predictions and inference.\n",
            "[I 2025-05-09 22:15:21,913] Trial 60 finished with value: 0.5314320800742174 and parameters: {'batch_size': 64, 'bert_lr': 5.655271778365368e-05, 'head_lr': 0.0004904749549630754, 'weight_decay': 3.2410744431900263e-06, 'n_augment': 20, 'dropout_rate': 0.26111062184682754}. Best is trial 34 with value: 0.5420681662489213.\n"
          ]
        },
        {
          "output_type": "stream",
          "name": "stdout",
          "text": [
            "Wrote augmented data to /content/drive/MyDrive/LLM/augmented_dataset_trial61.csv\n"
          ]
        },
        {
          "output_type": "stream",
          "name": "stderr",
          "text": [
            "Some weights of RobertaModel were not initialized from the model checkpoint at DeepChem/ChemBERTa-77M-MTR and are newly initialized: ['pooler.dense.bias', 'pooler.dense.weight']\n",
            "You should probably TRAIN this model on a down-stream task to be able to use it for predictions and inference.\n",
            "[I 2025-05-09 22:15:50,133] Trial 61 pruned. \n"
          ]
        },
        {
          "output_type": "stream",
          "name": "stdout",
          "text": [
            "Wrote augmented data to /content/drive/MyDrive/LLM/augmented_dataset_trial62.csv\n"
          ]
        },
        {
          "output_type": "stream",
          "name": "stderr",
          "text": [
            "Some weights of RobertaModel were not initialized from the model checkpoint at DeepChem/ChemBERTa-77M-MTR and are newly initialized: ['pooler.dense.bias', 'pooler.dense.weight']\n",
            "You should probably TRAIN this model on a down-stream task to be able to use it for predictions and inference.\n",
            "[I 2025-05-09 22:20:10,607] Trial 62 finished with value: 0.5485276743206907 and parameters: {'batch_size': 64, 'bert_lr': 5.659443458419127e-05, 'head_lr': 0.0003897086544226857, 'weight_decay': 2.8706993458726874e-06, 'n_augment': 20, 'dropout_rate': 0.263249800735397}. Best is trial 62 with value: 0.5485276743206907.\n"
          ]
        },
        {
          "output_type": "stream",
          "name": "stdout",
          "text": [
            "Wrote augmented data to /content/drive/MyDrive/LLM/augmented_dataset_trial63.csv\n"
          ]
        },
        {
          "output_type": "stream",
          "name": "stderr",
          "text": [
            "Some weights of RobertaModel were not initialized from the model checkpoint at DeepChem/ChemBERTa-77M-MTR and are newly initialized: ['pooler.dense.bias', 'pooler.dense.weight']\n",
            "You should probably TRAIN this model on a down-stream task to be able to use it for predictions and inference.\n",
            "[I 2025-05-09 22:24:31,342] Trial 63 finished with value: 0.49435213705862113 and parameters: {'batch_size': 64, 'bert_lr': 5.643738502403502e-05, 'head_lr': 0.0004378343768063549, 'weight_decay': 3.581414626418195e-06, 'n_augment': 20, 'dropout_rate': 0.27000578841466566}. Best is trial 62 with value: 0.5485276743206907.\n"
          ]
        },
        {
          "output_type": "stream",
          "name": "stdout",
          "text": [
            "Wrote augmented data to /content/drive/MyDrive/LLM/augmented_dataset_trial64.csv\n"
          ]
        },
        {
          "output_type": "stream",
          "name": "stderr",
          "text": [
            "Some weights of RobertaModel were not initialized from the model checkpoint at DeepChem/ChemBERTa-77M-MTR and are newly initialized: ['pooler.dense.bias', 'pooler.dense.weight']\n",
            "You should probably TRAIN this model on a down-stream task to be able to use it for predictions and inference.\n",
            "[I 2025-05-09 22:24:59,694] Trial 64 pruned. \n"
          ]
        },
        {
          "output_type": "stream",
          "name": "stdout",
          "text": [
            "Wrote augmented data to /content/drive/MyDrive/LLM/augmented_dataset_trial65.csv\n"
          ]
        },
        {
          "output_type": "stream",
          "name": "stderr",
          "text": [
            "Some weights of RobertaModel were not initialized from the model checkpoint at DeepChem/ChemBERTa-77M-MTR and are newly initialized: ['pooler.dense.bias', 'pooler.dense.weight']\n",
            "You should probably TRAIN this model on a down-stream task to be able to use it for predictions and inference.\n",
            "[I 2025-05-09 22:29:20,921] Trial 65 finished with value: 0.5493393377308919 and parameters: {'batch_size': 64, 'bert_lr': 5.063487220884219e-05, 'head_lr': 0.0003809449682041737, 'weight_decay': 1.253582254568276e-06, 'n_augment': 20, 'dropout_rate': 0.25751173532312127}. Best is trial 65 with value: 0.5493393377308919.\n"
          ]
        },
        {
          "output_type": "stream",
          "name": "stdout",
          "text": [
            "Wrote augmented data to /content/drive/MyDrive/LLM/augmented_dataset_trial66.csv\n"
          ]
        },
        {
          "output_type": "stream",
          "name": "stderr",
          "text": [
            "Some weights of RobertaModel were not initialized from the model checkpoint at DeepChem/ChemBERTa-77M-MTR and are newly initialized: ['pooler.dense.bias', 'pooler.dense.weight']\n",
            "You should probably TRAIN this model on a down-stream task to be able to use it for predictions and inference.\n",
            "[I 2025-05-09 22:33:42,088] Trial 66 finished with value: 0.5101075669344048 and parameters: {'batch_size': 64, 'bert_lr': 5.146136093517367e-05, 'head_lr': 0.00032570909580894474, 'weight_decay': 1.1761801285218896e-06, 'n_augment': 20, 'dropout_rate': 0.25684172141322636}. Best is trial 65 with value: 0.5493393377308919.\n"
          ]
        },
        {
          "output_type": "stream",
          "name": "stdout",
          "text": [
            "Wrote augmented data to /content/drive/MyDrive/LLM/augmented_dataset_trial67.csv\n"
          ]
        },
        {
          "output_type": "stream",
          "name": "stderr",
          "text": [
            "Some weights of RobertaModel were not initialized from the model checkpoint at DeepChem/ChemBERTa-77M-MTR and are newly initialized: ['pooler.dense.bias', 'pooler.dense.weight']\n",
            "You should probably TRAIN this model on a down-stream task to be able to use it for predictions and inference.\n",
            "[I 2025-05-09 22:38:02,943] Trial 67 finished with value: 0.469049007835342 and parameters: {'batch_size': 64, 'bert_lr': 4.9168426071769e-05, 'head_lr': 0.0003875738001953657, 'weight_decay': 1.7523998792088023e-06, 'n_augment': 20, 'dropout_rate': 0.25008813430917315}. Best is trial 65 with value: 0.5493393377308919.\n"
          ]
        },
        {
          "output_type": "stream",
          "name": "stdout",
          "text": [
            "Wrote augmented data to /content/drive/MyDrive/LLM/augmented_dataset_trial68.csv\n"
          ]
        },
        {
          "output_type": "stream",
          "name": "stderr",
          "text": [
            "Some weights of RobertaModel were not initialized from the model checkpoint at DeepChem/ChemBERTa-77M-MTR and are newly initialized: ['pooler.dense.bias', 'pooler.dense.weight']\n",
            "You should probably TRAIN this model on a down-stream task to be able to use it for predictions and inference.\n",
            "[I 2025-05-09 22:44:26,285] Trial 68 finished with value: 0.5387442993390006 and parameters: {'batch_size': 16, 'bert_lr': 4.345170626635838e-05, 'head_lr': 0.0003067455531984972, 'weight_decay': 8.685849098517589e-07, 'n_augment': 20, 'dropout_rate': 0.2663750038915279}. Best is trial 65 with value: 0.5493393377308919.\n"
          ]
        },
        {
          "output_type": "stream",
          "name": "stdout",
          "text": [
            "Wrote augmented data to /content/drive/MyDrive/LLM/augmented_dataset_trial69.csv\n"
          ]
        },
        {
          "output_type": "stream",
          "name": "stderr",
          "text": [
            "Some weights of RobertaModel were not initialized from the model checkpoint at DeepChem/ChemBERTa-77M-MTR and are newly initialized: ['pooler.dense.bias', 'pooler.dense.weight']\n",
            "You should probably TRAIN this model on a down-stream task to be able to use it for predictions and inference.\n",
            "[I 2025-05-09 22:50:49,220] Trial 69 finished with value: 0.552620466695384 and parameters: {'batch_size': 16, 'bert_lr': 4.4342998845073936e-05, 'head_lr': 0.00029609752610167627, 'weight_decay': 9.213690875846378e-07, 'n_augment': 20, 'dropout_rate': 0.31209012938922887}. Best is trial 69 with value: 0.552620466695384.\n"
          ]
        },
        {
          "output_type": "stream",
          "name": "stdout",
          "text": [
            "Wrote augmented data to /content/drive/MyDrive/LLM/augmented_dataset_trial70.csv\n"
          ]
        },
        {
          "output_type": "stream",
          "name": "stderr",
          "text": [
            "Some weights of RobertaModel were not initialized from the model checkpoint at DeepChem/ChemBERTa-77M-MTR and are newly initialized: ['pooler.dense.bias', 'pooler.dense.weight']\n",
            "You should probably TRAIN this model on a down-stream task to be able to use it for predictions and inference.\n",
            "[I 2025-05-09 22:51:30,376] Trial 70 pruned. \n"
          ]
        },
        {
          "output_type": "stream",
          "name": "stdout",
          "text": [
            "Wrote augmented data to /content/drive/MyDrive/LLM/augmented_dataset_trial71.csv\n"
          ]
        },
        {
          "output_type": "stream",
          "name": "stderr",
          "text": [
            "Some weights of RobertaModel were not initialized from the model checkpoint at DeepChem/ChemBERTa-77M-MTR and are newly initialized: ['pooler.dense.bias', 'pooler.dense.weight']\n",
            "You should probably TRAIN this model on a down-stream task to be able to use it for predictions and inference.\n",
            "[I 2025-05-09 22:52:10,799] Trial 71 pruned. \n"
          ]
        },
        {
          "output_type": "stream",
          "name": "stdout",
          "text": [
            "Wrote augmented data to /content/drive/MyDrive/LLM/augmented_dataset_trial72.csv\n"
          ]
        },
        {
          "output_type": "stream",
          "name": "stderr",
          "text": [
            "Some weights of RobertaModel were not initialized from the model checkpoint at DeepChem/ChemBERTa-77M-MTR and are newly initialized: ['pooler.dense.bias', 'pooler.dense.weight']\n",
            "You should probably TRAIN this model on a down-stream task to be able to use it for predictions and inference.\n",
            "[I 2025-05-09 22:58:34,273] Trial 72 finished with value: 0.5430337436744146 and parameters: {'batch_size': 16, 'bert_lr': 3.485225715955487e-05, 'head_lr': 0.00035741816636335964, 'weight_decay': 1.3603512275822677e-06, 'n_augment': 20, 'dropout_rate': 0.2730673597391599}. Best is trial 69 with value: 0.552620466695384.\n"
          ]
        },
        {
          "output_type": "stream",
          "name": "stdout",
          "text": [
            "Wrote augmented data to /content/drive/MyDrive/LLM/augmented_dataset_trial73.csv\n"
          ]
        },
        {
          "output_type": "stream",
          "name": "stderr",
          "text": [
            "Some weights of RobertaModel were not initialized from the model checkpoint at DeepChem/ChemBERTa-77M-MTR and are newly initialized: ['pooler.dense.bias', 'pooler.dense.weight']\n",
            "You should probably TRAIN this model on a down-stream task to be able to use it for predictions and inference.\n",
            "[I 2025-05-09 22:59:14,997] Trial 73 pruned. \n"
          ]
        },
        {
          "output_type": "stream",
          "name": "stdout",
          "text": [
            "Wrote augmented data to /content/drive/MyDrive/LLM/augmented_dataset_trial74.csv\n"
          ]
        },
        {
          "output_type": "stream",
          "name": "stderr",
          "text": [
            "Some weights of RobertaModel were not initialized from the model checkpoint at DeepChem/ChemBERTa-77M-MTR and are newly initialized: ['pooler.dense.bias', 'pooler.dense.weight']\n",
            "You should probably TRAIN this model on a down-stream task to be able to use it for predictions and inference.\n",
            "[I 2025-05-09 23:05:39,001] Trial 74 finished with value: 0.5016418208691641 and parameters: {'batch_size': 16, 'bert_lr': 3.274554818892943e-05, 'head_lr': 0.0003108678029264435, 'weight_decay': 1.2976596851041188e-06, 'n_augment': 20, 'dropout_rate': 0.2858230318783743}. Best is trial 69 with value: 0.552620466695384.\n"
          ]
        },
        {
          "output_type": "stream",
          "name": "stdout",
          "text": [
            "Wrote augmented data to /content/drive/MyDrive/LLM/augmented_dataset_trial75.csv\n"
          ]
        },
        {
          "output_type": "stream",
          "name": "stderr",
          "text": [
            "Some weights of RobertaModel were not initialized from the model checkpoint at DeepChem/ChemBERTa-77M-MTR and are newly initialized: ['pooler.dense.bias', 'pooler.dense.weight']\n",
            "You should probably TRAIN this model on a down-stream task to be able to use it for predictions and inference.\n",
            "[I 2025-05-09 23:12:09,556] Trial 75 finished with value: 0.5189607625481976 and parameters: {'batch_size': 16, 'bert_lr': 2.688109818824775e-05, 'head_lr': 0.0002778734110371972, 'weight_decay': 7.238156897940055e-07, 'n_augment': 20, 'dropout_rate': 0.26239633664639905}. Best is trial 69 with value: 0.552620466695384.\n"
          ]
        },
        {
          "output_type": "stream",
          "name": "stdout",
          "text": [
            "Wrote augmented data to /content/drive/MyDrive/LLM/augmented_dataset_trial76.csv\n"
          ]
        },
        {
          "output_type": "stream",
          "name": "stderr",
          "text": [
            "Some weights of RobertaModel were not initialized from the model checkpoint at DeepChem/ChemBERTa-77M-MTR and are newly initialized: ['pooler.dense.bias', 'pooler.dense.weight']\n",
            "You should probably TRAIN this model on a down-stream task to be able to use it for predictions and inference.\n",
            "[I 2025-05-09 23:18:34,078] Trial 76 finished with value: 0.48570129259986605 and parameters: {'batch_size': 16, 'bert_lr': 4.113309360221881e-05, 'head_lr': 0.0003666188759903294, 'weight_decay': 1.5686473595568736e-06, 'n_augment': 20, 'dropout_rate': 0.28438894426575767}. Best is trial 69 with value: 0.552620466695384.\n"
          ]
        },
        {
          "output_type": "stream",
          "name": "stdout",
          "text": [
            "Wrote augmented data to /content/drive/MyDrive/LLM/augmented_dataset_trial77.csv\n"
          ]
        },
        {
          "output_type": "stream",
          "name": "stderr",
          "text": [
            "Some weights of RobertaModel were not initialized from the model checkpoint at DeepChem/ChemBERTa-77M-MTR and are newly initialized: ['pooler.dense.bias', 'pooler.dense.weight']\n",
            "You should probably TRAIN this model on a down-stream task to be able to use it for predictions and inference.\n",
            "[I 2025-05-09 23:19:14,950] Trial 77 pruned. \n"
          ]
        },
        {
          "output_type": "stream",
          "name": "stdout",
          "text": [
            "Wrote augmented data to /content/drive/MyDrive/LLM/augmented_dataset_trial78.csv\n"
          ]
        },
        {
          "output_type": "stream",
          "name": "stderr",
          "text": [
            "Some weights of RobertaModel were not initialized from the model checkpoint at DeepChem/ChemBERTa-77M-MTR and are newly initialized: ['pooler.dense.bias', 'pooler.dense.weight']\n",
            "You should probably TRAIN this model on a down-stream task to be able to use it for predictions and inference.\n",
            "[I 2025-05-09 23:19:55,461] Trial 78 pruned. \n"
          ]
        },
        {
          "output_type": "stream",
          "name": "stdout",
          "text": [
            "Wrote augmented data to /content/drive/MyDrive/LLM/augmented_dataset_trial79.csv\n"
          ]
        },
        {
          "output_type": "stream",
          "name": "stderr",
          "text": [
            "Some weights of RobertaModel were not initialized from the model checkpoint at DeepChem/ChemBERTa-77M-MTR and are newly initialized: ['pooler.dense.bias', 'pooler.dense.weight']\n",
            "You should probably TRAIN this model on a down-stream task to be able to use it for predictions and inference.\n",
            "[I 2025-05-09 23:26:20,113] Trial 79 finished with value: 0.484740490960225 and parameters: {'batch_size': 16, 'bert_lr': 4.705106817955555e-05, 'head_lr': 0.00040459242032733024, 'weight_decay': 5.150432351299697e-07, 'n_augment': 20, 'dropout_rate': 0.29039929763632183}. Best is trial 69 with value: 0.552620466695384.\n"
          ]
        },
        {
          "output_type": "stream",
          "name": "stdout",
          "text": [
            "Wrote augmented data to /content/drive/MyDrive/LLM/augmented_dataset_trial80.csv\n"
          ]
        },
        {
          "output_type": "stream",
          "name": "stderr",
          "text": [
            "Some weights of RobertaModel were not initialized from the model checkpoint at DeepChem/ChemBERTa-77M-MTR and are newly initialized: ['pooler.dense.bias', 'pooler.dense.weight']\n",
            "You should probably TRAIN this model on a down-stream task to be able to use it for predictions and inference.\n",
            "[I 2025-05-09 23:32:43,663] Trial 80 finished with value: 0.47537964131501953 and parameters: {'batch_size': 16, 'bert_lr': 4.318879458886386e-05, 'head_lr': 0.00034127220590017993, 'weight_decay': 3.611378259083969e-07, 'n_augment': 20, 'dropout_rate': 0.26832714991278867}. Best is trial 69 with value: 0.552620466695384.\n"
          ]
        },
        {
          "output_type": "stream",
          "name": "stdout",
          "text": [
            "Wrote augmented data to /content/drive/MyDrive/LLM/augmented_dataset_trial81.csv\n"
          ]
        },
        {
          "output_type": "stream",
          "name": "stderr",
          "text": [
            "Some weights of RobertaModel were not initialized from the model checkpoint at DeepChem/ChemBERTa-77M-MTR and are newly initialized: ['pooler.dense.bias', 'pooler.dense.weight']\n",
            "You should probably TRAIN this model on a down-stream task to be able to use it for predictions and inference.\n",
            "[I 2025-05-09 23:33:24,364] Trial 81 pruned. \n"
          ]
        },
        {
          "output_type": "stream",
          "name": "stdout",
          "text": [
            "Wrote augmented data to /content/drive/MyDrive/LLM/augmented_dataset_trial82.csv\n"
          ]
        },
        {
          "output_type": "stream",
          "name": "stderr",
          "text": [
            "Some weights of RobertaModel were not initialized from the model checkpoint at DeepChem/ChemBERTa-77M-MTR and are newly initialized: ['pooler.dense.bias', 'pooler.dense.weight']\n",
            "You should probably TRAIN this model on a down-stream task to be able to use it for predictions and inference.\n",
            "[I 2025-05-09 23:34:04,910] Trial 82 pruned. \n"
          ]
        },
        {
          "output_type": "stream",
          "name": "stdout",
          "text": [
            "Wrote augmented data to /content/drive/MyDrive/LLM/augmented_dataset_trial83.csv\n"
          ]
        },
        {
          "output_type": "stream",
          "name": "stderr",
          "text": [
            "Some weights of RobertaModel were not initialized from the model checkpoint at DeepChem/ChemBERTa-77M-MTR and are newly initialized: ['pooler.dense.bias', 'pooler.dense.weight']\n",
            "You should probably TRAIN this model on a down-stream task to be able to use it for predictions and inference.\n",
            "[I 2025-05-09 23:34:14,308] Trial 83 pruned. \n"
          ]
        },
        {
          "output_type": "stream",
          "name": "stdout",
          "text": [
            "Wrote augmented data to /content/drive/MyDrive/LLM/augmented_dataset_trial84.csv\n"
          ]
        },
        {
          "output_type": "stream",
          "name": "stderr",
          "text": [
            "Some weights of RobertaModel were not initialized from the model checkpoint at DeepChem/ChemBERTa-77M-MTR and are newly initialized: ['pooler.dense.bias', 'pooler.dense.weight']\n",
            "You should probably TRAIN this model on a down-stream task to be able to use it for predictions and inference.\n",
            "[I 2025-05-09 23:34:19,013] Trial 84 pruned. \n"
          ]
        },
        {
          "output_type": "stream",
          "name": "stdout",
          "text": [
            "Wrote augmented data to /content/drive/MyDrive/LLM/augmented_dataset_trial85.csv\n"
          ]
        },
        {
          "output_type": "stream",
          "name": "stderr",
          "text": [
            "Some weights of RobertaModel were not initialized from the model checkpoint at DeepChem/ChemBERTa-77M-MTR and are newly initialized: ['pooler.dense.bias', 'pooler.dense.weight']\n",
            "You should probably TRAIN this model on a down-stream task to be able to use it for predictions and inference.\n",
            "[I 2025-05-09 23:40:42,930] Trial 85 finished with value: 0.4816347487692886 and parameters: {'batch_size': 16, 'bert_lr': 4.790301482492303e-05, 'head_lr': 0.00010147869228210818, 'weight_decay': 2.5621572040677946e-07, 'n_augment': 20, 'dropout_rate': 0.2786781298737542}. Best is trial 69 with value: 0.552620466695384.\n"
          ]
        },
        {
          "output_type": "stream",
          "name": "stdout",
          "text": [
            "Wrote augmented data to /content/drive/MyDrive/LLM/augmented_dataset_trial86.csv\n"
          ]
        },
        {
          "output_type": "stream",
          "name": "stderr",
          "text": [
            "Some weights of RobertaModel were not initialized from the model checkpoint at DeepChem/ChemBERTa-77M-MTR and are newly initialized: ['pooler.dense.bias', 'pooler.dense.weight']\n",
            "You should probably TRAIN this model on a down-stream task to be able to use it for predictions and inference.\n",
            "[I 2025-05-09 23:51:13,552] Trial 86 finished with value: 0.5220877579047978 and parameters: {'batch_size': 64, 'bert_lr': 4.5009112284832015e-05, 'head_lr': 0.00033118178165159555, 'weight_decay': 1.355442955823417e-06, 'n_augment': 50, 'dropout_rate': 0.29533848953881253}. Best is trial 69 with value: 0.552620466695384.\n"
          ]
        },
        {
          "output_type": "stream",
          "name": "stdout",
          "text": [
            "Wrote augmented data to /content/drive/MyDrive/LLM/augmented_dataset_trial87.csv\n"
          ]
        },
        {
          "output_type": "stream",
          "name": "stderr",
          "text": [
            "Some weights of RobertaModel were not initialized from the model checkpoint at DeepChem/ChemBERTa-77M-MTR and are newly initialized: ['pooler.dense.bias', 'pooler.dense.weight']\n",
            "You should probably TRAIN this model on a down-stream task to be able to use it for predictions and inference.\n",
            "[I 2025-05-09 23:55:34,904] Trial 87 finished with value: 0.5192632039073061 and parameters: {'batch_size': 64, 'bert_lr': 5.3864577137638805e-05, 'head_lr': 0.0003034383076724686, 'weight_decay': 4.675569003415432e-07, 'n_augment': 20, 'dropout_rate': 0.3199672331343242}. Best is trial 69 with value: 0.552620466695384.\n"
          ]
        },
        {
          "output_type": "stream",
          "name": "stdout",
          "text": [
            "Wrote augmented data to /content/drive/MyDrive/LLM/augmented_dataset_trial88.csv\n"
          ]
        },
        {
          "output_type": "stream",
          "name": "stderr",
          "text": [
            "Some weights of RobertaModel were not initialized from the model checkpoint at DeepChem/ChemBERTa-77M-MTR and are newly initialized: ['pooler.dense.bias', 'pooler.dense.weight']\n",
            "You should probably TRAIN this model on a down-stream task to be able to use it for predictions and inference.\n",
            "[I 2025-05-09 23:55:37,170] Trial 88 pruned. \n"
          ]
        },
        {
          "output_type": "stream",
          "name": "stdout",
          "text": [
            "Wrote augmented data to /content/drive/MyDrive/LLM/augmented_dataset_trial89.csv\n"
          ]
        },
        {
          "output_type": "stream",
          "name": "stderr",
          "text": [
            "Some weights of RobertaModel were not initialized from the model checkpoint at DeepChem/ChemBERTa-77M-MTR and are newly initialized: ['pooler.dense.bias', 'pooler.dense.weight']\n",
            "You should probably TRAIN this model on a down-stream task to be able to use it for predictions and inference.\n",
            "[I 2025-05-10 00:02:01,667] Trial 89 finished with value: 0.4844282316804246 and parameters: {'batch_size': 16, 'bert_lr': 5.0744233587072144e-05, 'head_lr': 0.0004081244174566763, 'weight_decay': 1.824430235605612e-07, 'n_augment': 20, 'dropout_rate': 0.34972698084042214}. Best is trial 69 with value: 0.552620466695384.\n"
          ]
        },
        {
          "output_type": "stream",
          "name": "stdout",
          "text": [
            "Wrote augmented data to /content/drive/MyDrive/LLM/augmented_dataset_trial90.csv\n"
          ]
        },
        {
          "output_type": "stream",
          "name": "stderr",
          "text": [
            "Some weights of RobertaModel were not initialized from the model checkpoint at DeepChem/ChemBERTa-77M-MTR and are newly initialized: ['pooler.dense.bias', 'pooler.dense.weight']\n",
            "You should probably TRAIN this model on a down-stream task to be able to use it for predictions and inference.\n",
            "[I 2025-05-10 00:06:22,825] Trial 90 finished with value: 0.45842011771844937 and parameters: {'batch_size': 64, 'bert_lr': 3.917943797540574e-05, 'head_lr': 0.00020147030094994824, 'weight_decay': 6.631687498965856e-07, 'n_augment': 20, 'dropout_rate': 0.2541606613182605}. Best is trial 69 with value: 0.552620466695384.\n"
          ]
        },
        {
          "output_type": "stream",
          "name": "stdout",
          "text": [
            "Wrote augmented data to /content/drive/MyDrive/LLM/augmented_dataset_trial91.csv\n"
          ]
        },
        {
          "output_type": "stream",
          "name": "stderr",
          "text": [
            "Some weights of RobertaModel were not initialized from the model checkpoint at DeepChem/ChemBERTa-77M-MTR and are newly initialized: ['pooler.dense.bias', 'pooler.dense.weight']\n",
            "You should probably TRAIN this model on a down-stream task to be able to use it for predictions and inference.\n",
            "[I 2025-05-10 00:10:43,574] Trial 91 finished with value: 0.5120777833860983 and parameters: {'batch_size': 64, 'bert_lr': 5.819334072998727e-05, 'head_lr': 0.0004929842715927997, 'weight_decay': 3.3385280595256167e-06, 'n_augment': 20, 'dropout_rate': 0.26211193997923243}. Best is trial 69 with value: 0.552620466695384.\n"
          ]
        },
        {
          "output_type": "stream",
          "name": "stdout",
          "text": [
            "Wrote augmented data to /content/drive/MyDrive/LLM/augmented_dataset_trial92.csv\n"
          ]
        },
        {
          "output_type": "stream",
          "name": "stderr",
          "text": [
            "Some weights of RobertaModel were not initialized from the model checkpoint at DeepChem/ChemBERTa-77M-MTR and are newly initialized: ['pooler.dense.bias', 'pooler.dense.weight']\n",
            "You should probably TRAIN this model on a down-stream task to be able to use it for predictions and inference.\n",
            "[I 2025-05-10 00:15:05,168] Trial 92 finished with value: 0.46551149662106317 and parameters: {'batch_size': 64, 'bert_lr': 5.433150781687272e-05, 'head_lr': 0.00035207344899904525, 'weight_decay': 1.947625987613324e-06, 'n_augment': 20, 'dropout_rate': 0.2740199178667816}. Best is trial 69 with value: 0.552620466695384.\n"
          ]
        },
        {
          "output_type": "stream",
          "name": "stdout",
          "text": [
            "Wrote augmented data to /content/drive/MyDrive/LLM/augmented_dataset_trial93.csv\n"
          ]
        },
        {
          "output_type": "stream",
          "name": "stderr",
          "text": [
            "Some weights of RobertaModel were not initialized from the model checkpoint at DeepChem/ChemBERTa-77M-MTR and are newly initialized: ['pooler.dense.bias', 'pooler.dense.weight']\n",
            "You should probably TRAIN this model on a down-stream task to be able to use it for predictions and inference.\n",
            "[I 2025-05-10 00:19:27,486] Trial 93 finished with value: 0.47738271814938904 and parameters: {'batch_size': 64, 'bert_lr': 4.839655635673711e-05, 'head_lr': 0.0004537354248266273, 'weight_decay': 1.523880219788804e-06, 'n_augment': 20, 'dropout_rate': 0.26358853478635225}. Best is trial 69 with value: 0.552620466695384.\n"
          ]
        },
        {
          "output_type": "stream",
          "name": "stdout",
          "text": [
            "Wrote augmented data to /content/drive/MyDrive/LLM/augmented_dataset_trial94.csv\n"
          ]
        },
        {
          "output_type": "stream",
          "name": "stderr",
          "text": [
            "Some weights of RobertaModel were not initialized from the model checkpoint at DeepChem/ChemBERTa-77M-MTR and are newly initialized: ['pooler.dense.bias', 'pooler.dense.weight']\n",
            "You should probably TRAIN this model on a down-stream task to be able to use it for predictions and inference.\n",
            "[I 2025-05-10 00:19:56,215] Trial 94 pruned. \n"
          ]
        },
        {
          "output_type": "stream",
          "name": "stdout",
          "text": [
            "Wrote augmented data to /content/drive/MyDrive/LLM/augmented_dataset_trial95.csv\n"
          ]
        },
        {
          "output_type": "stream",
          "name": "stderr",
          "text": [
            "Some weights of RobertaModel were not initialized from the model checkpoint at DeepChem/ChemBERTa-77M-MTR and are newly initialized: ['pooler.dense.bias', 'pooler.dense.weight']\n",
            "You should probably TRAIN this model on a down-stream task to be able to use it for predictions and inference.\n",
            "[I 2025-05-10 00:20:28,776] Trial 95 pruned. \n"
          ]
        },
        {
          "output_type": "stream",
          "name": "stdout",
          "text": [
            "Wrote augmented data to /content/drive/MyDrive/LLM/augmented_dataset_trial96.csv\n"
          ]
        },
        {
          "output_type": "stream",
          "name": "stderr",
          "text": [
            "Some weights of RobertaModel were not initialized from the model checkpoint at DeepChem/ChemBERTa-77M-MTR and are newly initialized: ['pooler.dense.bias', 'pooler.dense.weight']\n",
            "You should probably TRAIN this model on a down-stream task to be able to use it for predictions and inference.\n",
            "[I 2025-05-10 00:20:46,119] Trial 96 pruned. \n"
          ]
        },
        {
          "output_type": "stream",
          "name": "stdout",
          "text": [
            "Wrote augmented data to /content/drive/MyDrive/LLM/augmented_dataset_trial97.csv\n"
          ]
        },
        {
          "output_type": "stream",
          "name": "stderr",
          "text": [
            "Some weights of RobertaModel were not initialized from the model checkpoint at DeepChem/ChemBERTa-77M-MTR and are newly initialized: ['pooler.dense.bias', 'pooler.dense.weight']\n",
            "You should probably TRAIN this model on a down-stream task to be able to use it for predictions and inference.\n",
            "[I 2025-05-10 00:20:54,772] Trial 97 pruned. \n"
          ]
        },
        {
          "output_type": "stream",
          "name": "stdout",
          "text": [
            "Wrote augmented data to /content/drive/MyDrive/LLM/augmented_dataset_trial98.csv\n"
          ]
        },
        {
          "output_type": "stream",
          "name": "stderr",
          "text": [
            "Some weights of RobertaModel were not initialized from the model checkpoint at DeepChem/ChemBERTa-77M-MTR and are newly initialized: ['pooler.dense.bias', 'pooler.dense.weight']\n",
            "You should probably TRAIN this model on a down-stream task to be able to use it for predictions and inference.\n",
            "[I 2025-05-10 00:20:58,047] Trial 98 pruned. \n"
          ]
        },
        {
          "output_type": "stream",
          "name": "stdout",
          "text": [
            "Wrote augmented data to /content/drive/MyDrive/LLM/augmented_dataset_trial99.csv\n"
          ]
        },
        {
          "output_type": "stream",
          "name": "stderr",
          "text": [
            "Some weights of RobertaModel were not initialized from the model checkpoint at DeepChem/ChemBERTa-77M-MTR and are newly initialized: ['pooler.dense.bias', 'pooler.dense.weight']\n",
            "You should probably TRAIN this model on a down-stream task to be able to use it for predictions and inference.\n",
            "[I 2025-05-10 00:23:16,219] Trial 99 finished with value: 0.45893198104366295 and parameters: {'batch_size': 64, 'bert_lr': 5.023951167447465e-05, 'head_lr': 0.0004823554308271439, 'weight_decay': 1.3138553272663144e-06, 'n_augment': 10, 'dropout_rate': 0.25823686919456973}. Best is trial 69 with value: 0.552620466695384.\n"
          ]
        },
        {
          "output_type": "stream",
          "name": "stdout",
          "text": [
            "Tuning done.\n",
            "Best trial: {'batch_size': 16, 'bert_lr': 4.4342998845073936e-05, 'head_lr': 0.00029609752610167627, 'weight_decay': 9.213690875846378e-07, 'n_augment': 20, 'dropout_rate': 0.31209012938922887}\n"
          ]
        }
      ],
      "source": [
        "study = optuna.create_study(direction=\"maximize\", pruner=MedianPruner(n_warmup_steps=5))\n",
        "study.optimize(objective, n_trials=100)\n",
        "print(\"Tuning done.\")\n",
        "print(\"Best trial:\", study.best_trial.params)"
      ]
    },
    {
      "cell_type": "code",
      "source": [
        "import matplotlib.pyplot as plt\n",
        "import numpy as np\n",
        "\n",
        "# collect (n_augment, best_r2) for each finished trial\n",
        "aug_vs_r2 = [(t.params['n_augment'], t.value)\n",
        "             for t in study.trials if t.value is not None]\n",
        "\n",
        "x_vals, y_vals = zip(*aug_vs_r2)\n",
        "\n",
        "plt.figure(figsize=(8,5))\n",
        "plt.scatter(x_vals, y_vals, alpha=0.6)\n",
        "plt.xlabel(\"n_augment\")\n",
        "plt.ylabel(\"Validation R²\")\n",
        "plt.title(\"Model Performance vs. # of SMILES Augmentations\")\n",
        "\n",
        "# plot mean R² for each augmentation level\n",
        "levels = sorted(set(x_vals))\n",
        "mean_r2 = [np.mean([r2 for aug, r2 in aug_vs_r2 if aug == lvl])\n",
        "           for lvl in levels]\n",
        "plt.plot(levels, mean_r2, marker='o', linestyle='--')\n",
        "plt.show()"
      ],
      "metadata": {
        "colab": {
          "base_uri": "https://localhost:8080/",
          "height": 487
        },
        "id": "rZ2vnD7IfLsh",
        "outputId": "0d29e9b6-169e-4499-8fac-621a5e3e3f7a"
      },
      "execution_count": 63,
      "outputs": [
        {
          "output_type": "display_data",
          "data": {
            "text/plain": [
              "<Figure size 800x500 with 1 Axes>"
            ],
            "image/png": "[encoded data removed]"
          },
          "metadata": {}
        }
      ]
    },
    {
      "cell_type": "code",
      "source": [
        "best_config = study.best_trial.params"
      ],
      "metadata": {
        "id": "u_J03OlwuDro"
      },
      "execution_count": 20,
      "outputs": []
    },
    {
      "cell_type": "code",
      "source": [
        "# --- Ensemble Configuration ---\n",
        "N_ENSEMBLE_MODELS = 5  # Number of models in the ensemble (e.g., 3-5)\n",
        "# Create a list of unique seeds for each ensemble member\n",
        "ensemble_seeds = [best_config.get('random_seed', 42) + i * 10 for i in range(N_ENSEMBLE_MODELS)]\n",
        "\n",
        "all_test_predictions_list = [] # To store predictions from each model\n",
        "\n",
        "# --- Static parameters from best_config not related to random seeds ---\n",
        "# These come from Optuna and are fixed for all ensemble members\n",
        "epochs_total = best_config.get('epochs_total', 75) # Use .get for safety if not in optuna params\n",
        "epochs_stage1 = best_config.get('epochs_stage1', 15)\n",
        "epochs_stage2 = epochs_total - epochs_stage1\n",
        "current_batch_size = best_config['batch_size']\n",
        "current_n_augment = best_config['n_augment']\n",
        "current_dropout_rate = best_config['dropout_rate']\n",
        "current_bert_lr = best_config['bert_lr']\n",
        "current_head_lr = best_config['head_lr']\n",
        "current_weight_decay = best_config['weight_decay']\n"
      ],
      "metadata": {
        "id": "FHYMvWqWuKeO"
      },
      "execution_count": 21,
      "outputs": []
    },
    {
      "cell_type": "code",
      "source": [
        "# --- Prepare Static Test DataLoader (can be done once) ---\n",
        "# Test data and its tokenization do not change per ensemble member\n",
        "test_dataset = ChemDataset(\n",
        "    test_encoded, # Use pre-tokenized test set\n",
        "    test_df['Route_enc'].values,\n",
        "    test_df['Matrix_enc'].values,\n",
        "    test_df['LambdaZHl_scaled'].values.astype(float)\n",
        ")\n",
        "test_loader = DataLoader(test_dataset, batch_size=current_batch_size) # Use best batch size\n"
      ],
      "metadata": {
        "id": "Wz83uv6yuKbZ"
      },
      "execution_count": 22,
      "outputs": []
    },
    {
      "cell_type": "code",
      "source": [
        "import numpy as np\n",
        "import torch\n",
        "import random\n",
        "import pandas as pd\n",
        "from sklearn.preprocessing import StandardScaler # If you re-scale per fold/run for some reason\n",
        "\n",
        "for i_ensemble, current_seed in enumerate(ensemble_seeds):\n",
        "    print(f\"\\n--- Training Ensemble Member {i_ensemble+1}/{N_ENSEMBLE_MODELS} with Seed {current_seed} ---\")\n",
        "\n",
        "    # --- Set Random Seeds for reproducibility of THIS ensemble member ---\n",
        "    torch.manual_seed(current_seed)\n",
        "    np.random.seed(current_seed)\n",
        "    random.seed(current_seed)\n",
        "    if torch.cuda.is_available():\n",
        "        torch.cuda.manual_seed_all(current_seed)\n",
        "\n",
        "    # --- Prepare full augmented training data (using best n_augment) ---\n",
        "    print(f\"Preparing full augmented dataset with n_augment={current_n_augment}...\")\n",
        "    # Start with a fresh copy of train_df for each ensemble member\n",
        "    # train_df should be the original dataframe before augmentation\n",
        "    full_member_train_df = train_df.copy()\n",
        "    full_member_train_df['Source'] = 'experimental'\n",
        "\n",
        "    aug_smiles_member = []\n",
        "    if current_n_augment > 0:\n",
        "        for smi in full_member_train_df['SMILES']:\n",
        "            mol = Chem.MolFromSmiles(smi)\n",
        "            if mol:\n",
        "                # Optional: Chem.SanitizeMol(mol) here if you want to ensure augmented SMILES are valid\n",
        "                for _ in range(current_n_augment):\n",
        "                    aug_smiles_member.append(\n",
        "                        Chem.MolToSmiles(mol, doRandom=True, canonical=False) # doRandom uses rdkit's internal RNG\n",
        "                    )\n",
        "        aug_df_member = full_member_train_df.loc[full_member_train_df.index.repeat(current_n_augment)].copy()\n",
        "        aug_df_member['SMILES'] = aug_smiles_member\n",
        "        aug_df_member['Source']  = 'simulated'\n",
        "        full_aug_member_df = pd.concat([full_member_train_df, aug_df_member], ignore_index=True)\n",
        "    else:\n",
        "        full_aug_member_df = full_member_train_df\n",
        "\n",
        "    print(f\"Full augmented training set size for member {i_ensemble+1}: {len(full_aug_member_df)}\")\n",
        "\n",
        "    # Prepare final train dataloader for THIS ensemble member\n",
        "    # Shuffling in DataLoader will be affected by the torch.manual_seed\n",
        "    full_train_dataset_member = ChemDataset(\n",
        "        tokenize_smiles(full_aug_member_df),\n",
        "        full_aug_member_df['Route_enc'].values,\n",
        "        full_aug_member_df['Matrix_enc'].values,\n",
        "        full_aug_member_df['LambdaZHl_scaled'].values.astype(float)\n",
        "    )\n",
        "    full_train_loader_member = DataLoader(full_train_dataset_member, batch_size=current_batch_size, shuffle=True)\n",
        "\n",
        "\n",
        "    # --- Initialize Model for THIS ensemble member ---\n",
        "    # Weight initialization in the head will be affected by the seed\n",
        "    print(\"Initializing model for ensemble member...\")\n",
        "    model_member = EnhancedChemBERTa(\n",
        "        \"DeepChem/ChemBERTa-77M-MTR\",\n",
        "        num_routes=len(route_encoder.classes_),\n",
        "        num_matrices=len(matrix_encoder.classes_),\n",
        "        tokenizer=tokenizer,\n",
        "        dropout_rate=current_dropout_rate\n",
        "    ).to(device)\n",
        "\n",
        "    criterion_member = nn.HuberLoss()"
      ],
      "metadata": {
        "colab": {
          "base_uri": "https://localhost:8080/",
          "height": 0
        },
        "id": "OvMS_PVhuKYY",
        "outputId": "4c5b9a50-ca69-4b9a-de70-5ef6bf13e3ea"
      },
      "execution_count": 23,
      "outputs": [
        {
          "output_type": "stream",
          "name": "stdout",
          "text": [
            "\n",
            "--- Training Ensemble Member 1/5 with Seed 42 ---\n",
            "Preparing full augmented dataset with n_augment=20...\n",
            "Full augmented training set size for member 1: 9639\n",
            "Initializing model for ensemble member...\n"
          ]
        },
        {
          "output_type": "stream",
          "name": "stderr",
          "text": [
            "Some weights of RobertaModel were not initialized from the model checkpoint at DeepChem/ChemBERTa-77M-MTR and are newly initialized: ['pooler.dense.bias', 'pooler.dense.weight']\n",
            "You should probably TRAIN this model on a down-stream task to be able to use it for predictions and inference.\n"
          ]
        },
        {
          "output_type": "stream",
          "name": "stdout",
          "text": [
            "\n",
            "--- Training Ensemble Member 2/5 with Seed 52 ---\n",
            "Preparing full augmented dataset with n_augment=20...\n",
            "Full augmented training set size for member 2: 9639\n",
            "Initializing model for ensemble member...\n"
          ]
        },
        {
          "output_type": "stream",
          "name": "stderr",
          "text": [
            "Some weights of RobertaModel were not initialized from the model checkpoint at DeepChem/ChemBERTa-77M-MTR and are newly initialized: ['pooler.dense.bias', 'pooler.dense.weight']\n",
            "You should probably TRAIN this model on a down-stream task to be able to use it for predictions and inference.\n"
          ]
        },
        {
          "output_type": "stream",
          "name": "stdout",
          "text": [
            "\n",
            "--- Training Ensemble Member 3/5 with Seed 62 ---\n",
            "Preparing full augmented dataset with n_augment=20...\n",
            "Full augmented training set size for member 3: 9639\n",
            "Initializing model for ensemble member...\n"
          ]
        },
        {
          "output_type": "stream",
          "name": "stderr",
          "text": [
            "Some weights of RobertaModel were not initialized from the model checkpoint at DeepChem/ChemBERTa-77M-MTR and are newly initialized: ['pooler.dense.bias', 'pooler.dense.weight']\n",
            "You should probably TRAIN this model on a down-stream task to be able to use it for predictions and inference.\n"
          ]
        },
        {
          "output_type": "stream",
          "name": "stdout",
          "text": [
            "\n",
            "--- Training Ensemble Member 4/5 with Seed 72 ---\n",
            "Preparing full augmented dataset with n_augment=20...\n",
            "Full augmented training set size for member 4: 9639\n",
            "Initializing model for ensemble member...\n"
          ]
        },
        {
          "output_type": "stream",
          "name": "stderr",
          "text": [
            "Some weights of RobertaModel were not initialized from the model checkpoint at DeepChem/ChemBERTa-77M-MTR and are newly initialized: ['pooler.dense.bias', 'pooler.dense.weight']\n",
            "You should probably TRAIN this model on a down-stream task to be able to use it for predictions and inference.\n"
          ]
        },
        {
          "output_type": "stream",
          "name": "stdout",
          "text": [
            "\n",
            "--- Training Ensemble Member 5/5 with Seed 82 ---\n",
            "Preparing full augmented dataset with n_augment=20...\n",
            "Full augmented training set size for member 5: 9639\n",
            "Initializing model for ensemble member...\n"
          ]
        },
        {
          "output_type": "stream",
          "name": "stderr",
          "text": [
            "Some weights of RobertaModel were not initialized from the model checkpoint at DeepChem/ChemBERTa-77M-MTR and are newly initialized: ['pooler.dense.bias', 'pooler.dense.weight']\n",
            "You should probably TRAIN this model on a down-stream task to be able to use it for predictions and inference.\n"
          ]
        }
      ]
    },
    {
      "cell_type": "code",
      "source": [
        "    # --- Stage 1: Train Head Only ---\n",
        "    print(f\"\\n--- Member {i_ensemble+1} - Stage 1: Training Head Only ({epochs_stage1} epochs) ---\")\n",
        "    for param in model_member.chemberta.parameters():\n",
        "        param.requires_grad = False\n",
        "    optimizer_stage1_member = AdamW([\n",
        "        {'params': list(model_member.route_embed.parameters()) +\n",
        "                   list(model_member.matrix_embed.parameters()) +\n",
        "                   list(model_member.stereo_embed.parameters()) +\n",
        "                   list(model_member.attention.parameters()) +\n",
        "                   list(model_member.regressor.parameters()),\n",
        "         'lr': current_head_lr, 'weight_decay': current_weight_decay}\n",
        "    ])\n",
        "    total_steps_s1_member = len(full_train_loader_member) * epochs_stage1\n",
        "    scheduler_stage1_member = get_cosine_schedule_with_warmup(\n",
        "        optimizer_stage1_member,\n",
        "        num_warmup_steps=max(1, int(0.1 * total_steps_s1_member)),\n",
        "        num_training_steps=max(1, total_steps_s1_member)\n",
        "    )\n",
        "    for epoch in range(epochs_stage1):\n",
        "        train_loss = train_epoch(model_member, full_train_loader_member, optimizer_stage1_member, criterion_member, scheduler_stage1_member)\n",
        "        print(f\"Member {i_ensemble+1} - Stage 1 - Epoch {epoch+1}/{epochs_stage1} | Train Loss: {train_loss:.4f}\")"
      ],
      "metadata": {
        "colab": {
          "base_uri": "https://localhost:8080/",
          "height": 0
        },
        "id": "LWl0K8eruKVU",
        "outputId": "eaef0fd7-ab58-4beb-98a3-6cea3d4425fa"
      },
      "execution_count": 24,
      "outputs": [
        {
          "output_type": "stream",
          "name": "stdout",
          "text": [
            "\n",
            "--- Member 5 - Stage 1: Training Head Only (15 epochs) ---\n",
            "Member 5 - Stage 1 - Epoch 1/15 | Train Loss: 0.2587\n",
            "Member 5 - Stage 1 - Epoch 2/15 | Train Loss: 0.1324\n",
            "Member 5 - Stage 1 - Epoch 3/15 | Train Loss: 0.0986\n",
            "Member 5 - Stage 1 - Epoch 4/15 | Train Loss: 0.0828\n",
            "Member 5 - Stage 1 - Epoch 5/15 | Train Loss: 0.0716\n",
            "Member 5 - Stage 1 - Epoch 6/15 | Train Loss: 0.0638\n",
            "Member 5 - Stage 1 - Epoch 7/15 | Train Loss: 0.0578\n",
            "Member 5 - Stage 1 - Epoch 8/15 | Train Loss: 0.0523\n",
            "Member 5 - Stage 1 - Epoch 9/15 | Train Loss: 0.0491\n",
            "Member 5 - Stage 1 - Epoch 10/15 | Train Loss: 0.0465\n",
            "Member 5 - Stage 1 - Epoch 11/15 | Train Loss: 0.0443\n",
            "Member 5 - Stage 1 - Epoch 12/15 | Train Loss: 0.0413\n",
            "Member 5 - Stage 1 - Epoch 13/15 | Train Loss: 0.0412\n",
            "Member 5 - Stage 1 - Epoch 14/15 | Train Loss: 0.0398\n",
            "Member 5 - Stage 1 - Epoch 15/15 | Train Loss: 0.0391\n"
          ]
        }
      ]
    },
    {
      "cell_type": "code",
      "source": [
        "    # --- Stage 2: Fine-tune Full Model ---\n",
        "    print(f\"\\n--- Member {i_ensemble+1} - Stage 2: Fine-tuning Full Model ({epochs_stage2} epochs) ---\")\n",
        "    for param in model_member.chemberta.parameters():\n",
        "        param.requires_grad = True\n",
        "    optimizer_stage2_member = AdamW([\n",
        "        {'params': model_member.chemberta.parameters(), 'lr': current_bert_lr},\n",
        "        {'params': list(model_member.route_embed.parameters()) +\n",
        "                   list(model_member.matrix_embed.parameters()) +\n",
        "                   list(model_member.stereo_embed.parameters()) +\n",
        "                   list(model_member.attention.parameters()) +\n",
        "                   list(model_member.regressor.parameters()),\n",
        "         'lr': current_head_lr}\n",
        "    ], weight_decay=current_weight_decay)\n",
        "    total_steps_s2_member = len(full_train_loader_member) * epochs_stage2\n",
        "    scheduler_stage2_member = get_cosine_schedule_with_warmup(\n",
        "        optimizer_stage2_member,\n",
        "        num_warmup_steps=max(1, int(0.1 * total_steps_s2_member)),\n",
        "        num_training_steps=max(1, total_steps_s2_member)\n",
        "    )\n",
        "    for epoch in range(epochs_stage2):\n",
        "        train_loss = train_epoch(model_member, full_train_loader_member, optimizer_stage2_member, criterion_member, scheduler_stage2_member)\n",
        "        print(f\"Member {i_ensemble+1} - Stage 2 - Epoch {epoch+1}/{epochs_stage2} | Train Loss: {train_loss:.4f}\")\n",
        "\n",
        "    # --- Get Predictions from THIS ensemble member on the Test Set ---\n",
        "    model_member.eval()\n",
        "    member_test_preds = []\n",
        "    with torch.no_grad():\n",
        "        for batch in test_loader: # Use the static test_loader\n",
        "            inputs_test = {k: v.to(device) for k, v in batch.items() if k != 'labels'}\n",
        "            outputs_test = model_member(**inputs_test)\n",
        "            member_test_preds.extend(outputs_test.squeeze().cpu().numpy())\n",
        "    all_test_predictions_list.append(member_test_preds)\n",
        "    print(f\"Finished training and predicting for ensemble member {i_ensemble+1}.\")\n",
        "    # Optional: Evaluate and print metrics for this individual member\n",
        "    # member_metrics = evaluate_model(model_member, test_loader, criterion_member)\n",
        "    # print(f\"Member {i_ensemble+1} Test R²: {member_metrics['r2']:.4f}\")"
      ],
      "metadata": {
        "colab": {
          "base_uri": "https://localhost:8080/",
          "height": 0
        },
        "id": "nVpzS9ACup02",
        "outputId": "cc6f1da0-0d68-4c46-fd70-73d4719b4d04"
      },
      "execution_count": 25,
      "outputs": [
        {
          "output_type": "stream",
          "name": "stdout",
          "text": [
            "\n",
            "--- Member 5 - Stage 2: Fine-tuning Full Model (60 epochs) ---\n",
            "Member 5 - Stage 2 - Epoch 1/60 | Train Loss: 0.0403\n",
            "Member 5 - Stage 2 - Epoch 2/60 | Train Loss: 0.0400\n",
            "Member 5 - Stage 2 - Epoch 3/60 | Train Loss: 0.0396\n",
            "Member 5 - Stage 2 - Epoch 4/60 | Train Loss: 0.0367\n",
            "Member 5 - Stage 2 - Epoch 5/60 | Train Loss: 0.0341\n",
            "Member 5 - Stage 2 - Epoch 6/60 | Train Loss: 0.0320\n",
            "Member 5 - Stage 2 - Epoch 7/60 | Train Loss: 0.0280\n",
            "Member 5 - Stage 2 - Epoch 8/60 | Train Loss: 0.0243\n",
            "Member 5 - Stage 2 - Epoch 9/60 | Train Loss: 0.0217\n",
            "Member 5 - Stage 2 - Epoch 10/60 | Train Loss: 0.0196\n",
            "Member 5 - Stage 2 - Epoch 11/60 | Train Loss: 0.0179\n",
            "Member 5 - Stage 2 - Epoch 12/60 | Train Loss: 0.0168\n",
            "Member 5 - Stage 2 - Epoch 13/60 | Train Loss: 0.0152\n",
            "Member 5 - Stage 2 - Epoch 14/60 | Train Loss: 0.0144\n",
            "Member 5 - Stage 2 - Epoch 15/60 | Train Loss: 0.0142\n",
            "Member 5 - Stage 2 - Epoch 16/60 | Train Loss: 0.0132\n",
            "Member 5 - Stage 2 - Epoch 17/60 | Train Loss: 0.0129\n",
            "Member 5 - Stage 2 - Epoch 18/60 | Train Loss: 0.0117\n",
            "Member 5 - Stage 2 - Epoch 19/60 | Train Loss: 0.0117\n",
            "Member 5 - Stage 2 - Epoch 20/60 | Train Loss: 0.0113\n",
            "Member 5 - Stage 2 - Epoch 21/60 | Train Loss: 0.0102\n",
            "Member 5 - Stage 2 - Epoch 22/60 | Train Loss: 0.0098\n",
            "Member 5 - Stage 2 - Epoch 23/60 | Train Loss: 0.0095\n",
            "Member 5 - Stage 2 - Epoch 24/60 | Train Loss: 0.0090\n",
            "Member 5 - Stage 2 - Epoch 25/60 | Train Loss: 0.0089\n",
            "Member 5 - Stage 2 - Epoch 26/60 | Train Loss: 0.0085\n",
            "Member 5 - Stage 2 - Epoch 27/60 | Train Loss: 0.0078\n",
            "Member 5 - Stage 2 - Epoch 28/60 | Train Loss: 0.0077\n",
            "Member 5 - Stage 2 - Epoch 29/60 | Train Loss: 0.0072\n",
            "Member 5 - Stage 2 - Epoch 30/60 | Train Loss: 0.0070\n",
            "Member 5 - Stage 2 - Epoch 31/60 | Train Loss: 0.0068\n",
            "Member 5 - Stage 2 - Epoch 32/60 | Train Loss: 0.0065\n",
            "Member 5 - Stage 2 - Epoch 33/60 | Train Loss: 0.0065\n",
            "Member 5 - Stage 2 - Epoch 34/60 | Train Loss: 0.0063\n",
            "Member 5 - Stage 2 - Epoch 35/60 | Train Loss: 0.0061\n",
            "Member 5 - Stage 2 - Epoch 36/60 | Train Loss: 0.0059\n",
            "Member 5 - Stage 2 - Epoch 37/60 | Train Loss: 0.0060\n",
            "Member 5 - Stage 2 - Epoch 38/60 | Train Loss: 0.0059\n",
            "Member 5 - Stage 2 - Epoch 39/60 | Train Loss: 0.0057\n",
            "Member 5 - Stage 2 - Epoch 40/60 | Train Loss: 0.0053\n",
            "Member 5 - Stage 2 - Epoch 41/60 | Train Loss: 0.0052\n",
            "Member 5 - Stage 2 - Epoch 42/60 | Train Loss: 0.0051\n",
            "Member 5 - Stage 2 - Epoch 43/60 | Train Loss: 0.0050\n",
            "Member 5 - Stage 2 - Epoch 44/60 | Train Loss: 0.0050\n",
            "Member 5 - Stage 2 - Epoch 45/60 | Train Loss: 0.0047\n",
            "Member 5 - Stage 2 - Epoch 46/60 | Train Loss: 0.0047\n",
            "Member 5 - Stage 2 - Epoch 47/60 | Train Loss: 0.0047\n",
            "Member 5 - Stage 2 - Epoch 48/60 | Train Loss: 0.0046\n",
            "Member 5 - Stage 2 - Epoch 49/60 | Train Loss: 0.0047\n",
            "Member 5 - Stage 2 - Epoch 50/60 | Train Loss: 0.0047\n",
            "Member 5 - Stage 2 - Epoch 51/60 | Train Loss: 0.0044\n",
            "Member 5 - Stage 2 - Epoch 52/60 | Train Loss: 0.0043\n",
            "Member 5 - Stage 2 - Epoch 53/60 | Train Loss: 0.0044\n",
            "Member 5 - Stage 2 - Epoch 54/60 | Train Loss: 0.0043\n",
            "Member 5 - Stage 2 - Epoch 55/60 | Train Loss: 0.0045\n",
            "Member 5 - Stage 2 - Epoch 56/60 | Train Loss: 0.0044\n",
            "Member 5 - Stage 2 - Epoch 57/60 | Train Loss: 0.0042\n",
            "Member 5 - Stage 2 - Epoch 58/60 | Train Loss: 0.0044\n",
            "Member 5 - Stage 2 - Epoch 59/60 | Train Loss: 0.0045\n",
            "Member 5 - Stage 2 - Epoch 60/60 | Train Loss: 0.0042\n",
            "Finished training and predicting for ensemble member 5.\n"
          ]
        }
      ]
    },
    {
      "cell_type": "code",
      "source": [
        "# --- Aggregate Ensemble Predictions ---\n",
        "# 'all_test_predictions_list' is a list of lists; convert to a 2D numpy array\n",
        "predictions_array = np.array(all_test_predictions_list) # Shape: (N_ENSEMBLE_MODELS, N_TEST_SAMPLES)\n",
        "ensemble_final_predictions = np.mean(predictions_array, axis=0) # Average across models for each sample\n",
        "\n",
        "# --- Evaluate Ensemble Performance ---\n",
        "# Get true labels (scaled) from the test_df (once)\n",
        "true_labels_scaled_test = test_df['LambdaZHl_scaled'].values\n",
        "\n",
        "print(\"\\n--- Final Ensemble Model Evaluation (on scaled values) ---\")\n",
        "ensemble_mae = mean_absolute_error(true_labels_scaled_test, ensemble_final_predictions)\n",
        "ensemble_rmse = sqrt(mean_squared_error(true_labels_scaled_test, ensemble_final_predictions))\n",
        "ensemble_r2 = r2_score(true_labels_scaled_test, ensemble_final_predictions)\n",
        "\n",
        "print(f\"Ensemble Test MAE: {ensemble_mae:.4f}\")\n",
        "print(f\"Ensemble Test RMSE: {ensemble_rmse:.4f}\")\n",
        "print(f\"Ensemble Test R²: {ensemble_r2:.4f}\")"
      ],
      "metadata": {
        "colab": {
          "base_uri": "https://localhost:8080/",
          "height": 0
        },
        "id": "B9qKsyNNupyS",
        "outputId": "4b828afd-0f70-4f94-e5c8-7acf38460313"
      },
      "execution_count": 26,
      "outputs": [
        {
          "output_type": "stream",
          "name": "stdout",
          "text": [
            "\n",
            "--- Final Ensemble Model Evaluation (on scaled values) ---\n",
            "Ensemble Test MAE: 0.4223\n",
            "Ensemble Test RMSE: 0.5559\n",
            "Ensemble Test R²: 0.6870\n"
          ]
        }
      ]
    },
    {
      "cell_type": "code",
      "source": [
        "print(\"\\n--- Visualizing Ensemble Performance ---\")\n",
        "def inverse_transform_for_plot(scaled_values_array):\n",
        "    # Assuming lambda_scaler.inverse_transform expects a 2D array [n_samples, n_features]\n",
        "    # and your scaled_values_array is 1D.\n",
        "    if scaled_values_array.ndim == 1:\n",
        "        scaled_values_array = scaled_values_array.reshape(-1, 1)\n",
        "\n",
        "    # Inverse transform from scaled to log-scale\n",
        "    log_transformed_values = lambda_scaler.inverse_transform(scaled_values_array)\n",
        "\n",
        "    # Inverse log transform (exp) and subtract epsilon\n",
        "    original_scale_values = np.exp(log_transformed_values.flatten()) - 1e-6\n",
        "    return original_scale_values\n",
        "\n",
        "# Check if lambda_scaler is defined\n",
        "if 'lambda_scaler' not in locals() and 'lambda_scaler' not in globals():\n",
        "    print(\"Error: lambda_scaler is not defined. Cannot perform inverse transform for plotting.\")\n",
        "else:\n",
        "    preds_original_scale = inverse_transform_for_plot(ensemble_final_predictions)\n",
        "    actuals_original_scale = inverse_transform_for_plot(true_labels_scaled_test)\n",
        "\n",
        "    # --- Sanity Check: Calculate R² on original scale (optional, but good for consistency) ---\n",
        "    # This R² might be slightly different from the R² on the scaled values due to the non-linear transform.\n",
        "    # It's common practice to report metrics on the scale they were optimized (scaled)\n",
        "    # but visualize on the original, interpretable scale.\n",
        "    r2_on_original_scale = r2_score(actuals_original_scale, preds_original_scale)\n",
        "    print(f\"R² calculated on original (inverse-transformed) scale for plot consistency: {r2_on_original_scale:.4f}\")\n",
        "\n",
        "\n",
        "    plt.figure(figsize=(10, 6))\n",
        "    plt.scatter(actuals_original_scale, preds_original_scale, alpha=0.6)\n",
        "\n",
        "    # Plot y=x line based on the range of actuals_original_scale\n",
        "    min_val = min(np.min(actuals_original_scale), np.min(preds_original_scale))\n",
        "    max_val = max(np.max(actuals_original_scale), np.max(preds_original_scale))\n",
        "    plt.plot([min_val, max_val], [min_val, max_val], 'r--')\n",
        "\n",
        "    plt.xlabel('Actual Half-Life (Original Scale)')\n",
        "    plt.ylabel('Predicted Half-Life (Original Scale)')\n",
        "    # Use the ensemble_r2 calculated on the SCALED data for the title, as that's what your model optimized.\n",
        "    # Or, if you prefer, use r2_on_original_scale. Be clear which one it is.\n",
        "    plt.title(f'Ensemble: Actual vs Predicted (Optimized R² = {ensemble_r2:.4f})')\n",
        "    plt.grid(True)\n",
        "    plt.show()"
      ],
      "metadata": {
        "colab": {
          "base_uri": "https://localhost:8080/",
          "height": 619
        },
        "id": "q97-WcJICvXo",
        "outputId": "73f1ee74-3892-4cc5-9247-76f4ebf73e95"
      },
      "execution_count": 30,
      "outputs": [
        {
          "output_type": "stream",
          "name": "stdout",
          "text": [
            "\n",
            "--- Visualizing Ensemble Performance ---\n",
            "R² calculated on original (inverse-transformed) scale for plot consistency: -2.0336\n"
          ]
        },
        {
          "output_type": "display_data",
          "data": {
            "text/plain": [
              "<Figure size 1000x600 with 1 Axes>"
            ],
            "image/png": "[encoded data removed]"
          },
          "metadata": {}
        }
      ]
    },
    {
      "cell_type": "code",
      "execution_count": 44,
      "metadata": {
        "id": "qBaLw_lw95Gm",
        "colab": {
          "base_uri": "https://localhost:8080/",
          "height": 606
        },
        "outputId": "3b44df99-99ed-429e-d0e9-d0e7051b488b"
      },
      "outputs": [
        {
          "output_type": "stream",
          "name": "stdout",
          "text": [
            "\n",
            "--- Generating Residual Plot for Ensemble Predictions (Original Scale) ---\n"
          ]
        },
        {
          "output_type": "display_data",
          "data": {
            "text/plain": [
              "<Figure size 1000x600 with 1 Axes>"
            ],
            "image/png": "[encoded data removed]"
          },
          "metadata": {}
        }
      ],
      "source": [
        "# <<< This code block assumes the previous visualization block has run >>>\n",
        "# <<< and `preds_original_scale` and `actuals_original_scale` are defined >>>\n",
        "# <<< and 'lambda_scaler' is available and correctly fitted if not already handled >>>\n",
        "\n",
        "# Ensure preds_original_scale and actuals_original_scale exist from previous block\n",
        "if 'preds_original_scale' in locals() and 'actuals_original_scale' in locals():\n",
        "\n",
        "    print(\"\\n--- Generating Residual Plot for Ensemble Predictions (Original Scale) ---\")\n",
        "\n",
        "    # Calculate residuals on the original, interpretable scale\n",
        "    residuals_original_scale = actuals_original_scale - preds_original_scale\n",
        "\n",
        "    plt.figure(figsize=(10, 6))\n",
        "    plt.scatter(preds_original_scale, residuals_original_scale, alpha=0.7, color='purple', edgecolors='k', s=50) # Added edgecolors and size\n",
        "\n",
        "    # Horizontal line at y=0 (perfect prediction)\n",
        "    plt.axhline(0, color='red', linestyle='--', linewidth=2)\n",
        "\n",
        "    plt.xlabel('Predicted Half-Life (Original Scale)', fontsize=12)\n",
        "    plt.ylabel('Residuals (Actual - Predicted, Original Scale)', fontsize=12)\n",
        "    plt.title('Residual Plot for Ensemble Predictions', fontsize=14)\n",
        "\n",
        "    # Add a light grid for better readability\n",
        "    plt.grid(True, linestyle=':', alpha=0.6) # Changed linestyle and alpha for subtlety\n",
        "\n",
        "    # Optional: Add text indicating mean of residuals (should be close to 0 for unbiased model)\n",
        "    mean_residual = np.mean(residuals_original_scale)\n",
        "    plt.text(0.75, 0.95, f'Mean Residual: {mean_residual:.4f}',\n",
        "             transform=plt.gca().transAxes, # Position relative to axes\n",
        "             fontsize=10, verticalalignment='top',\n",
        "             bbox=dict(boxstyle='round,pad=0.3', fc='wheat', alpha=0.5))\n",
        "\n",
        "    plt.show()"
      ]
    },
    {
      "cell_type": "code",
      "execution_count": 35,
      "metadata": {
        "id": "y0BLBvQ9m9NR"
      },
      "outputs": [],
      "source": [
        "# Use your training loader as the SHAP background set\n",
        "background_loader = full_train_loader_member"
      ]
    },
    {
      "cell_type": "code",
      "source": [
        "# REVISED analyze_with_shap function\n",
        "def analyze_with_shap(model_to_explain, background_loader, test_loader, tokenizer,\n",
        "                      test_df, num_background=50, num_test_samples=20):\n",
        "    device = next(model_to_explain.parameters()).device\n",
        "    wrapper_for_shap = DeepSHAPWrapper(model_to_explain).to(device)\n",
        "    wrapper_for_shap.eval()\n",
        "\n",
        "    print(f\"Using device: {device} for SHAP analysis\")\n",
        "    print(f\"Preparing background data with {num_background} samples...\")\n",
        "\n",
        "    try:\n",
        "        bg_batch = next(iter(background_loader))\n",
        "    except StopIteration:\n",
        "        print(\"Error: background_loader is empty!\")\n",
        "        return None, None, None, None # Return None for all expected values\n",
        "\n",
        "    actual_bg_samples = min(num_background, bg_batch['input_ids'].shape[0])\n",
        "    if actual_bg_samples < num_background:\n",
        "         print(f\"Warning: Background batch only has {actual_bg_samples} samples, requested {num_background}.\")\n",
        "\n",
        "    bg_ids     = bg_batch['input_ids'][:actual_bg_samples].to(device)\n",
        "    bg_mask    = bg_batch['attention_mask'][:actual_bg_samples].to(device)\n",
        "    bg_route_i = bg_batch['route'][:actual_bg_samples].to(device)\n",
        "    bg_mat_i   = bg_batch['matrix'][:actual_bg_samples].to(device)\n",
        "    bg_stereo_i  = make_stereo_indices(bg_ids, tokenizer).to(device)\n",
        "\n",
        "    with torch.no_grad():\n",
        "        bg_chem_embeds = model_to_explain.chemberta.embeddings(bg_ids).float()\n",
        "        bg_route_emb  = model_to_explain.route_embed(bg_route_i.long()).float()\n",
        "        bg_mat_emb    = model_to_explain.matrix_embed(bg_mat_i.long()).float()\n",
        "        # Ensure stereo_embed is also on the model_to_explain if EnhancedChemBERTa has it\n",
        "        if hasattr(model_to_explain, 'stereo_embed'):\n",
        "            bg_stereo_emb = model_to_explain.stereo_embed(bg_stereo_i.long()).mean(dim=1).float()\n",
        "        else: # Fallback if stereo_embed is missing, though DeepSHAPWrapper expects it\n",
        "            print(\"Warning: model_to_explain does not have stereo_embed. Using zeros for background stereo_emb.\")\n",
        "            # Determine the expected dimension for stereo_emb, e.g., 8 from your EnhancedChemBERTa\n",
        "            stereo_emb_dim = 8 # Assuming it's 8 from your model definition\n",
        "            bg_stereo_emb = torch.zeros(actual_bg_samples, stereo_emb_dim, device=device).float()\n",
        "\n",
        "\n",
        "    background_shap_inputs = [\n",
        "        bg_chem_embeds,\n",
        "        bg_mask.float(),\n",
        "        bg_route_emb,\n",
        "        bg_mat_emb,\n",
        "        bg_stereo_emb # Fifth element\n",
        "    ]\n",
        "    print(\"Background data prepared for SHAP.\")\n",
        "\n",
        "    try:\n",
        "        explainer = shap.DeepExplainer(wrapper_for_shap, background_shap_inputs)\n",
        "        print(\"SHAP DeepExplainer initialized.\")\n",
        "    except Exception as e:\n",
        "        print(f\"Error initializing SHAP DeepExplainer: {e}\")\n",
        "        for i, item in enumerate(background_shap_inputs):\n",
        "            print(f\"Background input {i} shape: {item.shape if hasattr(item, 'shape') else type(item)}\")\n",
        "        # Potentially return None or raise\n",
        "        return None, None, None, None\n",
        "\n",
        "\n",
        "    print(f\"Preparing test data with up to {num_test_samples} samples...\")\n",
        "    try:\n",
        "        test_batch_data = next(iter(test_loader))\n",
        "    except StopIteration:\n",
        "        print(\"Error: test_loader is empty!\")\n",
        "        return None, None, None, None\n",
        "\n",
        "    actual_test_samples = min(num_test_samples, test_batch_data['input_ids'].shape[0])\n",
        "    if actual_test_samples < num_test_samples:\n",
        "        print(f\"Warning: Test batch only has {actual_test_samples} samples, requested {num_test_samples}.\")\n",
        "\n",
        "    t_ids     = test_batch_data['input_ids'][:actual_test_samples].to(device)\n",
        "    t_mask    = test_batch_data['attention_mask'][:actual_test_samples].to(device)\n",
        "    t_route_i = test_batch_data['route'][:actual_test_samples].to(device)\n",
        "    t_mat_i   = test_batch_data['matrix'][:actual_test_samples].to(device)\n",
        "    t_stereo_i = make_stereo_indices(t_ids, tokenizer).to(device)\n",
        "\n",
        "    with torch.no_grad():\n",
        "        t_chem_embeds = model_to_explain.chemberta.embeddings(t_ids).float()\n",
        "        t_route_emb  = model_to_explain.route_embed(t_route_i.long()).float()\n",
        "        t_mat_emb    = model_to_explain.matrix_embed(t_mat_i.long()).float()\n",
        "        if hasattr(model_to_explain, 'stereo_embed'):\n",
        "            t_stereo_emb = model_to_explain.stereo_embed(t_stereo_i.long()).mean(dim=1).float() # Ensure .float()\n",
        "        else:\n",
        "            print(\"Warning: model_to_explain does not have stereo_embed. Using zeros for test stereo_emb.\")\n",
        "            stereo_emb_dim = 8 # Assuming it's 8\n",
        "            t_stereo_emb = torch.zeros(actual_test_samples, stereo_emb_dim, device=device).float()\n",
        "\n",
        "\n",
        "    # <<< REVISION START: Add t_stereo_emb to test_inputs >>>\n",
        "    test_shap_inputs = [\n",
        "        t_chem_embeds,\n",
        "        t_mask.float(),\n",
        "        t_route_emb,\n",
        "        t_mat_emb,\n",
        "        t_stereo_emb  # Add the fifth element here\n",
        "    ]\n",
        "    # <<< REVISION END >>>\n",
        "    print(\"Test data prepared for SHAP.\")\n",
        "\n",
        "    try:\n",
        "        shap_values_list = explainer.shap_values(test_shap_inputs, check_additivity=False)\n",
        "        print(\"SHAP values computed.\")\n",
        "    except Exception as e:\n",
        "        print(f\"Error computing SHAP values: {e}\")\n",
        "        for i, item in enumerate(test_shap_inputs):\n",
        "            print(f\"Test input {i} shape: {item.shape if hasattr(item, 'shape') else type(item)}\")\n",
        "        return None, None, None, None # Return None on error\n",
        "\n",
        "    if shap_values_list and shap_values_list[0] is not None:\n",
        "        # Ensure shap_values_list[0] (SHAP for chem_embeds) is a NumPy array for .sum()\n",
        "        shap_for_chem_embeds = shap_values_list[0]\n",
        "        if isinstance(shap_for_chem_embeds, torch.Tensor):\n",
        "            shap_for_chem_embeds = shap_for_chem_embeds.cpu().numpy()\n",
        "        token_importance_scores = shap_for_chem_embeds.sum(axis=-1)\n",
        "    else:\n",
        "        print(\"Warning: SHAP values for chemical embeddings are missing or None.\")\n",
        "        token_importance_scores = np.array([])\n",
        "\n",
        "    smiles_for_shap = test_df['SMILES'].tolist()[:actual_test_samples]\n",
        "    return shap_values_list, test_shap_inputs, smiles_for_shap, token_importance_scores\n"
      ],
      "metadata": {
        "id": "19V7St1YPtQ1"
      },
      "execution_count": 48,
      "outputs": []
    },
    {
      "cell_type": "code",
      "execution_count": 54,
      "metadata": {
        "id": "fcuU8hKPTnli",
        "colab": {
          "base_uri": "https://localhost:8080/",
          "height": 0
        },
        "outputId": "227a269a-3363-4251-b98f-c784d80fe286"
      },
      "outputs": [
        {
          "output_type": "stream",
          "name": "stdout",
          "text": [
            "\n",
            "--- SHAP Analysis on the LAST TRAINED FOLD MODEL ---\n",
            "Using model from last trained ensemble member for SHAP.\n",
            "Using its corresponding training loader as background for SHAP.\n",
            "Using device: cuda:0 for SHAP analysis\n",
            "Preparing background data with 50 samples...\n",
            "Warning: Background batch only has 16 samples, requested 50.\n",
            "Background data prepared for SHAP.\n",
            "SHAP DeepExplainer initialized.\n",
            "Preparing test data with up to 20 samples...\n",
            "Warning: Test batch only has 16 samples, requested 20.\n",
            "Test data prepared for SHAP.\n"
          ]
        },
        {
          "output_type": "stream",
          "name": "stderr",
          "text": [
            "/usr/local/lib/python3.11/dist-packages/shap/explainers/_deep/deep_pytorch.py:255: UserWarning: unrecognized nn.Module: LayerNorm\n",
            "  warnings.warn(f\"unrecognized nn.Module: {module_type}\")\n",
            "/usr/local/lib/python3.11/dist-packages/shap/explainers/_deep/deep_pytorch.py:255: UserWarning: unrecognized nn.Module: GELUActivation\n",
            "  warnings.warn(f\"unrecognized nn.Module: {module_type}\")\n"
          ]
        },
        {
          "output_type": "stream",
          "name": "stdout",
          "text": [
            "SHAP values computed.\n",
            "SHAP analysis completed successfully.\n",
            "Unexpected SHAP value shape for SMILES Token Embeddings: (16, 256, 384, 1)\n",
            "\n",
            "=== Global Feature Importances (mean |SHAP|) ===\n",
            "                Attention Mask : 0.00208\n",
            "              Route Embeddings : 0.01751\n",
            "             Matrix Embeddings : 0.02307\n",
            "             Stereo Embeddings : 0.00000\n"
          ]
        }
      ],
      "source": [
        "# MAIN SHAP ANALYSIS EXECUTION\n",
        "print(\"\\n--- SHAP Analysis on the LAST TRAINED FOLD MODEL ---\")\n",
        "\n",
        "if 'model_member' in locals() or 'model_member' in globals(): # Variable holding the last trained model\n",
        "    model_to_analyze_with_shap = model_member\n",
        "    print(f\"Using model from last trained ensemble member for SHAP.\")\n",
        "\n",
        "    if 'full_train_loader_member' in locals() or 'full_train_loader_member' in globals(): # Loader for that model's training\n",
        "        background_loader_for_shap = full_train_loader_member\n",
        "        print(f\"Using its corresponding training loader as background for SHAP.\")\n",
        "\n",
        "        # Now call analyze_with_shap\n",
        "        # Note: analyze_with_shap now returns a list of SHAP value arrays\n",
        "        list_of_shap_values, analyzed_test_inputs, analyzed_test_smiles, analyzed_token_importances = analyze_with_shap(\n",
        "            model_to_analyze_with_shap,\n",
        "            background_loader_for_shap,\n",
        "            test_loader,        # Your general test_loader\n",
        "            tokenizer,\n",
        "            test_df,            # test_df to get SMILES strings\n",
        "            num_background=50,  # Number of background samples to use from background_loader\n",
        "            num_test_samples=20 # Number of test samples to explain\n",
        "        )\n",
        "\n",
        "        if list_of_shap_values is not None:\n",
        "            print(\"SHAP analysis completed successfully.\")\n",
        "            # --- Define feature_names based on the inputs to DeepSHAPWrapper ---\n",
        "            # These correspond to bg_inputs / test_inputs in analyze_with_shap\n",
        "            # Order: chem_embeds, attention_mask, route_emb, matrix_emb, stereo_emb\n",
        "            feature_names_for_global_importance = [\n",
        "                \"SMILES Token Embeddings\",\n",
        "                \"Attention Mask\",\n",
        "                \"Route Embeddings\",\n",
        "                \"Matrix Embeddings\",\n",
        "                \"Stereo Embeddings\"\n",
        "            ]\n",
        "\n",
        "            if len(feature_names_for_global_importance) != len(list_of_shap_values):\n",
        "                print(f\"Error/Warning: Mismatch between feature_names ({len(feature_names_for_global_importance)}) and returned SHAP value groups ({len(list_of_shap_values)}).\")\n",
        "                print(\"Please check the `DeepSHAPWrapper`'s forward method inputs and the `analyze_with_shap` function's `background_shap_inputs`/`test_shap_inputs` list structure.\")\n",
        "                # Fallback:\n",
        "                # feature_names_for_global_importance = [f\"Input Group {i+1}\" for i in range(len(list_of_shap_values))]\n",
        "\n",
        "            # Calculate global importance\n",
        "            global_importance_dict = {} # RENAME to avoid conflict if this cell is re-run\n",
        "            for i, name in enumerate(feature_names_for_global_importance):\n",
        "                if i < len(list_of_shap_values) and list_of_shap_values[i] is not None:\n",
        "                    # SHAP values can be multi-dimensional (e.g., for token embeddings BxLxH)\n",
        "                    if list_of_shap_values[i].ndim == 3: # e.g. SMILES token embeddings\n",
        "                         abs_shap = np.abs(list_of_shap_values[i]).sum(axis=-1) # Sum over hidden_dim -> BxL\n",
        "                         global_importance_dict[name] = np.mean(abs_shap) # Mean over Batch and SeqLen\n",
        "                    elif list_of_shap_values[i].ndim == 2: # e.g. Attention Mask BxL, or other BxEmb_dim\n",
        "                         global_importance_dict[name] = np.mean(np.abs(list_of_shap_values[i])) # Mean over Batch and SeqLen/Emb_dim\n",
        "                    elif list_of_shap_values[i].ndim == 1: # e.g. if it was already B\n",
        "                         global_importance_dict[name] = np.mean(np.abs(list_of_shap_values[i]))\n",
        "                    else:\n",
        "                         print(f\"Unexpected SHAP value shape for {name}: {list_of_shap_values[i].shape}\")\n",
        "                else:\n",
        "                    print(f\"Warning: No SHAP values for feature '{name}' or index out of bounds.\")\n",
        "\n",
        "            if global_importance_dict:\n",
        "                print(\"\\n=== Global Feature Importances (mean |SHAP|) ===\")\n",
        "                for name, imp in global_importance_dict.items():\n",
        "                    print(f\"{name:>30s} : {imp:.5f}\")\n",
        "            else:\n",
        "                print(\"No global importances calculated.\")\n",
        "        else:\n",
        "            print(\"SHAP analysis did not return values. Skipping further processing.\")\n",
        "    else:\n",
        "        print(\"Error: `full_train_loader_member` (background loader for SHAP) is not defined. Make sure K-Fold loop ran and variable is accessible.\")\n",
        "else:\n",
        "    # This is your original error trigger\n",
        "    print(\"Error: `model_member` (model to explain) is not defined. Make sure K-Fold loop ran and variable is accessible.\")"
      ]
    },
    {
      "cell_type": "code",
      "execution_count": 55,
      "metadata": {
        "id": "v5mp1y6LntT6",
        "colab": {
          "base_uri": "https://localhost:8080/",
          "height": 1000
        },
        "outputId": "f9a3b474-5ebb-40bc-c679-4ba1b06e4b16"
      },
      "outputs": [
        {
          "output_type": "display_data",
          "data": {
            "text/plain": [
              "<Figure size 1000x600 with 1 Axes>"
            ],
            "image/png": "[encoded data removed]"
          },
          "metadata": {}
        },
        {
          "output_type": "display_data",
          "data": {
            "text/plain": [
              "<Figure size 1000x600 with 1 Axes>"
            ],
            "image/png": "[encoded data removed]"
          },
          "metadata": {}
        }
      ],
      "source": [
        "# GLOBAL IMPORTANCE PLOTTING\n",
        "# Use the dictionary created in the previous block\n",
        "if 'global_importance_dict' in locals() and global_importance_dict:\n",
        "    names_plot = list(global_importance_dict.keys())\n",
        "    raw_imp_plot = np.array(list(global_importance_dict.values()))\n",
        "\n",
        "    sorted_indices_plot = np.argsort(raw_imp_plot)[::-1]\n",
        "    sorted_names_plot = [names_plot[i] for i in sorted_indices_plot]\n",
        "    sorted_raw_imp_plot = raw_imp_plot[sorted_indices_plot]\n",
        "\n",
        "    plt.figure(figsize=(10, 6)) # Adjusted size\n",
        "    bars_raw = plt.bar(sorted_names_plot, sorted_raw_imp_plot, color='c', edgecolor='k')\n",
        "    plt.ylabel(\"Mean |SHAP value| (Global Importance)\", fontsize=12)\n",
        "    plt.xlabel(\"Input Feature Groups\", fontsize=12)\n",
        "    plt.xticks(rotation=45, ha=\"right\", fontsize=10)\n",
        "    plt.yticks(fontsize=10)\n",
        "    plt.title(\"Global Feature Importances (Raw SHAP)\", fontsize=14)\n",
        "    for bar in bars_raw:\n",
        "        yval = bar.get_height()\n",
        "        plt.text(bar.get_x() + bar.get_width()/2.0, yval + (0.01 * np.max(sorted_raw_imp_plot) if np.max(sorted_raw_imp_plot) > 0 else 0.01), f'{yval:.4f}', ha='center', va='bottom', fontsize=9)\n",
        "    plt.grid(axis='y', linestyle=':', alpha=0.7)\n",
        "    plt.tight_layout()\n",
        "    plt.show()\n",
        "\n",
        "    if raw_imp_plot.sum() != 0:\n",
        "        imp_pct_sorted_plot = sorted_raw_imp_plot / raw_imp_plot.sum() * 100\n",
        "        plt.figure(figsize=(10, 6)) # Adjusted size\n",
        "        bars_pct = plt.bar(sorted_names_plot, imp_pct_sorted_plot, color='m', edgecolor='k')\n",
        "        plt.ylabel(\"Percentage of Total Importance (%)\", fontsize=12)\n",
        "        plt.xlabel(\"Input Feature Groups\", fontsize=12)\n",
        "        plt.xticks(rotation=45, ha=\"right\", fontsize=10)\n",
        "        plt.yticks(fontsize=10)\n",
        "        plt.title(\"Normalized Global Feature Importances (%)\", fontsize=14)\n",
        "        for bar in bars_pct:\n",
        "            yval = bar.get_height()\n",
        "            plt.text(bar.get_x() + bar.get_width()/2.0, yval + 0.5 , f'{yval:.1f}%', ha='center', va='bottom', fontsize=9)\n",
        "        plt.grid(axis='y', linestyle=':', alpha=0.7)\n",
        "        plt.tight_layout()\n",
        "        plt.show()\n",
        "    else:\n",
        "        print(\"Sum of raw importances is zero. Skipping percentage plot.\")\n",
        "else:\n",
        "    print(\"Warning: 'global_importance_dict' is empty or not defined. Cannot generate global importance plots.\")"
      ]
    },
    {
      "cell_type": "code",
      "execution_count": 57,
      "metadata": {
        "id": "HOgDMgS5nxQL",
        "colab": {
          "base_uri": "https://localhost:8080/",
          "height": 0
        },
        "outputId": "1c5f7ff8-c4c6-4c54-d1ff-4942afa1551b"
      },
      "outputs": [
        {
          "output_type": "stream",
          "name": "stdout",
          "text": [
            "Skipping generate_summary_plot for now as its `test_smiles` dependency needs to be confirmed.\n",
            "\n",
            "Visualizing token importances for the first 5 test SMILES...\n",
            "Visualizing molecule 1: C1=CN=C(N=C1)NS(=O)(=O)C2=CC=C(C=C2)N\n",
            "Error during molecule visualization for C1=CN=C(N=C1)NS(=O)(=O)C2=CC=C(C=C2)N: name 'visualize_molecule_importance' is not defined\n",
            "Visualizing molecule 2: CC1(C2CC3C(C(=O)C(=C(C3(C(=O)C2=C(C4=C(C=CC(=C41)Cl)O)O)O)O)C(=O)N)N(C)C)O\n",
            "Error during molecule visualization for CC1(C2CC3C(C(=O)C(=C(C3(C(=O)C2=C(C4=C(C=CC(=C41)Cl)O)O)O)O)C(=O)N)N(C)C)O: name 'visualize_molecule_importance' is not defined\n",
            "Visualizing molecule 3: CC1=C(C(=NC(=N1)NS(=O)(=O)C2=CC=C(C=C2)N)C)CCS(=O)(=O)O\n",
            "Error during molecule visualization for CC1=C(C(=NC(=N1)NS(=O)(=O)C2=CC=C(C=C2)N)C)CCS(=O)(=O)O: name 'visualize_molecule_importance' is not defined\n",
            "Visualizing molecule 4: CCC1C(C=C(C=CC(=O)C(CC(C(C(C(CC(=O)O1)O)C)OC2C(C(C(C(O2)C)O)N(C)C)O)CCN3CCCCC3)C)C)CN4CCCCC4\n",
            "Error during molecule visualization for CCC1C(C=C(C=CC(=O)C(CC(C(C(C(CC(=O)O1)O)C)OC2C(C(C(C(O2)C)O)N(C)C)O)CCN3CCCCC3)C)C)CN4CCCCC4: name 'visualize_molecule_importance' is not defined\n",
            "Visualizing molecule 5: CC(COC1=C(C=CC(=C1)C#N)C(F)(F)F)(C#N)NC(=O)C2=CC=C(C=C2)SC(F)(F)F\n",
            "Error during molecule visualization for CC(COC1=C(C=CC(=C1)C#N)C(F)(F)F)(C#N)NC(=O)C2=CC=C(C=C2)SC(F)(F)F: name 'visualize_molecule_importance' is not defined\n"
          ]
        }
      ],
      "source": [
        "import os\n",
        "\n",
        "# TOKEN IMPORTANCE VISUALIZATION\n",
        "# ==============================\n",
        "\n",
        "# --- Use the most complete visualize_molecule_importance definition (the one using rdMolDraw2D) ---\n",
        "\n",
        "# --- Generate Summary Plot (assumes generate_summary_plot and test_smiles are defined correctly) ---\n",
        "if 'analyzed_token_importances' in locals() and analyzed_token_importances is not None and analyzed_token_importances.size > 0:\n",
        "    if 'analyzed_test_smiles' in locals() and analyzed_test_smiles: # Ensure test_smiles for generate_summary_plot\n",
        "         # Definition of generate_summary_plot must be available\n",
        "         # It needs test_smiles to link tokens back to their original SMILES for aggregation\n",
        "         # Assuming test_smiles used by generate_summary_plot is `analyzed_test_smiles`\n",
        "         # generate_summary_plot(analyzed_token_importances, tokenizer, test_smiles=analyzed_test_smiles, top_n=20)\n",
        "         print(\"Skipping generate_summary_plot for now as its `test_smiles` dependency needs to be confirmed.\")\n",
        "    else:\n",
        "        print(\"`analyzed_test_smiles` not available for `generate_summary_plot`.\")\n",
        "\n",
        "    # --- Visualize individual molecules using the rdMolDraw2D version ---\n",
        "    output_directory = \"/content/drive/MyDrive/LLM\" # Ensure this directory exists\n",
        "    if not os.path.exists(output_directory):\n",
        "        os.makedirs(output_directory)\n",
        "        print(f\"Created directory: {output_directory}\")\n",
        "\n",
        "    num_visualize = min(5, len(analyzed_test_smiles)) # Visualize up to 5 or available\n",
        "    if num_visualize > 0:\n",
        "        print(f\"\\nVisualizing token importances for the first {num_visualize} test SMILES...\")\n",
        "    for i in range(num_visualize):\n",
        "        current_smiles_to_viz = analyzed_test_smiles[i]\n",
        "        # Pass the scores for the i-th molecule from `analyzed_token_importances`\n",
        "        # The `visualize_molecule_importance` function you provided later takes token_imp and an idx.\n",
        "        # So, we pass `analyzed_token_importances` and `idx=i`.\n",
        "\n",
        "        print(f\"Visualizing molecule {i+1}: {current_smiles_to_viz}\")\n",
        "        output_filename = os.path.join(output_directory, f\"molecule_shap_importance_{i+1}.png\")\n",
        "\n",
        "        # Call the RDKit drawing version of visualize_molecule_importance\n",
        "        # Ensure this function is defined correctly using rdMolDraw2D\n",
        "        try:\n",
        "            visualize_molecule_importance( # This should be your rdMolDraw2D version\n",
        "                smiles=current_smiles_to_viz,\n",
        "                token_imp=analyzed_token_importances, # Pass the whole array\n",
        "                tokenizer=tokenizer,\n",
        "                idx=i,                          # Specify which molecule's scores from the array\n",
        "                output_file=output_filename\n",
        "            )\n",
        "        except Exception as e:\n",
        "            print(f\"Error during molecule visualization for {current_smiles_to_viz}: {e}\")\n",
        "else:\n",
        "    print(\"Token importances (`analyzed_token_importances`) not available for visualization.\")"
      ]
    },
    {
      "cell_type": "code",
      "source": [
        "# AD HELPER FUNCTION DEFINITIONS\n",
        "# ===============================\n",
        "import numpy as np\n",
        "import torch\n",
        "from torch.utils.data import DataLoader\n",
        "from sklearn.preprocessing import StandardScaler # Needed for eval_ad\n",
        "import matplotlib.pyplot as plt # Needed for plot_williams\n",
        "\n",
        "# Definition for make_stereo_indices (needed by extract_features_and_preds)\n",
        "def make_stereo_indices(input_ids, tokenizer):\n",
        "    # ... (definition as provided before) ...\n",
        "    slash_id     = tokenizer.convert_tokens_to_ids('/')\n",
        "    backslash_id = tokenizer.convert_tokens_to_ids('\\\\')\n",
        "    at_id        = tokenizer.convert_tokens_to_ids('@')\n",
        "    si = torch.zeros_like(input_ids)\n",
        "    si[input_ids == slash_id]     = 1\n",
        "    si[input_ids == backslash_id] = 2\n",
        "    si[input_ids == at_id]        = 3\n",
        "    return si\n",
        "\n",
        "# Definition for ChemDatasetEval (needed by extract_features_and_preds)\n",
        "class ChemDatasetEval(torch.utils.data.Dataset):\n",
        "    # ... (definition as provided before) ...\n",
        "    def __init__(self, df, tokenizer, route_enc, matrix_enc, target_col):\n",
        "        self.smiles     = df['SMILES'].tolist()\n",
        "        self.targets    = df[target_col].values.astype(float)\n",
        "        self.route      = torch.tensor(route_enc.transform(df['Route']),  dtype=torch.long)\n",
        "        self.matrix     = torch.tensor(matrix_enc.transform(df['Matrix']), dtype=torch.long)\n",
        "        self.encodings  = tokenizer(\n",
        "            df['SMILES'].tolist(),\n",
        "            padding='max_length',\n",
        "            truncation=True,\n",
        "            max_length=256,\n",
        "            return_tensors='pt'\n",
        "        )\n",
        "    def __len__(self):\n",
        "        return len(self.smiles)\n",
        "    def __getitem__(self, i):\n",
        "        return {\n",
        "            'input_ids':      self.encodings['input_ids'][i],\n",
        "            'attention_mask': self.encodings['attention_mask'][i],\n",
        "            'route':          self.route[i],\n",
        "            'matrix':         self.matrix[i],\n",
        "            'label':          torch.tensor(self.targets[i], dtype=torch.float),\n",
        "            'smiles':         self.smiles[i]\n",
        "        }\n",
        "\n",
        "\n",
        "# Definition for extract_features_and_preds\n",
        "def extract_features_and_preds(model, df, tokenizer, route_enc, matrix_enc, device):\n",
        "    # ... (definition as provided before) ...\n",
        "    ds     = ChemDatasetEval(df, tokenizer, route_enc, matrix_enc, 'LambdaZHl_scaled')\n",
        "    loader = DataLoader(ds, batch_size=32, shuffle=False)\n",
        "    model.eval()\n",
        "    all_feats, all_preds, all_trues = [], [], []\n",
        "    with torch.no_grad():\n",
        "        for batch in loader:\n",
        "            ids   = batch['input_ids'].to(device)\n",
        "            mask  = batch['attention_mask'].to(device)\n",
        "            rt    = batch['route'].to(device)\n",
        "            mx    = batch['matrix'].to(device)\n",
        "            lbl   = batch['label'].to(device)\n",
        "            out = model.chemberta(input_ids=ids, attention_mask=mask).last_hidden_state\n",
        "            wts = model.attention(out)\n",
        "            chem_pooled = (out * wts).sum(dim=1)\n",
        "            route_e  = model.route_embed(rt)\n",
        "            matrix_e = model.matrix_embed(mx)\n",
        "            stereo_idx = make_stereo_indices(ids, tokenizer).to(device)\n",
        "            stereo_e   = model.stereo_embed(stereo_idx).mean(dim=1)\n",
        "            combined_features_for_ad = torch.cat([chem_pooled, route_e, matrix_e, stereo_e], dim=1)\n",
        "            all_feats.append(combined_features_for_ad.cpu().numpy())\n",
        "            preds = model(input_ids=ids, attention_mask=mask, route=rt, matrix=mx).squeeze()\n",
        "            all_preds.append(preds.cpu().numpy())\n",
        "            all_trues.append(lbl.cpu().numpy())\n",
        "    X_features  = np.vstack(all_feats)\n",
        "    y_predictions = np.concatenate(all_preds)\n",
        "    y_true_labels = np.concatenate(all_trues)\n",
        "    return X_features, y_true_labels, y_predictions\n",
        "\n",
        "\n",
        "# --- Definitions for hat_matrix, eval_ad, and plot_williams (from Search Result [1]) ---\n",
        "def hat_matrix(X, random_seed=None): # random_seed for jitter was in the search result\n",
        "    if random_seed is not None: # Check if random_seed is provided\n",
        "        np.random.seed(random_seed)\n",
        "    xtx = X.T @ X\n",
        "    # Jitter to ensure invertibility, as shown in the search result\n",
        "    # The range of jitter might need adjustment based on the scale of your X features.\n",
        "    jitter_scale = (np.diag(xtx).mean() * 1e-6) if xtx.shape[0] > 0 and np.diag(xtx).mean() > 0 else 1e-6\n",
        "    jitter = np.random.uniform(jitter_scale * 0.1, jitter_scale, size=xtx.shape[0])\n",
        "    np.fill_diagonal(xtx, np.diagonal(xtx) + jitter)\n",
        "\n",
        "    try:\n",
        "        ixtx = np.linalg.pinv(xtx) # Use pseudo-inverse for stability\n",
        "    except np.linalg.LinAlgError:\n",
        "        print(\"Warning: Singular matrix in hat_matrix. Using identity as fallback for ixtx (this is not ideal).\")\n",
        "        ixtx = np.eye(xtx.shape[0]) # Fallback, but indicates issues with X features (e.g. collinearity)\n",
        "    return X @ ixtx @ X.T\n",
        "\n",
        "def eval_ad(X_train, X_test, y_train, y_test, y_pred_train, y_pred_test):\n",
        "    # standardize features\n",
        "    scaler = StandardScaler() # Make sure StandardScaler is imported\n",
        "    Xtr = scaler.fit_transform(X_train)\n",
        "    Xte = scaler.transform(X_test)\n",
        "\n",
        "    # build hat-matrix over [train;test]\n",
        "    # The original code did not specify a random_seed for hat_matrix here,\n",
        "    # but it might be good for reproducibility if jitter is significant.\n",
        "    H = hat_matrix(np.vstack([Xtr, Xte]), random_seed=42) # Added a seed for reproducibility\n",
        "    lev_tr = np.diag(H)[:len(Xtr)]\n",
        "    lev_te = np.diag(H)[len(Xtr):]\n",
        "\n",
        "    # standardized residuals\n",
        "    res_tr  = np.abs(y_train - y_pred_train)\n",
        "    res_te  = np.abs(y_test  - y_pred_test)\n",
        "\n",
        "    # Handle cases where standard deviation might be zero (e.g., if all residuals are the same)\n",
        "    s_tr = np.zeros_like(res_tr)\n",
        "    if res_tr.std() > 1e-9: # Check for non-zero std dev\n",
        "        s_tr    = (res_tr - res_tr.mean()) / res_tr.std()\n",
        "    else:\n",
        "        print(\"Warning: Standard deviation of training residuals is close to zero.\")\n",
        "\n",
        "    s_te = np.zeros_like(res_te)\n",
        "    if res_te.std() > 1e-9: # Check for non-zero std dev\n",
        "        s_te    = (res_te - res_te.mean()) / res_te.std()\n",
        "    else:\n",
        "        print(\"Warning: Standard deviation of test residuals is close to zero.\")\n",
        "\n",
        "\n",
        "    # leverage cutoff\n",
        "    p      = X_train.shape[1] + 1 # Number of model parameters (features + intercept)\n",
        "    n      = len(Xtr) + len(Xte)  # Total number of samples\n",
        "    if n == 0: # Prevent division by zero if no samples\n",
        "        print(\"Warning: No samples to calculate h_star.\")\n",
        "        h_star = np.inf\n",
        "    else:\n",
        "        h_star = (3 * p) / n\n",
        "\n",
        "    # % in-domain\n",
        "    AD_tr = ((lev_tr < h_star) & (np.abs(s_tr) < 3)).mean() * 100 if len(lev_tr) > 0 else 0\n",
        "    AD_te = ((lev_te < h_star) & (np.abs(s_te) < 3)).mean() * 100 if len(lev_te) > 0 else 0\n",
        "\n",
        "    return AD_tr, AD_te, s_tr, s_te, lev_tr, lev_te, h_star\n",
        "\n",
        "def plot_williams(lev_tr, s_tr, lev_te, s_te, h_star):\n",
        "    plt.figure(figsize=(8,6)) # Make sure plt is imported (matplotlib.pyplot)\n",
        "    plt.scatter(lev_tr, s_tr, c='blue', alpha=0.6, label=f'Train ({len(lev_tr)} points)')\n",
        "    plt.scatter(lev_te, s_te, c='red',  alpha=0.6, label=f'Test ({len(lev_te)} points)')\n",
        "    plt.axhline(+3, color='black', linestyle='-', linewidth=1.5, label='Std. Residual Cutoff (±3)')\n",
        "    plt.axhline(-3, color='black', linestyle='-', linewidth=1.5)\n",
        "    plt.axvline(h_star, color='darkgreen', linestyle='--', linewidth=1.5, label=f'Leverage Cutoff (h*={h_star:.2f})')\n",
        "    plt.xlabel(\"Leverage (h)\", fontsize=12)\n",
        "    plt.ylabel(\"Standardized Residuals\", fontsize=12)\n",
        "    plt.title(\"Williams Plot (Applicability Domain)\", fontsize=14)\n",
        "    plt.legend(fontsize=10)\n",
        "    plt.grid(True, linestyle=':', alpha=0.7)\n",
        "    plt.show()\n"
      ],
      "metadata": {
        "id": "SeTbUqsBUW6x"
      },
      "execution_count": 61,
      "outputs": []
    },
    {
      "cell_type": "code",
      "execution_count": 62,
      "metadata": {
        "id": "ax1r3erkVmm7",
        "colab": {
          "base_uri": "https://localhost:8080/",
          "height": 716
        },
        "outputId": "374cdddd-f149-4417-cd8d-03d489dfcf94"
      },
      "outputs": [
        {
          "output_type": "stream",
          "name": "stdout",
          "text": [
            "\n",
            "--- Starting Applicability Domain (AD) Analysis ---\n",
            "Using the same model that was (or was intended for) SHAP analysis.\n",
            "Extracting features for AD training set...\n",
            "Extracting features for AD test set...\n",
            "Evaluating AD...\n",
            "AD training-set in-domain: 99.1%\n",
            "AD test-set in-domain: 98.7%\n"
          ]
        },
        {
          "output_type": "display_data",
          "data": {
            "text/plain": [
              "<Figure size 800x600 with 1 Axes>"
            ],
            "image/png": "[encoded data removed]"
          },
          "metadata": {}
        }
      ],
      "source": [
        "# APPLICABILITY DOMAIN (AD) ANALYSIS\n",
        "# ==================================\n",
        "if 'model_to_analyze_with_shap' in locals() and model_to_analyze_with_shap is not None:\n",
        "    print(\"\\n--- Starting Applicability Domain (AD) Analysis ---\")\n",
        "    print(\"Using the same model that was (or was intended for) SHAP analysis.\")\n",
        "\n",
        "    # Ensure 'train_df' and 'test_df' are your pandas DataFrames with the necessary columns\n",
        "    # Ensure 'tokenizer', 'route_encoder', 'matrix_encoder' are defined and are the correct fitted instances\n",
        "\n",
        "    device_ad = next(model_to_analyze_with_shap.parameters()).device\n",
        "\n",
        "    print(\"Extracting features for AD training set...\")\n",
        "    X_tr_ad, y_tr_ad, yp_tr_ad = extract_features_and_preds(\n",
        "        model_to_analyze_with_shap, train_df, tokenizer, route_encoder, matrix_encoder, device_ad\n",
        "    )\n",
        "    print(\"Extracting features for AD test set...\")\n",
        "    X_te_ad, y_te_ad, yp_te_ad = extract_features_and_preds(\n",
        "        model_to_analyze_with_shap, test_df,  tokenizer, route_encoder, matrix_encoder, device_ad\n",
        "    )\n",
        "\n",
        "    print(\"Evaluating AD...\")\n",
        "    # Now eval_ad should be defined\n",
        "    AD_tr_percent, AD_te_percent, s_tr_ad, s_te_ad, lev_tr_ad, lev_te_ad, h_star_ad = eval_ad(\n",
        "        X_tr_ad, X_te_ad, y_tr_ad, y_te_ad, yp_tr_ad, yp_te_ad\n",
        "    )\n",
        "\n",
        "    print(f\"AD training-set in-domain: {AD_tr_percent:.1f}%\")\n",
        "    print(f\"AD test-set in-domain: {AD_te_percent:.1f}%\")\n",
        "\n",
        "    # Now plot_williams should be defined\n",
        "    plot_williams(lev_tr_ad, s_tr_ad, lev_te_ad, s_te_ad, h_star_ad)\n",
        "else:\n",
        "    print(\"Error: No model available for Applicability Domain analysis (expected 'model_to_analyze_with_shap').\")\n",
        "\n"
      ]
    }
  ],
  "metadata": {
    "colab": {
      "gpuType": "A100",
      "machine_shape": "hm",
      "provenance": []
    },
    "kernelspec": {
      "display_name": "Python 3",
      "name": "python3"
    },
    "language_info": {
      "name": "python"
    },
    "accelerator": "GPU",
    "widgets": {
      "application/vnd.jupyter.widget-state+json": {
        "59e744188b5d48ac85e721e74ef6ce1f": {
          "model_module": "@jupyter-widgets/controls",
          "model_name": "HBoxModel",
          "model_module_version": "1.5.0",
          "state": {
            "_dom_classes": [],
            "_model_module": "@jupyter-widgets/controls",
            "_model_module_version": "1.5.0",
            "_model_name": "HBoxModel",
            "_view_count": null,
            "_view_module": "@jupyter-widgets/controls",
            "_view_module_version": "1.5.0",
            "_view_name": "HBoxView",
            "box_style": "",
            "children": [
              "IPY_MODEL_885f77646b6848c7a80a82b9ba325970",
              "IPY_MODEL_40a5c4f3b30c46b5b167a130dafcbbd9",
              "IPY_MODEL_31aca850c9c54b34a9680ad941e548b2"
            ],
            "layout": "IPY_MODEL_47f3ddb8daae4d9c98427ff74e5bb7cb"
          }
        },
        "885f77646b6848c7a80a82b9ba325970": {
          "model_module": "@jupyter-widgets/controls",
          "model_name": "HTMLModel",
          "model_module_version": "1.5.0",
          "state": {
            "_dom_classes": [],
            "_model_module": "@jupyter-widgets/controls",
            "_model_module_version": "1.5.0",
            "_model_name": "HTMLModel",
            "_view_count": null,
            "_view_module": "@jupyter-widgets/controls",
            "_view_module_version": "1.5.0",
            "_view_name": "HTMLView",
            "description": "",
            "description_tooltip": null,
            "layout": "IPY_MODEL_371346550c9242cda4e3a7a6eb3b6fdc",
            "placeholder": "​",
            "style": "IPY_MODEL_f0effa8ffbb14a659f2329d48fdd5d0d",
            "value": "tokenizer_config.json: 100%"
          }
        },
        "40a5c4f3b30c46b5b167a130dafcbbd9": {
          "model_module": "@jupyter-widgets/controls",
          "model_name": "FloatProgressModel",
          "model_module_version": "1.5.0",
          "state": {
            "_dom_classes": [],
            "_model_module": "@jupyter-widgets/controls",
            "_model_module_version": "1.5.0",
            "_model_name": "FloatProgressModel",
            "_view_count": null,
            "_view_module": "@jupyter-widgets/controls",
            "_view_module_version": "1.5.0",
            "_view_name": "ProgressView",
            "bar_style": "success",
            "description": "",
            "description_tooltip": null,
            "layout": "IPY_MODEL_4e55ce72157644749b17ad0eb8401737",
            "max": 1271,
            "min": 0,
            "orientation": "horizontal",
            "style": "IPY_MODEL_c3f89dd402b14625ad1e3ce8d73b9d9c",
            "value": 1271
          }
        },
        "31aca850c9c54b34a9680ad941e548b2": {
          "model_module": "@jupyter-widgets/controls",
          "model_name": "HTMLModel",
          "model_module_version": "1.5.0",
          "state": {
            "_dom_classes": [],
            "_model_module": "@jupyter-widgets/controls",
            "_model_module_version": "1.5.0",
            "_model_name": "HTMLModel",
            "_view_count": null,
            "_view_module": "@jupyter-widgets/controls",
            "_view_module_version": "1.5.0",
            "_view_name": "HTMLView",
            "description": "",
            "description_tooltip": null,
            "layout": "IPY_MODEL_994526c18ced46098348d2c07c400e83",
            "placeholder": "​",
            "style": "IPY_MODEL_a23843660ce042f8bcfc372d998c555c",
            "value": " 1.27k/1.27k [00:00&lt;00:00, 148kB/s]"
          }
        },
        "47f3ddb8daae4d9c98427ff74e5bb7cb": {
          "model_module": "@jupyter-widgets/base",
          "model_name": "LayoutModel",
          "model_module_version": "1.2.0",
          "state": {
            "_model_module": "@jupyter-widgets/base",
            "_model_module_version": "1.2.0",
            "_model_name": "LayoutModel",
            "_view_count": null,
            "_view_module": "@jupyter-widgets/base",
            "_view_module_version": "1.2.0",
            "_view_name": "LayoutView",
            "align_content": null,
            "align_items": null,
            "align_self": null,
            "border": null,
            "bottom": null,
            "display": null,
            "flex": null,
            "flex_flow": null,
            "grid_area": null,
            "grid_auto_columns": null,
            "grid_auto_flow": null,
            "grid_auto_rows": null,
            "grid_column": null,
            "grid_gap": null,
            "grid_row": null,
            "grid_template_areas": null,
            "grid_template_columns": null,
            "grid_template_rows": null,
            "height": null,
            "justify_content": null,
            "justify_items": null,
            "left": null,
            "margin": null,
            "max_height": null,
            "max_width": null,
            "min_height": null,
            "min_width": null,
            "object_fit": null,
            "object_position": null,
            "order": null,
            "overflow": null,
            "overflow_x": null,
            "overflow_y": null,
            "padding": null,
            "right": null,
            "top": null,
            "visibility": null,
            "width": null
          }
        },
        "371346550c9242cda4e3a7a6eb3b6fdc": {
          "model_module": "@jupyter-widgets/base",
          "model_name": "LayoutModel",
          "model_module_version": "1.2.0",
          "state": {
            "_model_module": "@jupyter-widgets/base",
            "_model_module_version": "1.2.0",
            "_model_name": "LayoutModel",
            "_view_count": null,
            "_view_module": "@jupyter-widgets/base",
            "_view_module_version": "1.2.0",
            "_view_name": "LayoutView",
            "align_content": null,
            "align_items": null,
            "align_self": null,
            "border": null,
            "bottom": null,
            "display": null,
            "flex": null,
            "flex_flow": null,
            "grid_area": null,
            "grid_auto_columns": null,
            "grid_auto_flow": null,
            "grid_auto_rows": null,
            "grid_column": null,
            "grid_gap": null,
            "grid_row": null,
            "grid_template_areas": null,
            "grid_template_columns": null,
            "grid_template_rows": null,
            "height": null,
            "justify_content": null,
            "justify_items": null,
            "left": null,
            "margin": null,
            "max_height": null,
            "max_width": null,
            "min_height": null,
            "min_width": null,
            "object_fit": null,
            "object_position": null,
            "order": null,
            "overflow": null,
            "overflow_x": null,
            "overflow_y": null,
            "padding": null,
            "right": null,
            "top": null,
            "visibility": null,
            "width": null
          }
        },
        "f0effa8ffbb14a659f2329d48fdd5d0d": {
          "model_module": "@jupyter-widgets/controls",
          "model_name": "DescriptionStyleModel",
          "model_module_version": "1.5.0",
          "state": {
            "_model_module": "@jupyter-widgets/controls",
            "_model_module_version": "1.5.0",
            "_model_name": "DescriptionStyleModel",
            "_view_count": null,
            "_view_module": "@jupyter-widgets/base",
            "_view_module_version": "1.2.0",
            "_view_name": "StyleView",
            "description_width": ""
          }
        },
        "4e55ce72157644749b17ad0eb8401737": {
          "model_module": "@jupyter-widgets/base",
          "model_name": "LayoutModel",
          "model_module_version": "1.2.0",
          "state": {
            "_model_module": "@jupyter-widgets/base",
            "_model_module_version": "1.2.0",
            "_model_name": "LayoutModel",
            "_view_count": null,
            "_view_module": "@jupyter-widgets/base",
            "_view_module_version": "1.2.0",
            "_view_name": "LayoutView",
            "align_content": null,
            "align_items": null,
            "align_self": null,
            "border": null,
            "bottom": null,
            "display": null,
            "flex": null,
            "flex_flow": null,
            "grid_area": null,
            "grid_auto_columns": null,
            "grid_auto_flow": null,
            "grid_auto_rows": null,
            "grid_column": null,
            "grid_gap": null,
            "grid_row": null,
            "grid_template_areas": null,
            "grid_template_columns": null,
            "grid_template_rows": null,
            "height": null,
            "justify_content": null,
            "justify_items": null,
            "left": null,
            "margin": null,
            "max_height": null,
            "max_width": null,
            "min_height": null,
            "min_width": null,
            "object_fit": null,
            "object_position": null,
            "order": null,
            "overflow": null,
            "overflow_x": null,
            "overflow_y": null,
            "padding": null,
            "right": null,
            "top": null,
            "visibility": null,
            "width": null
          }
        },
        "c3f89dd402b14625ad1e3ce8d73b9d9c": {
          "model_module": "@jupyter-widgets/controls",
          "model_name": "ProgressStyleModel",
          "model_module_version": "1.5.0",
          "state": {
            "_model_module": "@jupyter-widgets/controls",
            "_model_module_version": "1.5.0",
            "_model_name": "ProgressStyleModel",
            "_view_count": null,
            "_view_module": "@jupyter-widgets/base",
            "_view_module_version": "1.2.0",
            "_view_name": "StyleView",
            "bar_color": null,
            "description_width": ""
          }
        },
        "994526c18ced46098348d2c07c400e83": {
          "model_module": "@jupyter-widgets/base",
          "model_name": "LayoutModel",
          "model_module_version": "1.2.0",
          "state": {
            "_model_module": "@jupyter-widgets/base",
            "_model_module_version": "1.2.0",
            "_model_name": "LayoutModel",
            "_view_count": null,
            "_view_module": "@jupyter-widgets/base",
            "_view_module_version": "1.2.0",
            "_view_name": "LayoutView",
            "align_content": null,
            "align_items": null,
            "align_self": null,
            "border": null,
            "bottom": null,
            "display": null,
            "flex": null,
            "flex_flow": null,
            "grid_area": null,
            "grid_auto_columns": null,
            "grid_auto_flow": null,
            "grid_auto_rows": null,
            "grid_column": null,
            "grid_gap": null,
            "grid_row": null,
            "grid_template_areas": null,
            "grid_template_columns": null,
            "grid_template_rows": null,
            "height": null,
            "justify_content": null,
            "justify_items": null,
            "left": null,
            "margin": null,
            "max_height": null,
            "max_width": null,
            "min_height": null,
            "min_width": null,
            "object_fit": null,
            "object_position": null,
            "order": null,
            "overflow": null,
            "overflow_x": null,
            "overflow_y": null,
            "padding": null,
            "right": null,
            "top": null,
            "visibility": null,
            "width": null
          }
        },
        "a23843660ce042f8bcfc372d998c555c": {
          "model_module": "@jupyter-widgets/controls",
          "model_name": "DescriptionStyleModel",
          "model_module_version": "1.5.0",
          "state": {
            "_model_module": "@jupyter-widgets/controls",
            "_model_module_version": "1.5.0",
            "_model_name": "DescriptionStyleModel",
            "_view_count": null,
            "_view_module": "@jupyter-widgets/base",
            "_view_module_version": "1.2.0",
            "_view_name": "StyleView",
            "description_width": ""
          }
        },
        "99e6c8f18d9c404ea638d3cf8d70faa6": {
          "model_module": "@jupyter-widgets/controls",
          "model_name": "HBoxModel",
          "model_module_version": "1.5.0",
          "state": {
            "_dom_classes": [],
            "_model_module": "@jupyter-widgets/controls",
            "_model_module_version": "1.5.0",
            "_model_name": "HBoxModel",
            "_view_count": null,
            "_view_module": "@jupyter-widgets/controls",
            "_view_module_version": "1.5.0",
            "_view_name": "HBoxView",
            "box_style": "",
            "children": [
              "IPY_MODEL_44d37ccd1cde46608d5050e18bd31f9b",
              "IPY_MODEL_c420fca0dfef414daf096dbe4bc0ef80",
              "IPY_MODEL_48fa701691e24277850d6db9d9fd4ad8"
            ],
            "layout": "IPY_MODEL_ee0df70fb5d14e2f8b36c612cc0fc369"
          }
        },
        "44d37ccd1cde46608d5050e18bd31f9b": {
          "model_module": "@jupyter-widgets/controls",
          "model_name": "HTMLModel",
          "model_module_version": "1.5.0",
          "state": {
            "_dom_classes": [],
            "_model_module": "@jupyter-widgets/controls",
            "_model_module_version": "1.5.0",
            "_model_name": "HTMLModel",
            "_view_count": null,
            "_view_module": "@jupyter-widgets/controls",
            "_view_module_version": "1.5.0",
            "_view_name": "HTMLView",
            "description": "",
            "description_tooltip": null,
            "layout": "IPY_MODEL_26be5d99d7a446cea43ab1ccb07d7f72",
            "placeholder": "​",
            "style": "IPY_MODEL_daabea346df54fb781fb77373c74481d",
            "value": "config.json: 100%"
          }
        },
        "c420fca0dfef414daf096dbe4bc0ef80": {
          "model_module": "@jupyter-widgets/controls",
          "model_name": "FloatProgressModel",
          "model_module_version": "1.5.0",
          "state": {
            "_dom_classes": [],
            "_model_module": "@jupyter-widgets/controls",
            "_model_module_version": "1.5.0",
            "_model_name": "FloatProgressModel",
            "_view_count": null,
            "_view_module": "@jupyter-widgets/controls",
            "_view_module_version": "1.5.0",
            "_view_name": "ProgressView",
            "bar_style": "success",
            "description": "",
            "description_tooltip": null,
            "layout": "IPY_MODEL_418b446fc1df48378d80867a381f040e",
            "max": 17669,
            "min": 0,
            "orientation": "horizontal",
            "style": "IPY_MODEL_966681bae3ee47c38584546204b4e9dd",
            "value": 17669
          }
        },
        "48fa701691e24277850d6db9d9fd4ad8": {
          "model_module": "@jupyter-widgets/controls",
          "model_name": "HTMLModel",
          "model_module_version": "1.5.0",
          "state": {
            "_dom_classes": [],
            "_model_module": "@jupyter-widgets/controls",
            "_model_module_version": "1.5.0",
            "_model_name": "HTMLModel",
            "_view_count": null,
            "_view_module": "@jupyter-widgets/controls",
            "_view_module_version": "1.5.0",
            "_view_name": "HTMLView",
            "description": "",
            "description_tooltip": null,
            "layout": "IPY_MODEL_07313f7b57b54c269173e6d872a01871",
            "placeholder": "​",
            "style": "IPY_MODEL_9775ca88ed20488a95fed82708cecd57",
            "value": " 17.7k/17.7k [00:00&lt;00:00, 2.12MB/s]"
          }
        },
        "ee0df70fb5d14e2f8b36c612cc0fc369": {
          "model_module": "@jupyter-widgets/base",
          "model_name": "LayoutModel",
          "model_module_version": "1.2.0",
          "state": {
            "_model_module": "@jupyter-widgets/base",
            "_model_module_version": "1.2.0",
            "_model_name": "LayoutModel",
            "_view_count": null,
            "_view_module": "@jupyter-widgets/base",
            "_view_module_version": "1.2.0",
            "_view_name": "LayoutView",
            "align_content": null,
            "align_items": null,
            "align_self": null,
            "border": null,
            "bottom": null,
            "display": null,
            "flex": null,
            "flex_flow": null,
            "grid_area": null,
            "grid_auto_columns": null,
            "grid_auto_flow": null,
            "grid_auto_rows": null,
            "grid_column": null,
            "grid_gap": null,
            "grid_row": null,
            "grid_template_areas": null,
            "grid_template_columns": null,
            "grid_template_rows": null,
            "height": null,
            "justify_content": null,
            "justify_items": null,
            "left": null,
            "margin": null,
            "max_height": null,
            "max_width": null,
            "min_height": null,
            "min_width": null,
            "object_fit": null,
            "object_position": null,
            "order": null,
            "overflow": null,
            "overflow_x": null,
            "overflow_y": null,
            "padding": null,
            "right": null,
            "top": null,
            "visibility": null,
            "width": null
          }
        },
        "26be5d99d7a446cea43ab1ccb07d7f72": {
          "model_module": "@jupyter-widgets/base",
          "model_name": "LayoutModel",
          "model_module_version": "1.2.0",
          "state": {
            "_model_module": "@jupyter-widgets/base",
            "_model_module_version": "1.2.0",
            "_model_name": "LayoutModel",
            "_view_count": null,
            "_view_module": "@jupyter-widgets/base",
            "_view_module_version": "1.2.0",
            "_view_name": "LayoutView",
            "align_content": null,
            "align_items": null,
            "align_self": null,
            "border": null,
            "bottom": null,
            "display": null,
            "flex": null,
            "flex_flow": null,
            "grid_area": null,
            "grid_auto_columns": null,
            "grid_auto_flow": null,
            "grid_auto_rows": null,
            "grid_column": null,
            "grid_gap": null,
            "grid_row": null,
            "grid_template_areas": null,
            "grid_template_columns": null,
            "grid_template_rows": null,
            "height": null,
            "justify_content": null,
            "justify_items": null,
            "left": null,
            "margin": null,
            "max_height": null,
            "max_width": null,
            "min_height": null,
            "min_width": null,
            "object_fit": null,
            "object_position": null,
            "order": null,
            "overflow": null,
            "overflow_x": null,
            "overflow_y": null,
            "padding": null,
            "right": null,
            "top": null,
            "visibility": null,
            "width": null
          }
        },
        "daabea346df54fb781fb77373c74481d": {
          "model_module": "@jupyter-widgets/controls",
          "model_name": "DescriptionStyleModel",
          "model_module_version": "1.5.0",
          "state": {
            "_model_module": "@jupyter-widgets/controls",
            "_model_module_version": "1.5.0",
            "_model_name": "DescriptionStyleModel",
            "_view_count": null,
            "_view_module": "@jupyter-widgets/base",
            "_view_module_version": "1.2.0",
            "_view_name": "StyleView",
            "description_width": ""
          }
        },
        "418b446fc1df48378d80867a381f040e": {
          "model_module": "@jupyter-widgets/base",
          "model_name": "LayoutModel",
          "model_module_version": "1.2.0",
          "state": {
            "_model_module": "@jupyter-widgets/base",
            "_model_module_version": "1.2.0",
            "_model_name": "LayoutModel",
            "_view_count": null,
            "_view_module": "@jupyter-widgets/base",
            "_view_module_version": "1.2.0",
            "_view_name": "LayoutView",
            "align_content": null,
            "align_items": null,
            "align_self": null,
            "border": null,
            "bottom": null,
            "display": null,
            "flex": null,
            "flex_flow": null,
            "grid_area": null,
            "grid_auto_columns": null,
            "grid_auto_flow": null,
            "grid_auto_rows": null,
            "grid_column": null,
            "grid_gap": null,
            "grid_row": null,
            "grid_template_areas": null,
            "grid_template_columns": null,
            "grid_template_rows": null,
            "height": null,
            "justify_content": null,
            "justify_items": null,
            "left": null,
            "margin": null,
            "max_height": null,
            "max_width": null,
            "min_height": null,
            "min_width": null,
            "object_fit": null,
            "object_position": null,
            "order": null,
            "overflow": null,
            "overflow_x": null,
            "overflow_y": null,
            "padding": null,
            "right": null,
            "top": null,
            "visibility": null,
            "width": null
          }
        },
        "966681bae3ee47c38584546204b4e9dd": {
          "model_module": "@jupyter-widgets/controls",
          "model_name": "ProgressStyleModel",
          "model_module_version": "1.5.0",
          "state": {
            "_model_module": "@jupyter-widgets/controls",
            "_model_module_version": "1.5.0",
            "_model_name": "ProgressStyleModel",
            "_view_count": null,
            "_view_module": "@jupyter-widgets/base",
            "_view_module_version": "1.2.0",
            "_view_name": "StyleView",
            "bar_color": null,
            "description_width": ""
          }
        },
        "07313f7b57b54c269173e6d872a01871": {
          "model_module": "@jupyter-widgets/base",
          "model_name": "LayoutModel",
          "model_module_version": "1.2.0",
          "state": {
            "_model_module": "@jupyter-widgets/base",
            "_model_module_version": "1.2.0",
            "_model_name": "LayoutModel",
            "_view_count": null,
            "_view_module": "@jupyter-widgets/base",
            "_view_module_version": "1.2.0",
            "_view_name": "LayoutView",
            "align_content": null,
            "align_items": null,
            "align_self": null,
            "border": null,
            "bottom": null,
            "display": null,
            "flex": null,
            "flex_flow": null,
            "grid_area": null,
            "grid_auto_columns": null,
            "grid_auto_flow": null,
            "grid_auto_rows": null,
            "grid_column": null,
            "grid_gap": null,
            "grid_row": null,
            "grid_template_areas": null,
            "grid_template_columns": null,
            "grid_template_rows": null,
            "height": null,
            "justify_content": null,
            "justify_items": null,
            "left": null,
            "margin": null,
            "max_height": null,
            "max_width": null,
            "min_height": null,
            "min_width": null,
            "object_fit": null,
            "object_position": null,
            "order": null,
            "overflow": null,
            "overflow_x": null,
            "overflow_y": null,
            "padding": null,
            "right": null,
            "top": null,
            "visibility": null,
            "width": null
          }
        },
        "9775ca88ed20488a95fed82708cecd57": {
          "model_module": "@jupyter-widgets/controls",
          "model_name": "DescriptionStyleModel",
          "model_module_version": "1.5.0",
          "state": {
            "_model_module": "@jupyter-widgets/controls",
            "_model_module_version": "1.5.0",
            "_model_name": "DescriptionStyleModel",
            "_view_count": null,
            "_view_module": "@jupyter-widgets/base",
            "_view_module_version": "1.2.0",
            "_view_name": "StyleView",
            "description_width": ""
          }
        },
        "54258160e9714c92bc9a8ccbc3f5126a": {
          "model_module": "@jupyter-widgets/controls",
          "model_name": "HBoxModel",
          "model_module_version": "1.5.0",
          "state": {
            "_dom_classes": [],
            "_model_module": "@jupyter-widgets/controls",
            "_model_module_version": "1.5.0",
            "_model_name": "HBoxModel",
            "_view_count": null,
            "_view_module": "@jupyter-widgets/controls",
            "_view_module_version": "1.5.0",
            "_view_name": "HBoxView",
            "box_style": "",
            "children": [
              "IPY_MODEL_dc137034eee74643a3ce462025e910a0",
              "IPY_MODEL_39f33dba8b1b4330b458949b6567a6dc",
              "IPY_MODEL_bce74424aeca4927acc1fba2ee4d15ab"
            ],
            "layout": "IPY_MODEL_cd4675f7994c48f9a05e18201130e501"
          }
        },
        "dc137034eee74643a3ce462025e910a0": {
          "model_module": "@jupyter-widgets/controls",
          "model_name": "HTMLModel",
          "model_module_version": "1.5.0",
          "state": {
            "_dom_classes": [],
            "_model_module": "@jupyter-widgets/controls",
            "_model_module_version": "1.5.0",
            "_model_name": "HTMLModel",
            "_view_count": null,
            "_view_module": "@jupyter-widgets/controls",
            "_view_module_version": "1.5.0",
            "_view_name": "HTMLView",
            "description": "",
            "description_tooltip": null,
            "layout": "IPY_MODEL_1bc9a7bdb7554529b4d8ea580abf9e35",
            "placeholder": "​",
            "style": "IPY_MODEL_c0b46e971b9442b6af90ac381eef9981",
            "value": "vocab.json: 100%"
          }
        },
        "39f33dba8b1b4330b458949b6567a6dc": {
          "model_module": "@jupyter-widgets/controls",
          "model_name": "FloatProgressModel",
          "model_module_version": "1.5.0",
          "state": {
            "_dom_classes": [],
            "_model_module": "@jupyter-widgets/controls",
            "_model_module_version": "1.5.0",
            "_model_name": "FloatProgressModel",
            "_view_count": null,
            "_view_module": "@jupyter-widgets/controls",
            "_view_module_version": "1.5.0",
            "_view_name": "ProgressView",
            "bar_style": "success",
            "description": "",
            "description_tooltip": null,
            "layout": "IPY_MODEL_dfe21896f2e248838af053587694564e",
            "max": 6963,
            "min": 0,
            "orientation": "horizontal",
            "style": "IPY_MODEL_4d9a0d5c85414558896ab208af76057c",
            "value": 6963
          }
        },
        "bce74424aeca4927acc1fba2ee4d15ab": {
          "model_module": "@jupyter-widgets/controls",
          "model_name": "HTMLModel",
          "model_module_version": "1.5.0",
          "state": {
            "_dom_classes": [],
            "_model_module": "@jupyter-widgets/controls",
            "_model_module_version": "1.5.0",
            "_model_name": "HTMLModel",
            "_view_count": null,
            "_view_module": "@jupyter-widgets/controls",
            "_view_module_version": "1.5.0",
            "_view_name": "HTMLView",
            "description": "",
            "description_tooltip": null,
            "layout": "IPY_MODEL_616d1334623645d9a854173a7ddbdf38",
            "placeholder": "​",
            "style": "IPY_MODEL_c67b387d40084bfeb1ebf20a94addf58",
            "value": " 6.96k/6.96k [00:00&lt;00:00, 909kB/s]"
          }
        },
        "cd4675f7994c48f9a05e18201130e501": {
          "model_module": "@jupyter-widgets/base",
          "model_name": "LayoutModel",
          "model_module_version": "1.2.0",
          "state": {
            "_model_module": "@jupyter-widgets/base",
            "_model_module_version": "1.2.0",
            "_model_name": "LayoutModel",
            "_view_count": null,
            "_view_module": "@jupyter-widgets/base",
            "_view_module_version": "1.2.0",
            "_view_name": "LayoutView",
            "align_content": null,
            "align_items": null,
            "align_self": null,
            "border": null,
            "bottom": null,
            "display": null,
            "flex": null,
            "flex_flow": null,
            "grid_area": null,
            "grid_auto_columns": null,
            "grid_auto_flow": null,
            "grid_auto_rows": null,
            "grid_column": null,
            "grid_gap": null,
            "grid_row": null,
            "grid_template_areas": null,
            "grid_template_columns": null,
            "grid_template_rows": null,
            "height": null,
            "justify_content": null,
            "justify_items": null,
            "left": null,
            "margin": null,
            "max_height": null,
            "max_width": null,
            "min_height": null,
            "min_width": null,
            "object_fit": null,
            "object_position": null,
            "order": null,
            "overflow": null,
            "overflow_x": null,
            "overflow_y": null,
            "padding": null,
            "right": null,
            "top": null,
            "visibility": null,
            "width": null
          }
        },
        "1bc9a7bdb7554529b4d8ea580abf9e35": {
          "model_module": "@jupyter-widgets/base",
          "model_name": "LayoutModel",
          "model_module_version": "1.2.0",
          "state": {
            "_model_module": "@jupyter-widgets/base",
            "_model_module_version": "1.2.0",
            "_model_name": "LayoutModel",
            "_view_count": null,
            "_view_module": "@jupyter-widgets/base",
            "_view_module_version": "1.2.0",
            "_view_name": "LayoutView",
            "align_content": null,
            "align_items": null,
            "align_self": null,
            "border": null,
            "bottom": null,
            "display": null,
            "flex": null,
            "flex_flow": null,
            "grid_area": null,
            "grid_auto_columns": null,
            "grid_auto_flow": null,
            "grid_auto_rows": null,
            "grid_column": null,
            "grid_gap": null,
            "grid_row": null,
            "grid_template_areas": null,
            "grid_template_columns": null,
            "grid_template_rows": null,
            "height": null,
            "justify_content": null,
            "justify_items": null,
            "left": null,
            "margin": null,
            "max_height": null,
            "max_width": null,
            "min_height": null,
            "min_width": null,
            "object_fit": null,
            "object_position": null,
            "order": null,
            "overflow": null,
            "overflow_x": null,
            "overflow_y": null,
            "padding": null,
            "right": null,
            "top": null,
            "visibility": null,
            "width": null
          }
        },
        "c0b46e971b9442b6af90ac381eef9981": {
          "model_module": "@jupyter-widgets/controls",
          "model_name": "DescriptionStyleModel",
          "model_module_version": "1.5.0",
          "state": {
            "_model_module": "@jupyter-widgets/controls",
            "_model_module_version": "1.5.0",
            "_model_name": "DescriptionStyleModel",
            "_view_count": null,
            "_view_module": "@jupyter-widgets/base",
            "_view_module_version": "1.2.0",
            "_view_name": "StyleView",
            "description_width": ""
          }
        },
        "dfe21896f2e248838af053587694564e": {
          "model_module": "@jupyter-widgets/base",
          "model_name": "LayoutModel",
          "model_module_version": "1.2.0",
          "state": {
            "_model_module": "@jupyter-widgets/base",
            "_model_module_version": "1.2.0",
            "_model_name": "LayoutModel",
            "_view_count": null,
            "_view_module": "@jupyter-widgets/base",
            "_view_module_version": "1.2.0",
            "_view_name": "LayoutView",
            "align_content": null,
            "align_items": null,
            "align_self": null,
            "border": null,
            "bottom": null,
            "display": null,
            "flex": null,
            "flex_flow": null,
            "grid_area": null,
            "grid_auto_columns": null,
            "grid_auto_flow": null,
            "grid_auto_rows": null,
            "grid_column": null,
            "grid_gap": null,
            "grid_row": null,
            "grid_template_areas": null,
            "grid_template_columns": null,
            "grid_template_rows": null,
            "height": null,
            "justify_content": null,
            "justify_items": null,
            "left": null,
            "margin": null,
            "max_height": null,
            "max_width": null,
            "min_height": null,
            "min_width": null,
            "object_fit": null,
            "object_position": null,
            "order": null,
            "overflow": null,
            "overflow_x": null,
            "overflow_y": null,
            "padding": null,
            "right": null,
            "top": null,
            "visibility": null,
            "width": null
          }
        },
        "4d9a0d5c85414558896ab208af76057c": {
          "model_module": "@jupyter-widgets/controls",
          "model_name": "ProgressStyleModel",
          "model_module_version": "1.5.0",
          "state": {
            "_model_module": "@jupyter-widgets/controls",
            "_model_module_version": "1.5.0",
            "_model_name": "ProgressStyleModel",
            "_view_count": null,
            "_view_module": "@jupyter-widgets/base",
            "_view_module_version": "1.2.0",
            "_view_name": "StyleView",
            "bar_color": null,
            "description_width": ""
          }
        },
        "616d1334623645d9a854173a7ddbdf38": {
          "model_module": "@jupyter-widgets/base",
          "model_name": "LayoutModel",
          "model_module_version": "1.2.0",
          "state": {
            "_model_module": "@jupyter-widgets/base",
            "_model_module_version": "1.2.0",
            "_model_name": "LayoutModel",
            "_view_count": null,
            "_view_module": "@jupyter-widgets/base",
            "_view_module_version": "1.2.0",
            "_view_name": "LayoutView",
            "align_content": null,
            "align_items": null,
            "align_self": null,
            "border": null,
            "bottom": null,
            "display": null,
            "flex": null,
            "flex_flow": null,
            "grid_area": null,
            "grid_auto_columns": null,
            "grid_auto_flow": null,
            "grid_auto_rows": null,
            "grid_column": null,
            "grid_gap": null,
            "grid_row": null,
            "grid_template_areas": null,
            "grid_template_columns": null,
            "grid_template_rows": null,
            "height": null,
            "justify_content": null,
            "justify_items": null,
            "left": null,
            "margin": null,
            "max_height": null,
            "max_width": null,
            "min_height": null,
            "min_width": null,
            "object_fit": null,
            "object_position": null,
            "order": null,
            "overflow": null,
            "overflow_x": null,
            "overflow_y": null,
            "padding": null,
            "right": null,
            "top": null,
            "visibility": null,
            "width": null
          }
        },
        "c67b387d40084bfeb1ebf20a94addf58": {
          "model_module": "@jupyter-widgets/controls",
          "model_name": "DescriptionStyleModel",
          "model_module_version": "1.5.0",
          "state": {
            "_model_module": "@jupyter-widgets/controls",
            "_model_module_version": "1.5.0",
            "_model_name": "DescriptionStyleModel",
            "_view_count": null,
            "_view_module": "@jupyter-widgets/base",
            "_view_module_version": "1.2.0",
            "_view_name": "StyleView",
            "description_width": ""
          }
        },
        "8f29db98ddda47ce8a0da9e9edd8b74f": {
          "model_module": "@jupyter-widgets/controls",
          "model_name": "HBoxModel",
          "model_module_version": "1.5.0",
          "state": {
            "_dom_classes": [],
            "_model_module": "@jupyter-widgets/controls",
            "_model_module_version": "1.5.0",
            "_model_name": "HBoxModel",
            "_view_count": null,
            "_view_module": "@jupyter-widgets/controls",
            "_view_module_version": "1.5.0",
            "_view_name": "HBoxView",
            "box_style": "",
            "children": [
              "IPY_MODEL_e4e9b492b53948fa87444575831e0785",
              "IPY_MODEL_b768ac1495994332ab7d3cd91966b867",
              "IPY_MODEL_be9187e5cfd24231ba7b82b9eb758117"
            ],
            "layout": "IPY_MODEL_67bc824de19142b3853d9e5239b17f4b"
          }
        },
        "e4e9b492b53948fa87444575831e0785": {
          "model_module": "@jupyter-widgets/controls",
          "model_name": "HTMLModel",
          "model_module_version": "1.5.0",
          "state": {
            "_dom_classes": [],
            "_model_module": "@jupyter-widgets/controls",
            "_model_module_version": "1.5.0",
            "_model_name": "HTMLModel",
            "_view_count": null,
            "_view_module": "@jupyter-widgets/controls",
            "_view_module_version": "1.5.0",
            "_view_name": "HTMLView",
            "description": "",
            "description_tooltip": null,
            "layout": "IPY_MODEL_a9e167efc6ab4ad9b96c2d36ddc15843",
            "placeholder": "​",
            "style": "IPY_MODEL_52b8874890a04ce3b85f3122eb165d61",
            "value": "merges.txt: 100%"
          }
        },
        "b768ac1495994332ab7d3cd91966b867": {
          "model_module": "@jupyter-widgets/controls",
          "model_name": "FloatProgressModel",
          "model_module_version": "1.5.0",
          "state": {
            "_dom_classes": [],
            "_model_module": "@jupyter-widgets/controls",
            "_model_module_version": "1.5.0",
            "_model_name": "FloatProgressModel",
            "_view_count": null,
            "_view_module": "@jupyter-widgets/controls",
            "_view_module_version": "1.5.0",
            "_view_name": "ProgressView",
            "bar_style": "success",
            "description": "",
            "description_tooltip": null,
            "layout": "IPY_MODEL_844a3c1fe1964c46b0ad40f25a1dacf9",
            "max": 52,
            "min": 0,
            "orientation": "horizontal",
            "style": "IPY_MODEL_150d1f3f249a492282a26de485a8ac6f",
            "value": 52
          }
        },
        "be9187e5cfd24231ba7b82b9eb758117": {
          "model_module": "@jupyter-widgets/controls",
          "model_name": "HTMLModel",
          "model_module_version": "1.5.0",
          "state": {
            "_dom_classes": [],
            "_model_module": "@jupyter-widgets/controls",
            "_model_module_version": "1.5.0",
            "_model_name": "HTMLModel",
            "_view_count": null,
            "_view_module": "@jupyter-widgets/controls",
            "_view_module_version": "1.5.0",
            "_view_name": "HTMLView",
            "description": "",
            "description_tooltip": null,
            "layout": "IPY_MODEL_043c23485ce041b29baef7b4dd1c3831",
            "placeholder": "​",
            "style": "IPY_MODEL_c85dad85164b402eabb8cd7f470322f3",
            "value": " 52.0/52.0 [00:00&lt;00:00, 6.81kB/s]"
          }
        },
        "67bc824de19142b3853d9e5239b17f4b": {
          "model_module": "@jupyter-widgets/base",
          "model_name": "LayoutModel",
          "model_module_version": "1.2.0",
          "state": {
            "_model_module": "@jupyter-widgets/base",
            "_model_module_version": "1.2.0",
            "_model_name": "LayoutModel",
            "_view_count": null,
            "_view_module": "@jupyter-widgets/base",
            "_view_module_version": "1.2.0",
            "_view_name": "LayoutView",
            "align_content": null,
            "align_items": null,
            "align_self": null,
            "border": null,
            "bottom": null,
            "display": null,
            "flex": null,
            "flex_flow": null,
            "grid_area": null,
            "grid_auto_columns": null,
            "grid_auto_flow": null,
            "grid_auto_rows": null,
            "grid_column": null,
            "grid_gap": null,
            "grid_row": null,
            "grid_template_areas": null,
            "grid_template_columns": null,
            "grid_template_rows": null,
            "height": null,
            "justify_content": null,
            "justify_items": null,
            "left": null,
            "margin": null,
            "max_height": null,
            "max_width": null,
            "min_height": null,
            "min_width": null,
            "object_fit": null,
            "object_position": null,
            "order": null,
            "overflow": null,
            "overflow_x": null,
            "overflow_y": null,
            "padding": null,
            "right": null,
            "top": null,
            "visibility": null,
            "width": null
          }
        },
        "a9e167efc6ab4ad9b96c2d36ddc15843": {
          "model_module": "@jupyter-widgets/base",
          "model_name": "LayoutModel",
          "model_module_version": "1.2.0",
          "state": {
            "_model_module": "@jupyter-widgets/base",
            "_model_module_version": "1.2.0",
            "_model_name": "LayoutModel",
            "_view_count": null,
            "_view_module": "@jupyter-widgets/base",
            "_view_module_version": "1.2.0",
            "_view_name": "LayoutView",
            "align_content": null,
            "align_items": null,
            "align_self": null,
            "border": null,
            "bottom": null,
            "display": null,
            "flex": null,
            "flex_flow": null,
            "grid_area": null,
            "grid_auto_columns": null,
            "grid_auto_flow": null,
            "grid_auto_rows": null,
            "grid_column": null,
            "grid_gap": null,
            "grid_row": null,
            "grid_template_areas": null,
            "grid_template_columns": null,
            "grid_template_rows": null,
            "height": null,
            "justify_content": null,
            "justify_items": null,
            "left": null,
            "margin": null,
            "max_height": null,
            "max_width": null,
            "min_height": null,
            "min_width": null,
            "object_fit": null,
            "object_position": null,
            "order": null,
            "overflow": null,
            "overflow_x": null,
            "overflow_y": null,
            "padding": null,
            "right": null,
            "top": null,
            "visibility": null,
            "width": null
          }
        },
        "52b8874890a04ce3b85f3122eb165d61": {
          "model_module": "@jupyter-widgets/controls",
          "model_name": "DescriptionStyleModel",
          "model_module_version": "1.5.0",
          "state": {
            "_model_module": "@jupyter-widgets/controls",
            "_model_module_version": "1.5.0",
            "_model_name": "DescriptionStyleModel",
            "_view_count": null,
            "_view_module": "@jupyter-widgets/base",
            "_view_module_version": "1.2.0",
            "_view_name": "StyleView",
            "description_width": ""
          }
        },
        "844a3c1fe1964c46b0ad40f25a1dacf9": {
          "model_module": "@jupyter-widgets/base",
          "model_name": "LayoutModel",
          "model_module_version": "1.2.0",
          "state": {
            "_model_module": "@jupyter-widgets/base",
            "_model_module_version": "1.2.0",
            "_model_name": "LayoutModel",
            "_view_count": null,
            "_view_module": "@jupyter-widgets/base",
            "_view_module_version": "1.2.0",
            "_view_name": "LayoutView",
            "align_content": null,
            "align_items": null,
            "align_self": null,
            "border": null,
            "bottom": null,
            "display": null,
            "flex": null,
            "flex_flow": null,
            "grid_area": null,
            "grid_auto_columns": null,
            "grid_auto_flow": null,
            "grid_auto_rows": null,
            "grid_column": null,
            "grid_gap": null,
            "grid_row": null,
            "grid_template_areas": null,
            "grid_template_columns": null,
            "grid_template_rows": null,
            "height": null,
            "justify_content": null,
            "justify_items": null,
            "left": null,
            "margin": null,
            "max_height": null,
            "max_width": null,
            "min_height": null,
            "min_width": null,
            "object_fit": null,
            "object_position": null,
            "order": null,
            "overflow": null,
            "overflow_x": null,
            "overflow_y": null,
            "padding": null,
            "right": null,
            "top": null,
            "visibility": null,
            "width": null
          }
        },
        "150d1f3f249a492282a26de485a8ac6f": {
          "model_module": "@jupyter-widgets/controls",
          "model_name": "ProgressStyleModel",
          "model_module_version": "1.5.0",
          "state": {
            "_model_module": "@jupyter-widgets/controls",
            "_model_module_version": "1.5.0",
            "_model_name": "ProgressStyleModel",
            "_view_count": null,
            "_view_module": "@jupyter-widgets/base",
            "_view_module_version": "1.2.0",
            "_view_name": "StyleView",
            "bar_color": null,
            "description_width": ""
          }
        },
        "043c23485ce041b29baef7b4dd1c3831": {
          "model_module": "@jupyter-widgets/base",
          "model_name": "LayoutModel",
          "model_module_version": "1.2.0",
          "state": {
            "_model_module": "@jupyter-widgets/base",
            "_model_module_version": "1.2.0",
            "_model_name": "LayoutModel",
            "_view_count": null,
            "_view_module": "@jupyter-widgets/base",
            "_view_module_version": "1.2.0",
            "_view_name": "LayoutView",
            "align_content": null,
            "align_items": null,
            "align_self": null,
            "border": null,
            "bottom": null,
            "display": null,
            "flex": null,
            "flex_flow": null,
            "grid_area": null,
            "grid_auto_columns": null,
            "grid_auto_flow": null,
            "grid_auto_rows": null,
            "grid_column": null,
            "grid_gap": null,
            "grid_row": null,
            "grid_template_areas": null,
            "grid_template_columns": null,
            "grid_template_rows": null,
            "height": null,
            "justify_content": null,
            "justify_items": null,
            "left": null,
            "margin": null,
            "max_height": null,
            "max_width": null,
            "min_height": null,
            "min_width": null,
            "object_fit": null,
            "object_position": null,
            "order": null,
            "overflow": null,
            "overflow_x": null,
            "overflow_y": null,
            "padding": null,
            "right": null,
            "top": null,
            "visibility": null,
            "width": null
          }
        },
        "c85dad85164b402eabb8cd7f470322f3": {
          "model_module": "@jupyter-widgets/controls",
          "model_name": "DescriptionStyleModel",
          "model_module_version": "1.5.0",
          "state": {
            "_model_module": "@jupyter-widgets/controls",
            "_model_module_version": "1.5.0",
            "_model_name": "DescriptionStyleModel",
            "_view_count": null,
            "_view_module": "@jupyter-widgets/base",
            "_view_module_version": "1.2.0",
            "_view_name": "StyleView",
            "description_width": ""
          }
        },
        "121015f9924849c2b3d49d4c30caa29b": {
          "model_module": "@jupyter-widgets/controls",
          "model_name": "HBoxModel",
          "model_module_version": "1.5.0",
          "state": {
            "_dom_classes": [],
            "_model_module": "@jupyter-widgets/controls",
            "_model_module_version": "1.5.0",
            "_model_name": "HBoxModel",
            "_view_count": null,
            "_view_module": "@jupyter-widgets/controls",
            "_view_module_version": "1.5.0",
            "_view_name": "HBoxView",
            "box_style": "",
            "children": [
              "IPY_MODEL_556ab479ea7248d6a917eb716ed81631",
              "IPY_MODEL_fd885c8d44514b4eb9a7caaadbffe83f",
              "IPY_MODEL_8cbfa3fe6503497e9e169f7324b79326"
            ],
            "layout": "IPY_MODEL_8e5f256b960a4cb2a695718a49d77e24"
          }
        },
        "556ab479ea7248d6a917eb716ed81631": {
          "model_module": "@jupyter-widgets/controls",
          "model_name": "HTMLModel",
          "model_module_version": "1.5.0",
          "state": {
            "_dom_classes": [],
            "_model_module": "@jupyter-widgets/controls",
            "_model_module_version": "1.5.0",
            "_model_name": "HTMLModel",
            "_view_count": null,
            "_view_module": "@jupyter-widgets/controls",
            "_view_module_version": "1.5.0",
            "_view_name": "HTMLView",
            "description": "",
            "description_tooltip": null,
            "layout": "IPY_MODEL_5e8f77e305b14e788bbc76662fc40085",
            "placeholder": "​",
            "style": "IPY_MODEL_f177f5fd5c44408f8235b10c8ac6b0fb",
            "value": "tokenizer.json: 100%"
          }
        },
        "fd885c8d44514b4eb9a7caaadbffe83f": {
          "model_module": "@jupyter-widgets/controls",
          "model_name": "FloatProgressModel",
          "model_module_version": "1.5.0",
          "state": {
            "_dom_classes": [],
            "_model_module": "@jupyter-widgets/controls",
            "_model_module_version": "1.5.0",
            "_model_name": "FloatProgressModel",
            "_view_count": null,
            "_view_module": "@jupyter-widgets/controls",
            "_view_module_version": "1.5.0",
            "_view_name": "ProgressView",
            "bar_style": "success",
            "description": "",
            "description_tooltip": null,
            "layout": "IPY_MODEL_d8d53ce82d38495e822e46a63089c01d",
            "max": 8262,
            "min": 0,
            "orientation": "horizontal",
            "style": "IPY_MODEL_5635eb54f5024a4aaeffb2aaec85197a",
            "value": 8262
          }
        },
        "8cbfa3fe6503497e9e169f7324b79326": {
          "model_module": "@jupyter-widgets/controls",
          "model_name": "HTMLModel",
          "model_module_version": "1.5.0",
          "state": {
            "_dom_classes": [],
            "_model_module": "@jupyter-widgets/controls",
            "_model_module_version": "1.5.0",
            "_model_name": "HTMLModel",
            "_view_count": null,
            "_view_module": "@jupyter-widgets/controls",
            "_view_module_version": "1.5.0",
            "_view_name": "HTMLView",
            "description": "",
            "description_tooltip": null,
            "layout": "IPY_MODEL_2ee4958f0b3f46399d38822b0c8a5f67",
            "placeholder": "​",
            "style": "IPY_MODEL_c3bba6bb04bd43c794af84f10dce0ecd",
            "value": " 8.26k/8.26k [00:00&lt;00:00, 1.14MB/s]"
          }
        },
        "8e5f256b960a4cb2a695718a49d77e24": {
          "model_module": "@jupyter-widgets/base",
          "model_name": "LayoutModel",
          "model_module_version": "1.2.0",
          "state": {
            "_model_module": "@jupyter-widgets/base",
            "_model_module_version": "1.2.0",
            "_model_name": "LayoutModel",
            "_view_count": null,
            "_view_module": "@jupyter-widgets/base",
            "_view_module_version": "1.2.0",
            "_view_name": "LayoutView",
            "align_content": null,
            "align_items": null,
            "align_self": null,
            "border": null,
            "bottom": null,
            "display": null,
            "flex": null,
            "flex_flow": null,
            "grid_area": null,
            "grid_auto_columns": null,
            "grid_auto_flow": null,
            "grid_auto_rows": null,
            "grid_column": null,
            "grid_gap": null,
            "grid_row": null,
            "grid_template_areas": null,
            "grid_template_columns": null,
            "grid_template_rows": null,
            "height": null,
            "justify_content": null,
            "justify_items": null,
            "left": null,
            "margin": null,
            "max_height": null,
            "max_width": null,
            "min_height": null,
            "min_width": null,
            "object_fit": null,
            "object_position": null,
            "order": null,
            "overflow": null,
            "overflow_x": null,
            "overflow_y": null,
            "padding": null,
            "right": null,
            "top": null,
            "visibility": null,
            "width": null
          }
        },
        "5e8f77e305b14e788bbc76662fc40085": {
          "model_module": "@jupyter-widgets/base",
          "model_name": "LayoutModel",
          "model_module_version": "1.2.0",
          "state": {
            "_model_module": "@jupyter-widgets/base",
            "_model_module_version": "1.2.0",
            "_model_name": "LayoutModel",
            "_view_count": null,
            "_view_module": "@jupyter-widgets/base",
            "_view_module_version": "1.2.0",
            "_view_name": "LayoutView",
            "align_content": null,
            "align_items": null,
            "align_self": null,
            "border": null,
            "bottom": null,
            "display": null,
            "flex": null,
            "flex_flow": null,
            "grid_area": null,
            "grid_auto_columns": null,
            "grid_auto_flow": null,
            "grid_auto_rows": null,
            "grid_column": null,
            "grid_gap": null,
            "grid_row": null,
            "grid_template_areas": null,
            "grid_template_columns": null,
            "grid_template_rows": null,
            "height": null,
            "justify_content": null,
            "justify_items": null,
            "left": null,
            "margin": null,
            "max_height": null,
            "max_width": null,
            "min_height": null,
            "min_width": null,
            "object_fit": null,
            "object_position": null,
            "order": null,
            "overflow": null,
            "overflow_x": null,
            "overflow_y": null,
            "padding": null,
            "right": null,
            "top": null,
            "visibility": null,
            "width": null
          }
        },
        "f177f5fd5c44408f8235b10c8ac6b0fb": {
          "model_module": "@jupyter-widgets/controls",
          "model_name": "DescriptionStyleModel",
          "model_module_version": "1.5.0",
          "state": {
            "_model_module": "@jupyter-widgets/controls",
            "_model_module_version": "1.5.0",
            "_model_name": "DescriptionStyleModel",
            "_view_count": null,
            "_view_module": "@jupyter-widgets/base",
            "_view_module_version": "1.2.0",
            "_view_name": "StyleView",
            "description_width": ""
          }
        },
        "d8d53ce82d38495e822e46a63089c01d": {
          "model_module": "@jupyter-widgets/base",
          "model_name": "LayoutModel",
          "model_module_version": "1.2.0",
          "state": {
            "_model_module": "@jupyter-widgets/base",
            "_model_module_version": "1.2.0",
            "_model_name": "LayoutModel",
            "_view_count": null,
            "_view_module": "@jupyter-widgets/base",
            "_view_module_version": "1.2.0",
            "_view_name": "LayoutView",
            "align_content": null,
            "align_items": null,
            "align_self": null,
            "border": null,
            "bottom": null,
            "display": null,
            "flex": null,
            "flex_flow": null,
            "grid_area": null,
            "grid_auto_columns": null,
            "grid_auto_flow": null,
            "grid_auto_rows": null,
            "grid_column": null,
            "grid_gap": null,
            "grid_row": null,
            "grid_template_areas": null,
            "grid_template_columns": null,
            "grid_template_rows": null,
            "height": null,
            "justify_content": null,
            "justify_items": null,
            "left": null,
            "margin": null,
            "max_height": null,
            "max_width": null,
            "min_height": null,
            "min_width": null,
            "object_fit": null,
            "object_position": null,
            "order": null,
            "overflow": null,
            "overflow_x": null,
            "overflow_y": null,
            "padding": null,
            "right": null,
            "top": null,
            "visibility": null,
            "width": null
          }
        },
        "5635eb54f5024a4aaeffb2aaec85197a": {
          "model_module": "@jupyter-widgets/controls",
          "model_name": "ProgressStyleModel",
          "model_module_version": "1.5.0",
          "state": {
            "_model_module": "@jupyter-widgets/controls",
            "_model_module_version": "1.5.0",
            "_model_name": "ProgressStyleModel",
            "_view_count": null,
            "_view_module": "@jupyter-widgets/base",
            "_view_module_version": "1.2.0",
            "_view_name": "StyleView",
            "bar_color": null,
            "description_width": ""
          }
        },
        "2ee4958f0b3f46399d38822b0c8a5f67": {
          "model_module": "@jupyter-widgets/base",
          "model_name": "LayoutModel",
          "model_module_version": "1.2.0",
          "state": {
            "_model_module": "@jupyter-widgets/base",
            "_model_module_version": "1.2.0",
            "_model_name": "LayoutModel",
            "_view_count": null,
            "_view_module": "@jupyter-widgets/base",
            "_view_module_version": "1.2.0",
            "_view_name": "LayoutView",
            "align_content": null,
            "align_items": null,
            "align_self": null,
            "border": null,
            "bottom": null,
            "display": null,
            "flex": null,
            "flex_flow": null,
            "grid_area": null,
            "grid_auto_columns": null,
            "grid_auto_flow": null,
            "grid_auto_rows": null,
            "grid_column": null,
            "grid_gap": null,
            "grid_row": null,
            "grid_template_areas": null,
            "grid_template_columns": null,
            "grid_template_rows": null,
            "height": null,
            "justify_content": null,
            "justify_items": null,
            "left": null,
            "margin": null,
            "max_height": null,
            "max_width": null,
            "min_height": null,
            "min_width": null,
            "object_fit": null,
            "object_position": null,
            "order": null,
            "overflow": null,
            "overflow_x": null,
            "overflow_y": null,
            "padding": null,
            "right": null,
            "top": null,
            "visibility": null,
            "width": null
          }
        },
        "c3bba6bb04bd43c794af84f10dce0ecd": {
          "model_module": "@jupyter-widgets/controls",
          "model_name": "DescriptionStyleModel",
          "model_module_version": "1.5.0",
          "state": {
            "_model_module": "@jupyter-widgets/controls",
            "_model_module_version": "1.5.0",
            "_model_name": "DescriptionStyleModel",
            "_view_count": null,
            "_view_module": "@jupyter-widgets/base",
            "_view_module_version": "1.2.0",
            "_view_name": "StyleView",
            "description_width": ""
          }
        },
        "dd28ecca9c6c40eebee73b3d3b69179d": {
          "model_module": "@jupyter-widgets/controls",
          "model_name": "HBoxModel",
          "model_module_version": "1.5.0",
          "state": {
            "_dom_classes": [],
            "_model_module": "@jupyter-widgets/controls",
            "_model_module_version": "1.5.0",
            "_model_name": "HBoxModel",
            "_view_count": null,
            "_view_module": "@jupyter-widgets/controls",
            "_view_module_version": "1.5.0",
            "_view_name": "HBoxView",
            "box_style": "",
            "children": [
              "IPY_MODEL_2a13abfbe3554c168c071015286b5706",
              "IPY_MODEL_3ec3722ceac84afda576f350a26ebe53",
              "IPY_MODEL_451946c425ca4453ada510c767a1c9da"
            ],
            "layout": "IPY_MODEL_d31ba4da1c9c4a3080eb23ab33f39f9d"
          }
        },
        "2a13abfbe3554c168c071015286b5706": {
          "model_module": "@jupyter-widgets/controls",
          "model_name": "HTMLModel",
          "model_module_version": "1.5.0",
          "state": {
            "_dom_classes": [],
            "_model_module": "@jupyter-widgets/controls",
            "_model_module_version": "1.5.0",
            "_model_name": "HTMLModel",
            "_view_count": null,
            "_view_module": "@jupyter-widgets/controls",
            "_view_module_version": "1.5.0",
            "_view_name": "HTMLView",
            "description": "",
            "description_tooltip": null,
            "layout": "IPY_MODEL_a586e807a6a14474bfa0cf82cf760dd3",
            "placeholder": "​",
            "style": "IPY_MODEL_26ece540e46e4323b16c9c91c23c4f40",
            "value": "added_tokens.json: 100%"
          }
        },
        "3ec3722ceac84afda576f350a26ebe53": {
          "model_module": "@jupyter-widgets/controls",
          "model_name": "FloatProgressModel",
          "model_module_version": "1.5.0",
          "state": {
            "_dom_classes": [],
            "_model_module": "@jupyter-widgets/controls",
            "_model_module_version": "1.5.0",
            "_model_name": "FloatProgressModel",
            "_view_count": null,
            "_view_module": "@jupyter-widgets/controls",
            "_view_module_version": "1.5.0",
            "_view_name": "ProgressView",
            "bar_style": "success",
            "description": "",
            "description_tooltip": null,
            "layout": "IPY_MODEL_a108d7619c384f2db98e5f12b0d6e3a7",
            "max": 25,
            "min": 0,
            "orientation": "horizontal",
            "style": "IPY_MODEL_746dbd4a4cad4e46bec8dd3fba47f532",
            "value": 25
          }
        },
        "451946c425ca4453ada510c767a1c9da": {
          "model_module": "@jupyter-widgets/controls",
          "model_name": "HTMLModel",
          "model_module_version": "1.5.0",
          "state": {
            "_dom_classes": [],
            "_model_module": "@jupyter-widgets/controls",
            "_model_module_version": "1.5.0",
            "_model_name": "HTMLModel",
            "_view_count": null,
            "_view_module": "@jupyter-widgets/controls",
            "_view_module_version": "1.5.0",
            "_view_name": "HTMLView",
            "description": "",
            "description_tooltip": null,
            "layout": "IPY_MODEL_ea0f9c27ed104377a99c6857dca25ef4",
            "placeholder": "​",
            "style": "IPY_MODEL_6f06ebcf2d584ae39289219e9fe425d7",
            "value": " 25.0/25.0 [00:00&lt;00:00, 3.55kB/s]"
          }
        },
        "d31ba4da1c9c4a3080eb23ab33f39f9d": {
          "model_module": "@jupyter-widgets/base",
          "model_name": "LayoutModel",
          "model_module_version": "1.2.0",
          "state": {
            "_model_module": "@jupyter-widgets/base",
            "_model_module_version": "1.2.0",
            "_model_name": "LayoutModel",
            "_view_count": null,
            "_view_module": "@jupyter-widgets/base",
            "_view_module_version": "1.2.0",
            "_view_name": "LayoutView",
            "align_content": null,
            "align_items": null,
            "align_self": null,
            "border": null,
            "bottom": null,
            "display": null,
            "flex": null,
            "flex_flow": null,
            "grid_area": null,
            "grid_auto_columns": null,
            "grid_auto_flow": null,
            "grid_auto_rows": null,
            "grid_column": null,
            "grid_gap": null,
            "grid_row": null,
            "grid_template_areas": null,
            "grid_template_columns": null,
            "grid_template_rows": null,
            "height": null,
            "justify_content": null,
            "justify_items": null,
            "left": null,
            "margin": null,
            "max_height": null,
            "max_width": null,
            "min_height": null,
            "min_width": null,
            "object_fit": null,
            "object_position": null,
            "order": null,
            "overflow": null,
            "overflow_x": null,
            "overflow_y": null,
            "padding": null,
            "right": null,
            "top": null,
            "visibility": null,
            "width": null
          }
        },
        "a586e807a6a14474bfa0cf82cf760dd3": {
          "model_module": "@jupyter-widgets/base",
          "model_name": "LayoutModel",
          "model_module_version": "1.2.0",
          "state": {
            "_model_module": "@jupyter-widgets/base",
            "_model_module_version": "1.2.0",
            "_model_name": "LayoutModel",
            "_view_count": null,
            "_view_module": "@jupyter-widgets/base",
            "_view_module_version": "1.2.0",
            "_view_name": "LayoutView",
            "align_content": null,
            "align_items": null,
            "align_self": null,
            "border": null,
            "bottom": null,
            "display": null,
            "flex": null,
            "flex_flow": null,
            "grid_area": null,
            "grid_auto_columns": null,
            "grid_auto_flow": null,
            "grid_auto_rows": null,
            "grid_column": null,
            "grid_gap": null,
            "grid_row": null,
            "grid_template_areas": null,
            "grid_template_columns": null,
            "grid_template_rows": null,
            "height": null,
            "justify_content": null,
            "justify_items": null,
            "left": null,
            "margin": null,
            "max_height": null,
            "max_width": null,
            "min_height": null,
            "min_width": null,
            "object_fit": null,
            "object_position": null,
            "order": null,
            "overflow": null,
            "overflow_x": null,
            "overflow_y": null,
            "padding": null,
            "right": null,
            "top": null,
            "visibility": null,
            "width": null
          }
        },
        "26ece540e46e4323b16c9c91c23c4f40": {
          "model_module": "@jupyter-widgets/controls",
          "model_name": "DescriptionStyleModel",
          "model_module_version": "1.5.0",
          "state": {
            "_model_module": "@jupyter-widgets/controls",
            "_model_module_version": "1.5.0",
            "_model_name": "DescriptionStyleModel",
            "_view_count": null,
            "_view_module": "@jupyter-widgets/base",
            "_view_module_version": "1.2.0",
            "_view_name": "StyleView",
            "description_width": ""
          }
        },
        "a108d7619c384f2db98e5f12b0d6e3a7": {
          "model_module": "@jupyter-widgets/base",
          "model_name": "LayoutModel",
          "model_module_version": "1.2.0",
          "state": {
            "_model_module": "@jupyter-widgets/base",
            "_model_module_version": "1.2.0",
            "_model_name": "LayoutModel",
            "_view_count": null,
            "_view_module": "@jupyter-widgets/base",
            "_view_module_version": "1.2.0",
            "_view_name": "LayoutView",
            "align_content": null,
            "align_items": null,
            "align_self": null,
            "border": null,
            "bottom": null,
            "display": null,
            "flex": null,
            "flex_flow": null,
            "grid_area": null,
            "grid_auto_columns": null,
            "grid_auto_flow": null,
            "grid_auto_rows": null,
            "grid_column": null,
            "grid_gap": null,
            "grid_row": null,
            "grid_template_areas": null,
            "grid_template_columns": null,
            "grid_template_rows": null,
            "height": null,
            "justify_content": null,
            "justify_items": null,
            "left": null,
            "margin": null,
            "max_height": null,
            "max_width": null,
            "min_height": null,
            "min_width": null,
            "object_fit": null,
            "object_position": null,
            "order": null,
            "overflow": null,
            "overflow_x": null,
            "overflow_y": null,
            "padding": null,
            "right": null,
            "top": null,
            "visibility": null,
            "width": null
          }
        },
        "746dbd4a4cad4e46bec8dd3fba47f532": {
          "model_module": "@jupyter-widgets/controls",
          "model_name": "ProgressStyleModel",
          "model_module_version": "1.5.0",
          "state": {
            "_model_module": "@jupyter-widgets/controls",
            "_model_module_version": "1.5.0",
            "_model_name": "ProgressStyleModel",
            "_view_count": null,
            "_view_module": "@jupyter-widgets/base",
            "_view_module_version": "1.2.0",
            "_view_name": "StyleView",
            "bar_color": null,
            "description_width": ""
          }
        },
        "ea0f9c27ed104377a99c6857dca25ef4": {
          "model_module": "@jupyter-widgets/base",
          "model_name": "LayoutModel",
          "model_module_version": "1.2.0",
          "state": {
            "_model_module": "@jupyter-widgets/base",
            "_model_module_version": "1.2.0",
            "_model_name": "LayoutModel",
            "_view_count": null,
            "_view_module": "@jupyter-widgets/base",
            "_view_module_version": "1.2.0",
            "_view_name": "LayoutView",
            "align_content": null,
            "align_items": null,
            "align_self": null,
            "border": null,
            "bottom": null,
            "display": null,
            "flex": null,
            "flex_flow": null,
            "grid_area": null,
            "grid_auto_columns": null,
            "grid_auto_flow": null,
            "grid_auto_rows": null,
            "grid_column": null,
            "grid_gap": null,
            "grid_row": null,
            "grid_template_areas": null,
            "grid_template_columns": null,
            "grid_template_rows": null,
            "height": null,
            "justify_content": null,
            "justify_items": null,
            "left": null,
            "margin": null,
            "max_height": null,
            "max_width": null,
            "min_height": null,
            "min_width": null,
            "object_fit": null,
            "object_position": null,
            "order": null,
            "overflow": null,
            "overflow_x": null,
            "overflow_y": null,
            "padding": null,
            "right": null,
            "top": null,
            "visibility": null,
            "width": null
          }
        },
        "6f06ebcf2d584ae39289219e9fe425d7": {
          "model_module": "@jupyter-widgets/controls",
          "model_name": "DescriptionStyleModel",
          "model_module_version": "1.5.0",
          "state": {
            "_model_module": "@jupyter-widgets/controls",
            "_model_module_version": "1.5.0",
            "_model_name": "DescriptionStyleModel",
            "_view_count": null,
            "_view_module": "@jupyter-widgets/base",
            "_view_module_version": "1.2.0",
            "_view_name": "StyleView",
            "description_width": ""
          }
        },
        "dcb1810ab61a4a0a8eff33f8f9f732a0": {
          "model_module": "@jupyter-widgets/controls",
          "model_name": "HBoxModel",
          "model_module_version": "1.5.0",
          "state": {
            "_dom_classes": [],
            "_model_module": "@jupyter-widgets/controls",
            "_model_module_version": "1.5.0",
            "_model_name": "HBoxModel",
            "_view_count": null,
            "_view_module": "@jupyter-widgets/controls",
            "_view_module_version": "1.5.0",
            "_view_name": "HBoxView",
            "box_style": "",
            "children": [
              "IPY_MODEL_b8312cf381f340239fd0d56a6e32ba18",
              "IPY_MODEL_f2c610fc4cc54957a8b2a86fa2663de5",
              "IPY_MODEL_dcf4b0ba508b45b5808586bed123050b"
            ],
            "layout": "IPY_MODEL_ea6c5015fd20400486e9c431df5d6d3d"
          }
        },
        "b8312cf381f340239fd0d56a6e32ba18": {
          "model_module": "@jupyter-widgets/controls",
          "model_name": "HTMLModel",
          "model_module_version": "1.5.0",
          "state": {
            "_dom_classes": [],
            "_model_module": "@jupyter-widgets/controls",
            "_model_module_version": "1.5.0",
            "_model_name": "HTMLModel",
            "_view_count": null,
            "_view_module": "@jupyter-widgets/controls",
            "_view_module_version": "1.5.0",
            "_view_name": "HTMLView",
            "description": "",
            "description_tooltip": null,
            "layout": "IPY_MODEL_5716473d6c6e4c08a1a53bc5cee843ff",
            "placeholder": "​",
            "style": "IPY_MODEL_ec41a99c3a9740a0b09fae1e13b039ec",
            "value": "special_tokens_map.json: 100%"
          }
        },
        "f2c610fc4cc54957a8b2a86fa2663de5": {
          "model_module": "@jupyter-widgets/controls",
          "model_name": "FloatProgressModel",
          "model_module_version": "1.5.0",
          "state": {
            "_dom_classes": [],
            "_model_module": "@jupyter-widgets/controls",
            "_model_module_version": "1.5.0",
            "_model_name": "FloatProgressModel",
            "_view_count": null,
            "_view_module": "@jupyter-widgets/controls",
            "_view_module_version": "1.5.0",
            "_view_name": "ProgressView",
            "bar_style": "success",
            "description": "",
            "description_tooltip": null,
            "layout": "IPY_MODEL_f17343dceb34482c8a437a26d0a8257c",
            "max": 420,
            "min": 0,
            "orientation": "horizontal",
            "style": "IPY_MODEL_8c7e19eb307b43c880ae3d4b4fa0ef18",
            "value": 420
          }
        },
        "dcf4b0ba508b45b5808586bed123050b": {
          "model_module": "@jupyter-widgets/controls",
          "model_name": "HTMLModel",
          "model_module_version": "1.5.0",
          "state": {
            "_dom_classes": [],
            "_model_module": "@jupyter-widgets/controls",
            "_model_module_version": "1.5.0",
            "_model_name": "HTMLModel",
            "_view_count": null,
            "_view_module": "@jupyter-widgets/controls",
            "_view_module_version": "1.5.0",
            "_view_name": "HTMLView",
            "description": "",
            "description_tooltip": null,
            "layout": "IPY_MODEL_4973912df04c43e280ff271bf12d5e14",
            "placeholder": "​",
            "style": "IPY_MODEL_f6cc2d2114b0492cbe568bec41de18b0",
            "value": " 420/420 [00:00&lt;00:00, 60.6kB/s]"
          }
        },
        "ea6c5015fd20400486e9c431df5d6d3d": {
          "model_module": "@jupyter-widgets/base",
          "model_name": "LayoutModel",
          "model_module_version": "1.2.0",
          "state": {
            "_model_module": "@jupyter-widgets/base",
            "_model_module_version": "1.2.0",
            "_model_name": "LayoutModel",
            "_view_count": null,
            "_view_module": "@jupyter-widgets/base",
            "_view_module_version": "1.2.0",
            "_view_name": "LayoutView",
            "align_content": null,
            "align_items": null,
            "align_self": null,
            "border": null,
            "bottom": null,
            "display": null,
            "flex": null,
            "flex_flow": null,
            "grid_area": null,
            "grid_auto_columns": null,
            "grid_auto_flow": null,
            "grid_auto_rows": null,
            "grid_column": null,
            "grid_gap": null,
            "grid_row": null,
            "grid_template_areas": null,
            "grid_template_columns": null,
            "grid_template_rows": null,
            "height": null,
            "justify_content": null,
            "justify_items": null,
            "left": null,
            "margin": null,
            "max_height": null,
            "max_width": null,
            "min_height": null,
            "min_width": null,
            "object_fit": null,
            "object_position": null,
            "order": null,
            "overflow": null,
            "overflow_x": null,
            "overflow_y": null,
            "padding": null,
            "right": null,
            "top": null,
            "visibility": null,
            "width": null
          }
        },
        "5716473d6c6e4c08a1a53bc5cee843ff": {
          "model_module": "@jupyter-widgets/base",
          "model_name": "LayoutModel",
          "model_module_version": "1.2.0",
          "state": {
            "_model_module": "@jupyter-widgets/base",
            "_model_module_version": "1.2.0",
            "_model_name": "LayoutModel",
            "_view_count": null,
            "_view_module": "@jupyter-widgets/base",
            "_view_module_version": "1.2.0",
            "_view_name": "LayoutView",
            "align_content": null,
            "align_items": null,
            "align_self": null,
            "border": null,
            "bottom": null,
            "display": null,
            "flex": null,
            "flex_flow": null,
            "grid_area": null,
            "grid_auto_columns": null,
            "grid_auto_flow": null,
            "grid_auto_rows": null,
            "grid_column": null,
            "grid_gap": null,
            "grid_row": null,
            "grid_template_areas": null,
            "grid_template_columns": null,
            "grid_template_rows": null,
            "height": null,
            "justify_content": null,
            "justify_items": null,
            "left": null,
            "margin": null,
            "max_height": null,
            "max_width": null,
            "min_height": null,
            "min_width": null,
            "object_fit": null,
            "object_position": null,
            "order": null,
            "overflow": null,
            "overflow_x": null,
            "overflow_y": null,
            "padding": null,
            "right": null,
            "top": null,
            "visibility": null,
            "width": null
          }
        },
        "ec41a99c3a9740a0b09fae1e13b039ec": {
          "model_module": "@jupyter-widgets/controls",
          "model_name": "DescriptionStyleModel",
          "model_module_version": "1.5.0",
          "state": {
            "_model_module": "@jupyter-widgets/controls",
            "_model_module_version": "1.5.0",
            "_model_name": "DescriptionStyleModel",
            "_view_count": null,
            "_view_module": "@jupyter-widgets/base",
            "_view_module_version": "1.2.0",
            "_view_name": "StyleView",
            "description_width": ""
          }
        },
        "f17343dceb34482c8a437a26d0a8257c": {
          "model_module": "@jupyter-widgets/base",
          "model_name": "LayoutModel",
          "model_module_version": "1.2.0",
          "state": {
            "_model_module": "@jupyter-widgets/base",
            "_model_module_version": "1.2.0",
            "_model_name": "LayoutModel",
            "_view_count": null,
            "_view_module": "@jupyter-widgets/base",
            "_view_module_version": "1.2.0",
            "_view_name": "LayoutView",
            "align_content": null,
            "align_items": null,
            "align_self": null,
            "border": null,
            "bottom": null,
            "display": null,
            "flex": null,
            "flex_flow": null,
            "grid_area": null,
            "grid_auto_columns": null,
            "grid_auto_flow": null,
            "grid_auto_rows": null,
            "grid_column": null,
            "grid_gap": null,
            "grid_row": null,
            "grid_template_areas": null,
            "grid_template_columns": null,
            "grid_template_rows": null,
            "height": null,
            "justify_content": null,
            "justify_items": null,
            "left": null,
            "margin": null,
            "max_height": null,
            "max_width": null,
            "min_height": null,
            "min_width": null,
            "object_fit": null,
            "object_position": null,
            "order": null,
            "overflow": null,
            "overflow_x": null,
            "overflow_y": null,
            "padding": null,
            "right": null,
            "top": null,
            "visibility": null,
            "width": null
          }
        },
        "8c7e19eb307b43c880ae3d4b4fa0ef18": {
          "model_module": "@jupyter-widgets/controls",
          "model_name": "ProgressStyleModel",
          "model_module_version": "1.5.0",
          "state": {
            "_model_module": "@jupyter-widgets/controls",
            "_model_module_version": "1.5.0",
            "_model_name": "ProgressStyleModel",
            "_view_count": null,
            "_view_module": "@jupyter-widgets/base",
            "_view_module_version": "1.2.0",
            "_view_name": "StyleView",
            "bar_color": null,
            "description_width": ""
          }
        },
        "4973912df04c43e280ff271bf12d5e14": {
          "model_module": "@jupyter-widgets/base",
          "model_name": "LayoutModel",
          "model_module_version": "1.2.0",
          "state": {
            "_model_module": "@jupyter-widgets/base",
            "_model_module_version": "1.2.0",
            "_model_name": "LayoutModel",
            "_view_count": null,
            "_view_module": "@jupyter-widgets/base",
            "_view_module_version": "1.2.0",
            "_view_name": "LayoutView",
            "align_content": null,
            "align_items": null,
            "align_self": null,
            "border": null,
            "bottom": null,
            "display": null,
            "flex": null,
            "flex_flow": null,
            "grid_area": null,
            "grid_auto_columns": null,
            "grid_auto_flow": null,
            "grid_auto_rows": null,
            "grid_column": null,
            "grid_gap": null,
            "grid_row": null,
            "grid_template_areas": null,
            "grid_template_columns": null,
            "grid_template_rows": null,
            "height": null,
            "justify_content": null,
            "justify_items": null,
            "left": null,
            "margin": null,
            "max_height": null,
            "max_width": null,
            "min_height": null,
            "min_width": null,
            "object_fit": null,
            "object_position": null,
            "order": null,
            "overflow": null,
            "overflow_x": null,
            "overflow_y": null,
            "padding": null,
            "right": null,
            "top": null,
            "visibility": null,
            "width": null
          }
        },
        "f6cc2d2114b0492cbe568bec41de18b0": {
          "model_module": "@jupyter-widgets/controls",
          "model_name": "DescriptionStyleModel",
          "model_module_version": "1.5.0",
          "state": {
            "_model_module": "@jupyter-widgets/controls",
            "_model_module_version": "1.5.0",
            "_model_name": "DescriptionStyleModel",
            "_view_count": null,
            "_view_module": "@jupyter-widgets/base",
            "_view_module_version": "1.2.0",
            "_view_name": "StyleView",
            "description_width": ""
          }
        },
        "3b363c7638394cb4885a63e5ea70e384": {
          "model_module": "@jupyter-widgets/controls",
          "model_name": "HBoxModel",
          "model_module_version": "1.5.0",
          "state": {
            "_dom_classes": [],
            "_model_module": "@jupyter-widgets/controls",
            "_model_module_version": "1.5.0",
            "_model_name": "HBoxModel",
            "_view_count": null,
            "_view_module": "@jupyter-widgets/controls",
            "_view_module_version": "1.5.0",
            "_view_name": "HBoxView",
            "box_style": "",
            "children": [
              "IPY_MODEL_d7104d3292874514851b007217ecd5f2",
              "IPY_MODEL_8d56832282654cc19ee587086a8a061d",
              "IPY_MODEL_926b512026b146f19c0dc009ff90f771"
            ],
            "layout": "IPY_MODEL_87ff9aa0906d4236b72cd60848d407f3"
          }
        },
        "d7104d3292874514851b007217ecd5f2": {
          "model_module": "@jupyter-widgets/controls",
          "model_name": "HTMLModel",
          "model_module_version": "1.5.0",
          "state": {
            "_dom_classes": [],
            "_model_module": "@jupyter-widgets/controls",
            "_model_module_version": "1.5.0",
            "_model_name": "HTMLModel",
            "_view_count": null,
            "_view_module": "@jupyter-widgets/controls",
            "_view_module_version": "1.5.0",
            "_view_name": "HTMLView",
            "description": "",
            "description_tooltip": null,
            "layout": "IPY_MODEL_fc937d8df9fe4a3195f384b15a16d01a",
            "placeholder": "​",
            "style": "IPY_MODEL_53f08132d588414187d30e450f58a5b7",
            "value": "pytorch_model.bin: 100%"
          }
        },
        "8d56832282654cc19ee587086a8a061d": {
          "model_module": "@jupyter-widgets/controls",
          "model_name": "FloatProgressModel",
          "model_module_version": "1.5.0",
          "state": {
            "_dom_classes": [],
            "_model_module": "@jupyter-widgets/controls",
            "_model_module_version": "1.5.0",
            "_model_name": "FloatProgressModel",
            "_view_count": null,
            "_view_module": "@jupyter-widgets/controls",
            "_view_module_version": "1.5.0",
            "_view_name": "ProgressView",
            "bar_style": "success",
            "description": "",
            "description_tooltip": null,
            "layout": "IPY_MODEL_6d82858d51204147b17983dc13b54459",
            "max": 14036589,
            "min": 0,
            "orientation": "horizontal",
            "style": "IPY_MODEL_e265385b4d2447988eb591e9edbe4264",
            "value": 14036589
          }
        },
        "926b512026b146f19c0dc009ff90f771": {
          "model_module": "@jupyter-widgets/controls",
          "model_name": "HTMLModel",
          "model_module_version": "1.5.0",
          "state": {
            "_dom_classes": [],
            "_model_module": "@jupyter-widgets/controls",
            "_model_module_version": "1.5.0",
            "_model_name": "HTMLModel",
            "_view_count": null,
            "_view_module": "@jupyter-widgets/controls",
            "_view_module_version": "1.5.0",
            "_view_name": "HTMLView",
            "description": "",
            "description_tooltip": null,
            "layout": "IPY_MODEL_2ab16acafd4143d59656354d1b800015",
            "placeholder": "​",
            "style": "IPY_MODEL_e587c84446434d209c04d2897271aff6",
            "value": " 14.0M/14.0M [00:00&lt;00:00, 32.5MB/s]"
          }
        },
        "87ff9aa0906d4236b72cd60848d407f3": {
          "model_module": "@jupyter-widgets/base",
          "model_name": "LayoutModel",
          "model_module_version": "1.2.0",
          "state": {
            "_model_module": "@jupyter-widgets/base",
            "_model_module_version": "1.2.0",
            "_model_name": "LayoutModel",
            "_view_count": null,
            "_view_module": "@jupyter-widgets/base",
            "_view_module_version": "1.2.0",
            "_view_name": "LayoutView",
            "align_content": null,
            "align_items": null,
            "align_self": null,
            "border": null,
            "bottom": null,
            "display": null,
            "flex": null,
            "flex_flow": null,
            "grid_area": null,
            "grid_auto_columns": null,
            "grid_auto_flow": null,
            "grid_auto_rows": null,
            "grid_column": null,
            "grid_gap": null,
            "grid_row": null,
            "grid_template_areas": null,
            "grid_template_columns": null,
            "grid_template_rows": null,
            "height": null,
            "justify_content": null,
            "justify_items": null,
            "left": null,
            "margin": null,
            "max_height": null,
            "max_width": null,
            "min_height": null,
            "min_width": null,
            "object_fit": null,
            "object_position": null,
            "order": null,
            "overflow": null,
            "overflow_x": null,
            "overflow_y": null,
            "padding": null,
            "right": null,
            "top": null,
            "visibility": null,
            "width": null
          }
        },
        "fc937d8df9fe4a3195f384b15a16d01a": {
          "model_module": "@jupyter-widgets/base",
          "model_name": "LayoutModel",
          "model_module_version": "1.2.0",
          "state": {
            "_model_module": "@jupyter-widgets/base",
            "_model_module_version": "1.2.0",
            "_model_name": "LayoutModel",
            "_view_count": null,
            "_view_module": "@jupyter-widgets/base",
            "_view_module_version": "1.2.0",
            "_view_name": "LayoutView",
            "align_content": null,
            "align_items": null,
            "align_self": null,
            "border": null,
            "bottom": null,
            "display": null,
            "flex": null,
            "flex_flow": null,
            "grid_area": null,
            "grid_auto_columns": null,
            "grid_auto_flow": null,
            "grid_auto_rows": null,
            "grid_column": null,
            "grid_gap": null,
            "grid_row": null,
            "grid_template_areas": null,
            "grid_template_columns": null,
            "grid_template_rows": null,
            "height": null,
            "justify_content": null,
            "justify_items": null,
            "left": null,
            "margin": null,
            "max_height": null,
            "max_width": null,
            "min_height": null,
            "min_width": null,
            "object_fit": null,
            "object_position": null,
            "order": null,
            "overflow": null,
            "overflow_x": null,
            "overflow_y": null,
            "padding": null,
            "right": null,
            "top": null,
            "visibility": null,
            "width": null
          }
        },
        "53f08132d588414187d30e450f58a5b7": {
          "model_module": "@jupyter-widgets/controls",
          "model_name": "DescriptionStyleModel",
          "model_module_version": "1.5.0",
          "state": {
            "_model_module": "@jupyter-widgets/controls",
            "_model_module_version": "1.5.0",
            "_model_name": "DescriptionStyleModel",
            "_view_count": null,
            "_view_module": "@jupyter-widgets/base",
            "_view_module_version": "1.2.0",
            "_view_name": "StyleView",
            "description_width": ""
          }
        },
        "6d82858d51204147b17983dc13b54459": {
          "model_module": "@jupyter-widgets/base",
          "model_name": "LayoutModel",
          "model_module_version": "1.2.0",
          "state": {
            "_model_module": "@jupyter-widgets/base",
            "_model_module_version": "1.2.0",
            "_model_name": "LayoutModel",
            "_view_count": null,
            "_view_module": "@jupyter-widgets/base",
            "_view_module_version": "1.2.0",
            "_view_name": "LayoutView",
            "align_content": null,
            "align_items": null,
            "align_self": null,
            "border": null,
            "bottom": null,
            "display": null,
            "flex": null,
            "flex_flow": null,
            "grid_area": null,
            "grid_auto_columns": null,
            "grid_auto_flow": null,
            "grid_auto_rows": null,
            "grid_column": null,
            "grid_gap": null,
            "grid_row": null,
            "grid_template_areas": null,
            "grid_template_columns": null,
            "grid_template_rows": null,
            "height": null,
            "justify_content": null,
            "justify_items": null,
            "left": null,
            "margin": null,
            "max_height": null,
            "max_width": null,
            "min_height": null,
            "min_width": null,
            "object_fit": null,
            "object_position": null,
            "order": null,
            "overflow": null,
            "overflow_x": null,
            "overflow_y": null,
            "padding": null,
            "right": null,
            "top": null,
            "visibility": null,
            "width": null
          }
        },
        "e265385b4d2447988eb591e9edbe4264": {
          "model_module": "@jupyter-widgets/controls",
          "model_name": "ProgressStyleModel",
          "model_module_version": "1.5.0",
          "state": {
            "_model_module": "@jupyter-widgets/controls",
            "_model_module_version": "1.5.0",
            "_model_name": "ProgressStyleModel",
            "_view_count": null,
            "_view_module": "@jupyter-widgets/base",
            "_view_module_version": "1.2.0",
            "_view_name": "StyleView",
            "bar_color": null,
            "description_width": ""
          }
        },
        "2ab16acafd4143d59656354d1b800015": {
          "model_module": "@jupyter-widgets/base",
          "model_name": "LayoutModel",
          "model_module_version": "1.2.0",
          "state": {
            "_model_module": "@jupyter-widgets/base",
            "_model_module_version": "1.2.0",
            "_model_name": "LayoutModel",
            "_view_count": null,
            "_view_module": "@jupyter-widgets/base",
            "_view_module_version": "1.2.0",
            "_view_name": "LayoutView",
            "align_content": null,
            "align_items": null,
            "align_self": null,
            "border": null,
            "bottom": null,
            "display": null,
            "flex": null,
            "flex_flow": null,
            "grid_area": null,
            "grid_auto_columns": null,
            "grid_auto_flow": null,
            "grid_auto_rows": null,
            "grid_column": null,
            "grid_gap": null,
            "grid_row": null,
            "grid_template_areas": null,
            "grid_template_columns": null,
            "grid_template_rows": null,
            "height": null,
            "justify_content": null,
            "justify_items": null,
            "left": null,
            "margin": null,
            "max_height": null,
            "max_width": null,
            "min_height": null,
            "min_width": null,
            "object_fit": null,
            "object_position": null,
            "order": null,
            "overflow": null,
            "overflow_x": null,
            "overflow_y": null,
            "padding": null,
            "right": null,
            "top": null,
            "visibility": null,
            "width": null
          }
        },
        "e587c84446434d209c04d2897271aff6": {
          "model_module": "@jupyter-widgets/controls",
          "model_name": "DescriptionStyleModel",
          "model_module_version": "1.5.0",
          "state": {
            "_model_module": "@jupyter-widgets/controls",
            "_model_module_version": "1.5.0",
            "_model_name": "DescriptionStyleModel",
            "_view_count": null,
            "_view_module": "@jupyter-widgets/base",
            "_view_module_version": "1.2.0",
            "_view_name": "StyleView",
            "description_width": ""
          }
        },
        "7fd989f109174c01a666261a1cefdd3e": {
          "model_module": "@jupyter-widgets/controls",
          "model_name": "HBoxModel",
          "model_module_version": "1.5.0",
          "state": {
            "_dom_classes": [],
            "_model_module": "@jupyter-widgets/controls",
            "_model_module_version": "1.5.0",
            "_model_name": "HBoxModel",
            "_view_count": null,
            "_view_module": "@jupyter-widgets/controls",
            "_view_module_version": "1.5.0",
            "_view_name": "HBoxView",
            "box_style": "",
            "children": [
              "IPY_MODEL_674d0c124eb14a3db9e9bbbb72639981",
              "IPY_MODEL_80473624171845288a80316d87121c0f",
              "IPY_MODEL_13a7cb86713b4a6299280ee172dcd0b4"
            ],
            "layout": "IPY_MODEL_d4a6a5d293c9401d82fabd6722a11aee"
          }
        },
        "674d0c124eb14a3db9e9bbbb72639981": {
          "model_module": "@jupyter-widgets/controls",
          "model_name": "HTMLModel",
          "model_module_version": "1.5.0",
          "state": {
            "_dom_classes": [],
            "_model_module": "@jupyter-widgets/controls",
            "_model_module_version": "1.5.0",
            "_model_name": "HTMLModel",
            "_view_count": null,
            "_view_module": "@jupyter-widgets/controls",
            "_view_module_version": "1.5.0",
            "_view_name": "HTMLView",
            "description": "",
            "description_tooltip": null,
            "layout": "IPY_MODEL_b5f33f3eda3d4db7aaacaf8d67499b72",
            "placeholder": "​",
            "style": "IPY_MODEL_6097364a017a48f29343021e1e186d1c",
            "value": "model.safetensors: 100%"
          }
        },
        "80473624171845288a80316d87121c0f": {
          "model_module": "@jupyter-widgets/controls",
          "model_name": "FloatProgressModel",
          "model_module_version": "1.5.0",
          "state": {
            "_dom_classes": [],
            "_model_module": "@jupyter-widgets/controls",
            "_model_module_version": "1.5.0",
            "_model_name": "FloatProgressModel",
            "_view_count": null,
            "_view_module": "@jupyter-widgets/controls",
            "_view_module_version": "1.5.0",
            "_view_name": "ProgressView",
            "bar_style": "success",
            "description": "",
            "description_tooltip": null,
            "layout": "IPY_MODEL_b8b75ec7e230468abd14ad99a8bec576",
            "max": 14028716,
            "min": 0,
            "orientation": "horizontal",
            "style": "IPY_MODEL_8d079336e1af4ee9ae7f5cb60c41c0f4",
            "value": 14028716
          }
        },
        "13a7cb86713b4a6299280ee172dcd0b4": {
          "model_module": "@jupyter-widgets/controls",
          "model_name": "HTMLModel",
          "model_module_version": "1.5.0",
          "state": {
            "_dom_classes": [],
            "_model_module": "@jupyter-widgets/controls",
            "_model_module_version": "1.5.0",
            "_model_name": "HTMLModel",
            "_view_count": null,
            "_view_module": "@jupyter-widgets/controls",
            "_view_module_version": "1.5.0",
            "_view_name": "HTMLView",
            "description": "",
            "description_tooltip": null,
            "layout": "IPY_MODEL_6223668a4e404795ae5c9bd0722db75e",
            "placeholder": "​",
            "style": "IPY_MODEL_2d56265c689e46ed932e8e2b20452ef8",
            "value": " 14.0M/14.0M [00:00&lt;00:00, 72.1MB/s]"
          }
        },
        "d4a6a5d293c9401d82fabd6722a11aee": {
          "model_module": "@jupyter-widgets/base",
          "model_name": "LayoutModel",
          "model_module_version": "1.2.0",
          "state": {
            "_model_module": "@jupyter-widgets/base",
            "_model_module_version": "1.2.0",
            "_model_name": "LayoutModel",
            "_view_count": null,
            "_view_module": "@jupyter-widgets/base",
            "_view_module_version": "1.2.0",
            "_view_name": "LayoutView",
            "align_content": null,
            "align_items": null,
            "align_self": null,
            "border": null,
            "bottom": null,
            "display": null,
            "flex": null,
            "flex_flow": null,
            "grid_area": null,
            "grid_auto_columns": null,
            "grid_auto_flow": null,
            "grid_auto_rows": null,
            "grid_column": null,
            "grid_gap": null,
            "grid_row": null,
            "grid_template_areas": null,
            "grid_template_columns": null,
            "grid_template_rows": null,
            "height": null,
            "justify_content": null,
            "justify_items": null,
            "left": null,
            "margin": null,
            "max_height": null,
            "max_width": null,
            "min_height": null,
            "min_width": null,
            "object_fit": null,
            "object_position": null,
            "order": null,
            "overflow": null,
            "overflow_x": null,
            "overflow_y": null,
            "padding": null,
            "right": null,
            "top": null,
            "visibility": null,
            "width": null
          }
        },
        "b5f33f3eda3d4db7aaacaf8d67499b72": {
          "model_module": "@jupyter-widgets/base",
          "model_name": "LayoutModel",
          "model_module_version": "1.2.0",
          "state": {
            "_model_module": "@jupyter-widgets/base",
            "_model_module_version": "1.2.0",
            "_model_name": "LayoutModel",
            "_view_count": null,
            "_view_module": "@jupyter-widgets/base",
            "_view_module_version": "1.2.0",
            "_view_name": "LayoutView",
            "align_content": null,
            "align_items": null,
            "align_self": null,
            "border": null,
            "bottom": null,
            "display": null,
            "flex": null,
            "flex_flow": null,
            "grid_area": null,
            "grid_auto_columns": null,
            "grid_auto_flow": null,
            "grid_auto_rows": null,
            "grid_column": null,
            "grid_gap": null,
            "grid_row": null,
            "grid_template_areas": null,
            "grid_template_columns": null,
            "grid_template_rows": null,
            "height": null,
            "justify_content": null,
            "justify_items": null,
            "left": null,
            "margin": null,
            "max_height": null,
            "max_width": null,
            "min_height": null,
            "min_width": null,
            "object_fit": null,
            "object_position": null,
            "order": null,
            "overflow": null,
            "overflow_x": null,
            "overflow_y": null,
            "padding": null,
            "right": null,
            "top": null,
            "visibility": null,
            "width": null
          }
        },
        "6097364a017a48f29343021e1e186d1c": {
          "model_module": "@jupyter-widgets/controls",
          "model_name": "DescriptionStyleModel",
          "model_module_version": "1.5.0",
          "state": {
            "_model_module": "@jupyter-widgets/controls",
            "_model_module_version": "1.5.0",
            "_model_name": "DescriptionStyleModel",
            "_view_count": null,
            "_view_module": "@jupyter-widgets/base",
            "_view_module_version": "1.2.0",
            "_view_name": "StyleView",
            "description_width": ""
          }
        },
        "b8b75ec7e230468abd14ad99a8bec576": {
          "model_module": "@jupyter-widgets/base",
          "model_name": "LayoutModel",
          "model_module_version": "1.2.0",
          "state": {
            "_model_module": "@jupyter-widgets/base",
            "_model_module_version": "1.2.0",
            "_model_name": "LayoutModel",
            "_view_count": null,
            "_view_module": "@jupyter-widgets/base",
            "_view_module_version": "1.2.0",
            "_view_name": "LayoutView",
            "align_content": null,
            "align_items": null,
            "align_self": null,
            "border": null,
            "bottom": null,
            "display": null,
            "flex": null,
            "flex_flow": null,
            "grid_area": null,
            "grid_auto_columns": null,
            "grid_auto_flow": null,
            "grid_auto_rows": null,
            "grid_column": null,
            "grid_gap": null,
            "grid_row": null,
            "grid_template_areas": null,
            "grid_template_columns": null,
            "grid_template_rows": null,
            "height": null,
            "justify_content": null,
            "justify_items": null,
            "left": null,
            "margin": null,
            "max_height": null,
            "max_width": null,
            "min_height": null,
            "min_width": null,
            "object_fit": null,
            "object_position": null,
            "order": null,
            "overflow": null,
            "overflow_x": null,
            "overflow_y": null,
            "padding": null,
            "right": null,
            "top": null,
            "visibility": null,
            "width": null
          }
        },
        "8d079336e1af4ee9ae7f5cb60c41c0f4": {
          "model_module": "@jupyter-widgets/controls",
          "model_name": "ProgressStyleModel",
          "model_module_version": "1.5.0",
          "state": {
            "_model_module": "@jupyter-widgets/controls",
            "_model_module_version": "1.5.0",
            "_model_name": "ProgressStyleModel",
            "_view_count": null,
            "_view_module": "@jupyter-widgets/base",
            "_view_module_version": "1.2.0",
            "_view_name": "StyleView",
            "bar_color": null,
            "description_width": ""
          }
        },
        "6223668a4e404795ae5c9bd0722db75e": {
          "model_module": "@jupyter-widgets/base",
          "model_name": "LayoutModel",
          "model_module_version": "1.2.0",
          "state": {
            "_model_module": "@jupyter-widgets/base",
            "_model_module_version": "1.2.0",
            "_model_name": "LayoutModel",
            "_view_count": null,
            "_view_module": "@jupyter-widgets/base",
            "_view_module_version": "1.2.0",
            "_view_name": "LayoutView",
            "align_content": null,
            "align_items": null,
            "align_self": null,
            "border": null,
            "bottom": null,
            "display": null,
            "flex": null,
            "flex_flow": null,
            "grid_area": null,
            "grid_auto_columns": null,
            "grid_auto_flow": null,
            "grid_auto_rows": null,
            "grid_column": null,
            "grid_gap": null,
            "grid_row": null,
            "grid_template_areas": null,
            "grid_template_columns": null,
            "grid_template_rows": null,
            "height": null,
            "justify_content": null,
            "justify_items": null,
            "left": null,
            "margin": null,
            "max_height": null,
            "max_width": null,
            "min_height": null,
            "min_width": null,
            "object_fit": null,
            "object_position": null,
            "order": null,
            "overflow": null,
            "overflow_x": null,
            "overflow_y": null,
            "padding": null,
            "right": null,
            "top": null,
            "visibility": null,
            "width": null
          }
        },
        "2d56265c689e46ed932e8e2b20452ef8": {
          "model_module": "@jupyter-widgets/controls",
          "model_name": "DescriptionStyleModel",
          "model_module_version": "1.5.0",
          "state": {
            "_model_module": "@jupyter-widgets/controls",
            "_model_module_version": "1.5.0",
            "_model_name": "DescriptionStyleModel",
            "_view_count": null,
            "_view_module": "@jupyter-widgets/base",
            "_view_module_version": "1.2.0",
            "_view_name": "StyleView",
            "description_width": ""
          }
        }
      }
    }
  },
  "nbformat": 4,
  "nbformat_minor": 0
}